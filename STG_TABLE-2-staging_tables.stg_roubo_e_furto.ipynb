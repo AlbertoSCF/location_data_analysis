{
 "cells": [
  {
   "cell_type": "code",
   "execution_count": 1,
   "id": "a0c614c8",
   "metadata": {},
   "outputs": [],
   "source": [
    "import pandas as pd\n"
   ]
  },
  {
   "cell_type": "markdown",
   "id": "1dbe84d6",
   "metadata": {},
   "source": [
    "Download robo e furto data:\n",
    "\n",
    "- Can be downloaded [here](http://www.ssp.sp.gov.br/transparenciassp/)\n",
    "- The downloads are really slow , so I have also stored the raw data [here](https://drive.google.com/drive/folders/1L3rXeIPOtuK1NYG2zsV9eEUeSvX3ojVt)\n",
    "- No manipulation is done over the raw files, loading them as indicated below\n",
    "\n",
    "---\n",
    "\n",
    "## 1. Reading the data\n",
    "\n",
    "Read robo e furto data"
   ]
  },
  {
   "cell_type": "code",
   "execution_count": 2,
   "id": "254dd721",
   "metadata": {},
   "outputs": [
    {
     "name": "stdout",
     "output_type": "stream",
     "text": [
      "Usable data for roubo, 2020/7 with 5838 records\n",
      "Usable data for roubo, 2020/8 with 5500 records\n",
      "Usable data for roubo, 2020/9 with 5783 records\n",
      "Usable data for roubo, 2020/10 with 6716 records\n",
      "Usable data for roubo, 2020/11 with 6772 records\n",
      "Usable data for roubo, 2020/12 with 8525 records\n",
      "Usable data for roubo, 2021/1 with 6770 records\n",
      "Usable data for roubo, 2021/2 with 6251 records\n",
      "Usable data for roubo, 2021/3 with 6396 records\n",
      "Usable data for roubo, 2021/4 with 5703 records\n",
      "Usable data for roubo, 2021/5 with 5776 records\n",
      "Usable data for roubo, 2021/6 with 5336 records\n",
      "Usable data for roubo, 2021/7 with 5363 records\n",
      "Usable data for roubo, 2021/8 with 5953 records\n",
      "Usable data for roubo, 2021/9 with 6181 records\n",
      "Usable data for roubo, 2021/10 with 6713 records\n",
      "Usable data for furto, 2020/7 with 7557 records\n",
      "Usable data for furto, 2020/8 with 6755 records\n",
      "Usable data for furto, 2020/9 with 7109 records\n",
      "Usable data for furto, 2020/10 with 7788 records\n",
      "Usable data for furto, 2020/11 with 7693 records\n",
      "Usable data for furto, 2020/12 with 7034 records\n",
      "Usable data for furto, 2021/1 with 7516 records\n",
      "Usable data for furto, 2021/2 with 7897 records\n",
      "Usable data for furto, 2021/3 with 8192 records\n",
      "Usable data for furto, 2021/4 with 7665 records\n",
      "Usable data for furto, 2021/5 with 8276 records\n",
      "Usable data for furto, 2021/6 with 7937 records\n",
      "Usable data for furto, 2021/7 with 8188 records\n",
      "Usable data for furto, 2021/8 with 8404 records\n",
      "Usable data for furto, 2021/9 with 8599 records\n",
      "Usable data for furto, 2021/10 with 9680 records\n"
     ]
    }
   ],
   "source": [
    "# Initialize the data\n",
    "all_data = {'roubo': dict(), 'furto': dict()}\n",
    "\n",
    "# Try to parse each file\n",
    "for data_type in ['roubo', 'furto']:\n",
    "    for year in ['2020', '2021']:\n",
    "        for month in range(1,13):\n",
    "            \n",
    "            # Try to load the data\n",
    "            data = None\n",
    "            try:\n",
    "                with open(f\"data/roubo_e_furto_raw/{data_type}/DadosBO_{year}_{str(month)}({data_type.upper()} DE VEÍCULOS).xls\", \n",
    "                          'r', \n",
    "                          encoding='utf-16-le' ) as filein:\n",
    "\n",
    "                    data = pd.read_csv(filein,sep='\\t')\n",
    "            \n",
    "            except:\n",
    "                pass\n",
    "            \n",
    "            # If some data has been loaded\n",
    "            if type(data)==pd.core.frame.DataFrame:\n",
    "                print(f'Usable data for {data_type}, {year}/{str(month)} with {data.shape[0]} records')\n",
    "\n",
    "                # Append it\n",
    "                all_data[data_type][year+'_'+str(month)] = data\n",
    "            \n",
    "            "
   ]
  },
  {
   "cell_type": "markdown",
   "id": "89874d3c",
   "metadata": {},
   "source": [
    "Check that data formats are consistent across tables"
   ]
  },
  {
   "cell_type": "code",
   "execution_count": 3,
   "id": "f411b3d6",
   "metadata": {},
   "outputs": [
    {
     "data": {
      "text/html": [
       "<div>\n",
       "<style scoped>\n",
       "    .dataframe tbody tr th:only-of-type {\n",
       "        vertical-align: middle;\n",
       "    }\n",
       "\n",
       "    .dataframe tbody tr th {\n",
       "        vertical-align: top;\n",
       "    }\n",
       "\n",
       "    .dataframe thead th {\n",
       "        text-align: right;\n",
       "    }\n",
       "</style>\n",
       "<table border=\"1\" class=\"dataframe\">\n",
       "  <thead>\n",
       "    <tr style=\"text-align: right;\">\n",
       "      <th></th>\n",
       "      <th>data_type</th>\n",
       "      <th>date</th>\n",
       "      <th>format</th>\n",
       "    </tr>\n",
       "  </thead>\n",
       "  <tbody>\n",
       "    <tr>\n",
       "      <th>0</th>\n",
       "      <td>roubo</td>\n",
       "      <td>2020_7</td>\n",
       "      <td>[ANO_BO, NUM_BO, NUMERO_BOLETIM, BO_INICIADO, ...</td>\n",
       "    </tr>\n",
       "    <tr>\n",
       "      <th>1</th>\n",
       "      <td>roubo</td>\n",
       "      <td>2020_8</td>\n",
       "      <td>[ANO_BO, NUM_BO, NUMERO_BOLETIM, BO_INICIADO, ...</td>\n",
       "    </tr>\n",
       "    <tr>\n",
       "      <th>2</th>\n",
       "      <td>roubo</td>\n",
       "      <td>2020_9</td>\n",
       "      <td>[ANO_BO, NUM_BO, NUMERO_BOLETIM, BO_INICIADO, ...</td>\n",
       "    </tr>\n",
       "    <tr>\n",
       "      <th>3</th>\n",
       "      <td>roubo</td>\n",
       "      <td>2020_10</td>\n",
       "      <td>[ANO_BO, NUM_BO, NUMERO_BOLETIM, BO_INICIADO, ...</td>\n",
       "    </tr>\n",
       "    <tr>\n",
       "      <th>4</th>\n",
       "      <td>roubo</td>\n",
       "      <td>2020_11</td>\n",
       "      <td>[ANO_BO, NUM_BO, NUMERO_BOLETIM, BO_INICIADO, ...</td>\n",
       "    </tr>\n",
       "  </tbody>\n",
       "</table>\n",
       "</div>"
      ],
      "text/plain": [
       "  data_type     date                                             format\n",
       "0     roubo   2020_7  [ANO_BO, NUM_BO, NUMERO_BOLETIM, BO_INICIADO, ...\n",
       "1     roubo   2020_8  [ANO_BO, NUM_BO, NUMERO_BOLETIM, BO_INICIADO, ...\n",
       "2     roubo   2020_9  [ANO_BO, NUM_BO, NUMERO_BOLETIM, BO_INICIADO, ...\n",
       "3     roubo  2020_10  [ANO_BO, NUM_BO, NUMERO_BOLETIM, BO_INICIADO, ...\n",
       "4     roubo  2020_11  [ANO_BO, NUM_BO, NUMERO_BOLETIM, BO_INICIADO, ..."
      ]
     },
     "metadata": {},
     "output_type": "display_data"
    },
    {
     "name": "stdout",
     "output_type": "stream",
     "text": [
      "Number of unique formats: 1\n"
     ]
    }
   ],
   "source": [
    "all_formats = []\n",
    "    \n",
    "for data_type in ['roubo', 'furto']:\n",
    "    for date, data in all_data[data_type].items():\n",
    "        all_formats.append({'data_type': data_type,\n",
    "                            'date': date,\n",
    "                            'format': list(data.columns)})\n",
    "\n",
    "all_formats = pd.DataFrame(all_formats)\n",
    "display(all_formats.head())\n",
    "\n",
    "print('Number of unique formats:', all_formats['format'].astype(str).nunique())\n"
   ]
  },
  {
   "cell_type": "markdown",
   "id": "c95548ae",
   "metadata": {},
   "source": [
    "One unique format so we can merge all in one table!"
   ]
  },
  {
   "cell_type": "code",
   "execution_count": 4,
   "id": "13e4c698",
   "metadata": {},
   "outputs": [],
   "source": [
    "# Create empty dataframe\n",
    "new_cols = ['incident_type', 'file_download_year', 'file_download_month']\n",
    "final_data = pd.DataFrame(columns=new_cols+list(data.columns))\n",
    "\n",
    "# Append to this df all the previous data\n",
    "for data_type in ['roubo', 'furto']:\n",
    "    for date, data in all_data[data_type].items():\n",
    "        final_data = pd.concat([final_data,\n",
    "                                pd.concat([pd.DataFrame([[data_type, int(date.split('_')[0]), int(date.split('_')[1])]]*data.shape[0], columns=new_cols),\n",
    "                                           data], \n",
    "                                          axis=1)],\n",
    "                               axis=0)\n",
    "        "
   ]
  },
  {
   "cell_type": "markdown",
   "id": "8565ebb1",
   "metadata": {},
   "source": [
    "Compare number of records with the ones in the load process"
   ]
  },
  {
   "cell_type": "code",
   "execution_count": 5,
   "id": "9cbcd46f",
   "metadata": {},
   "outputs": [
    {
     "data": {
      "text/plain": [
       "5336"
      ]
     },
     "execution_count": 5,
     "metadata": {},
     "output_type": "execute_result"
    }
   ],
   "source": [
    "final_data[(final_data['incident_type']=='roubo') & \n",
    "           (final_data['file_download_year']==2021) & \n",
    "           (final_data['file_download_month']==6)].shape[0]"
   ]
  },
  {
   "cell_type": "code",
   "execution_count": 6,
   "id": "874fe1f8",
   "metadata": {},
   "outputs": [
    {
     "data": {
      "text/plain": [
       "7937"
      ]
     },
     "execution_count": 6,
     "metadata": {},
     "output_type": "execute_result"
    }
   ],
   "source": [
    "final_data[(final_data['incident_type']=='furto') & \n",
    "           (final_data['file_download_year']==2021) & \n",
    "           (final_data['file_download_month']==6)].shape[0]"
   ]
  },
  {
   "cell_type": "markdown",
   "id": "2ee47353",
   "metadata": {},
   "source": [
    "---\n",
    "## 2. Cleaning the table\n",
    "Keep a relevant table schema"
   ]
  },
  {
   "cell_type": "code",
   "execution_count": 7,
   "id": "84dc64c4",
   "metadata": {},
   "outputs": [],
   "source": [
    "# Filter and reorder columns\n",
    "final_data = final_data[['incident_type', 'file_download_year', 'file_download_month', # File info\n",
    "                         'NUMERO_BOLETIM', 'BO_INICIADO', 'BO_EMITIDO', # Boletin\n",
    "                         'DATAOCORRENCIA', 'HORAOCORRENCIA', # When it happened\n",
    "                         'LOGRADOURO', 'NUMERO', 'BAIRRO', 'CIDADE', 'LATITUDE', 'LONGITUDE', 'DESCRICAOLOCAL', # Where it happened\n",
    "                         'STATUS', 'BO_AUTORIA', # Did it happen? Do we know who did it?\n",
    "                         'RUBRICA', 'DESDOBRAMENTO', # Some free text info\n",
    "                         'TIPOPESSOA', 'VITIMAFATAL', 'NATURALIDADE', 'NACIONALIDADE', 'SEXO', 'DATANASCIMENTO', 'IDADE', 'NATUREZAVINCULADA', 'TIPOVINCULO', # WHo did it\n",
    "                         'PLACA_VEICULO', 'UF_VEICULO', 'CIDADE_VEICULO', 'DESCR_COR_VEICULO', 'DESCR_MARCA_VEICULO', 'ANO_FABRICACAO','ANO_MODELO', 'DESCR_TIPO_VEICULO' # Vehicle info\n",
    "                        ]].copy()\n"
   ]
  },
  {
   "cell_type": "markdown",
   "id": "99dcd9f9",
   "metadata": {},
   "source": [
    "Check integrity of the latitude longitude data"
   ]
  },
  {
   "cell_type": "code",
   "execution_count": 8,
   "id": "3b4717c9",
   "metadata": {},
   "outputs": [
    {
     "data": {
      "text/plain": [
       "False    0.877352\n",
       "True     0.122648\n",
       "Name: LATITUDE, dtype: float64"
      ]
     },
     "metadata": {},
     "output_type": "display_data"
    },
    {
     "data": {
      "text/plain": [
       "False    0.877352\n",
       "True     0.122648\n",
       "Name: LONGITUDE, dtype: float64"
      ]
     },
     "metadata": {},
     "output_type": "display_data"
    },
    {
     "data": {
      "text/plain": [
       "False    198164\n",
       "Name: LONGITUDE, dtype: int64"
      ]
     },
     "metadata": {},
     "output_type": "display_data"
    },
    {
     "data": {
      "text/plain": [
       "False    198164\n",
       "Name: LATITUDE, dtype: int64"
      ]
     },
     "metadata": {},
     "output_type": "display_data"
    }
   ],
   "source": [
    "# Fix coordinates data\n",
    "final_data['LATITUDE']  = final_data.LATITUDE .astype(str).apply(lambda x: x.replace(',', '.')).astype(float)\n",
    "final_data['LONGITUDE'] = final_data.LONGITUDE.astype(str).apply(lambda x: x.replace(',', '.')).astype(float)\n",
    "\n",
    "# Missing values?\n",
    "display(final_data.LATITUDE.isna().value_counts(normalize=True))\n",
    "display(final_data.LONGITUDE.isna().value_counts(normalize=True))\n",
    "\n",
    "# Both informed?\n",
    "display(final_data.dropna(subset=['LATITUDE']).LONGITUDE.isna().value_counts())\n",
    "display(final_data.dropna(subset=['LONGITUDE']).LATITUDE.isna().value_counts())"
   ]
  },
  {
   "cell_type": "code",
   "execution_count": 9,
   "id": "dfac5dd4",
   "metadata": {},
   "outputs": [
    {
     "data": {
      "text/plain": [
       "<AxesSubplot:xlabel='LONGITUDE', ylabel='LATITUDE'>"
      ]
     },
     "execution_count": 9,
     "metadata": {},
     "output_type": "execute_result"
    },
    {
     "data": {
      "image/png": "[encoded data removed]",
      "text/plain": [
       "<Figure size 432x288 with 1 Axes>"
      ]
     },
     "metadata": {
      "needs_background": "light"
     },
     "output_type": "display_data"
    }
   ],
   "source": [
    "final_data.plot.scatter(x='LONGITUDE', y='LATITUDE')"
   ]
  },
  {
   "cell_type": "markdown",
   "id": "31b74c77",
   "metadata": {},
   "source": [
    "Define column types"
   ]
  },
  {
   "cell_type": "code",
   "execution_count": 10,
   "id": "63a65a93",
   "metadata": {},
   "outputs": [
    {
     "name": "stdout",
     "output_type": "stream",
     "text": [
      "incident_type\n",
      "file_download_year\n",
      "file_download_month\n",
      "NUMERO_BOLETIM\n",
      "BO_INICIADO\n",
      "BO_EMITIDO\n",
      "DATAOCORRENCIA\n",
      "HORAOCORRENCIA\n",
      "LOGRADOURO\n",
      "NUMERO\n",
      "BAIRRO\n",
      "CIDADE\n",
      "LATITUDE\n",
      "LONGITUDE\n",
      "DESCRICAOLOCAL\n",
      "STATUS\n",
      "BO_AUTORIA\n",
      "RUBRICA\n",
      "DESDOBRAMENTO\n",
      "TIPOPESSOA\n",
      "VITIMAFATAL\n",
      "NATURALIDADE\n",
      "NACIONALIDADE\n",
      "SEXO\n",
      "DATANASCIMENTO\n",
      "IDADE\n",
      "NATUREZAVINCULADA\n",
      "TIPOVINCULO\n",
      "PLACA_VEICULO\n",
      "UF_VEICULO\n",
      "CIDADE_VEICULO\n",
      "DESCR_COR_VEICULO\n",
      "DESCR_MARCA_VEICULO\n",
      "ANO_FABRICACAO\n",
      "ANO_MODELO\n",
      "DESCR_TIPO_VEICULO\n"
     ]
    }
   ],
   "source": [
    "col_types = {\n",
    "    'file_download_year': float,\n",
    "    'file_download_month': float,\n",
    "    'NUMERO': float,\n",
    "    'LATITUDE': float,\n",
    "    'LONGITUDE': float,\n",
    "    'ANO_FABRICACAO': float,\n",
    "    'ANO_MODELO': float,\n",
    "    \n",
    "}\n",
    "\n",
    "for col in final_data.columns:\n",
    "    if col in col_types.keys():\n",
    "        col_type = col_types[col]\n",
    "    else:\n",
    "        col_type = str\n",
    "    print(col)\n",
    "    final_data[col] = final_data[col].astype(col_type)\n",
    "    "
   ]
  },
  {
   "cell_type": "markdown",
   "id": "82326d10",
   "metadata": {},
   "source": [
    "Convert columns to lower case"
   ]
  },
  {
   "cell_type": "code",
   "execution_count": 11,
   "id": "30239db7",
   "metadata": {},
   "outputs": [
    {
     "data": {
      "text/html": [
       "<div>\n",
       "<style scoped>\n",
       "    .dataframe tbody tr th:only-of-type {\n",
       "        vertical-align: middle;\n",
       "    }\n",
       "\n",
       "    .dataframe tbody tr th {\n",
       "        vertical-align: top;\n",
       "    }\n",
       "\n",
       "    .dataframe thead th {\n",
       "        text-align: right;\n",
       "    }\n",
       "</style>\n",
       "<table border=\"1\" class=\"dataframe\">\n",
       "  <thead>\n",
       "    <tr style=\"text-align: right;\">\n",
       "      <th></th>\n",
       "      <th>incident_type</th>\n",
       "      <th>file_download_year</th>\n",
       "      <th>file_download_month</th>\n",
       "      <th>numero_boletim</th>\n",
       "      <th>bo_iniciado</th>\n",
       "      <th>bo_emitido</th>\n",
       "      <th>dataocorrencia</th>\n",
       "      <th>horaocorrencia</th>\n",
       "      <th>logradouro</th>\n",
       "      <th>numero</th>\n",
       "      <th>...</th>\n",
       "      <th>naturezavinculada</th>\n",
       "      <th>tipovinculo</th>\n",
       "      <th>placa_veiculo</th>\n",
       "      <th>uf_veiculo</th>\n",
       "      <th>cidade_veiculo</th>\n",
       "      <th>descr_cor_veiculo</th>\n",
       "      <th>descr_marca_veiculo</th>\n",
       "      <th>ano_fabricacao</th>\n",
       "      <th>ano_modelo</th>\n",
       "      <th>descr_tipo_veiculo</th>\n",
       "    </tr>\n",
       "  </thead>\n",
       "  <tbody>\n",
       "    <tr>\n",
       "      <th>0</th>\n",
       "      <td>roubo</td>\n",
       "      <td>2020.0</td>\n",
       "      <td>7.0</td>\n",
       "      <td>877931/2020</td>\n",
       "      <td>01/07/2020 00:11:43</td>\n",
       "      <td>01/07/2020 00:11:40</td>\n",
       "      <td>30/06/2020</td>\n",
       "      <td>23:10</td>\n",
       "      <td>RUA JORGE BELLIX</td>\n",
       "      <td>22.0</td>\n",
       "      <td>...</td>\n",
       "      <td>nan</td>\n",
       "      <td>nan</td>\n",
       "      <td>nan</td>\n",
       "      <td>nan</td>\n",
       "      <td>nan</td>\n",
       "      <td>Preta</td>\n",
       "      <td>nan</td>\n",
       "      <td>NaN</td>\n",
       "      <td>NaN</td>\n",
       "      <td>MOTOCICLO</td>\n",
       "    </tr>\n",
       "    <tr>\n",
       "      <th>1</th>\n",
       "      <td>roubo</td>\n",
       "      <td>2020.0</td>\n",
       "      <td>7.0</td>\n",
       "      <td>877931/2020</td>\n",
       "      <td>01/07/2020 00:11:43</td>\n",
       "      <td>01/07/2020 00:11:40</td>\n",
       "      <td>30/06/2020</td>\n",
       "      <td>23:10</td>\n",
       "      <td>RUA JORGE BELLIX</td>\n",
       "      <td>22.0</td>\n",
       "      <td>...</td>\n",
       "      <td>nan</td>\n",
       "      <td>nan</td>\n",
       "      <td>EJC8914</td>\n",
       "      <td>SP</td>\n",
       "      <td>PEDREIRA</td>\n",
       "      <td>Cinza</td>\n",
       "      <td>I/HONDA CIVIC LXS</td>\n",
       "      <td>2009.0</td>\n",
       "      <td>NaN</td>\n",
       "      <td>AUTOMOVEL</td>\n",
       "    </tr>\n",
       "    <tr>\n",
       "      <th>2</th>\n",
       "      <td>roubo</td>\n",
       "      <td>2020.0</td>\n",
       "      <td>7.0</td>\n",
       "      <td>877966/2020</td>\n",
       "      <td>01/07/2020 00:14:38</td>\n",
       "      <td>01/07/2020 00:14:40</td>\n",
       "      <td>30/06/2020</td>\n",
       "      <td>18:50</td>\n",
       "      <td>RUA MANOEL BANDEIRA</td>\n",
       "      <td>128.0</td>\n",
       "      <td>...</td>\n",
       "      <td>nan</td>\n",
       "      <td>nan</td>\n",
       "      <td>ECH8287</td>\n",
       "      <td>SP</td>\n",
       "      <td>SÃO PAULO</td>\n",
       "      <td>Verde</td>\n",
       "      <td>KAWASAKI/NINJA 650R ABS</td>\n",
       "      <td>2010.0</td>\n",
       "      <td>NaN</td>\n",
       "      <td>MOTOCICLO</td>\n",
       "    </tr>\n",
       "    <tr>\n",
       "      <th>3</th>\n",
       "      <td>roubo</td>\n",
       "      <td>2020.0</td>\n",
       "      <td>7.0</td>\n",
       "      <td>877932/2020</td>\n",
       "      <td>01/07/2020 00:20:24</td>\n",
       "      <td>01/07/2020 00:20:16</td>\n",
       "      <td>30/06/2020</td>\n",
       "      <td>22:05</td>\n",
       "      <td>RUA XIRO</td>\n",
       "      <td>43.0</td>\n",
       "      <td>...</td>\n",
       "      <td>nan</td>\n",
       "      <td>nan</td>\n",
       "      <td>nan</td>\n",
       "      <td>nan</td>\n",
       "      <td>nan</td>\n",
       "      <td>Vermelho</td>\n",
       "      <td>nan</td>\n",
       "      <td>NaN</td>\n",
       "      <td>NaN</td>\n",
       "      <td>MOTOCICLO</td>\n",
       "    </tr>\n",
       "    <tr>\n",
       "      <th>4</th>\n",
       "      <td>roubo</td>\n",
       "      <td>2020.0</td>\n",
       "      <td>7.0</td>\n",
       "      <td>877932/2020</td>\n",
       "      <td>01/07/2020 00:20:24</td>\n",
       "      <td>01/07/2020 00:20:16</td>\n",
       "      <td>30/06/2020</td>\n",
       "      <td>22:05</td>\n",
       "      <td>RUA XIRO</td>\n",
       "      <td>43.0</td>\n",
       "      <td>...</td>\n",
       "      <td>nan</td>\n",
       "      <td>nan</td>\n",
       "      <td>DOS2121</td>\n",
       "      <td>SP</td>\n",
       "      <td>SÃO PAULO</td>\n",
       "      <td>Preta</td>\n",
       "      <td>I/HONDA CIVIC LXS</td>\n",
       "      <td>2004.0</td>\n",
       "      <td>NaN</td>\n",
       "      <td>AUTOMOVEL</td>\n",
       "    </tr>\n",
       "  </tbody>\n",
       "</table>\n",
       "<p>5 rows × 36 columns</p>\n",
       "</div>"
      ],
      "text/plain": [
       "  incident_type  file_download_year  file_download_month numero_boletim  \\\n",
       "0         roubo              2020.0                  7.0    877931/2020   \n",
       "1         roubo              2020.0                  7.0    877931/2020   \n",
       "2         roubo              2020.0                  7.0    877966/2020   \n",
       "3         roubo              2020.0                  7.0    877932/2020   \n",
       "4         roubo              2020.0                  7.0    877932/2020   \n",
       "\n",
       "           bo_iniciado           bo_emitido dataocorrencia horaocorrencia  \\\n",
       "0  01/07/2020 00:11:43  01/07/2020 00:11:40     30/06/2020          23:10   \n",
       "1  01/07/2020 00:11:43  01/07/2020 00:11:40     30/06/2020          23:10   \n",
       "2  01/07/2020 00:14:38  01/07/2020 00:14:40     30/06/2020          18:50   \n",
       "3  01/07/2020 00:20:24  01/07/2020 00:20:16     30/06/2020          22:05   \n",
       "4  01/07/2020 00:20:24  01/07/2020 00:20:16     30/06/2020          22:05   \n",
       "\n",
       "            logradouro  numero  ... naturezavinculada tipovinculo  \\\n",
       "0     RUA JORGE BELLIX    22.0  ...               nan         nan   \n",
       "1     RUA JORGE BELLIX    22.0  ...               nan         nan   \n",
       "2  RUA MANOEL BANDEIRA   128.0  ...               nan         nan   \n",
       "3             RUA XIRO    43.0  ...               nan         nan   \n",
       "4             RUA XIRO    43.0  ...               nan         nan   \n",
       "\n",
       "   placa_veiculo  uf_veiculo cidade_veiculo descr_cor_veiculo  \\\n",
       "0            nan         nan            nan             Preta   \n",
       "1        EJC8914          SP       PEDREIRA             Cinza   \n",
       "2        ECH8287          SP      SÃO PAULO             Verde   \n",
       "3            nan         nan            nan          Vermelho   \n",
       "4        DOS2121          SP      SÃO PAULO             Preta   \n",
       "\n",
       "       descr_marca_veiculo ano_fabricacao ano_modelo descr_tipo_veiculo  \n",
       "0                      nan            NaN        NaN          MOTOCICLO  \n",
       "1        I/HONDA CIVIC LXS         2009.0        NaN          AUTOMOVEL  \n",
       "2  KAWASAKI/NINJA 650R ABS         2010.0        NaN          MOTOCICLO  \n",
       "3                      nan            NaN        NaN          MOTOCICLO  \n",
       "4        I/HONDA CIVIC LXS         2004.0        NaN          AUTOMOVEL  \n",
       "\n",
       "[5 rows x 36 columns]"
      ]
     },
     "execution_count": 11,
     "metadata": {},
     "output_type": "execute_result"
    }
   ],
   "source": [
    "final_data = final_data.rename(columns={col:col.lower() for col in final_data.columns}).reset_index().drop(columns='index')\n",
    "final_data.head()\n"
   ]
  },
  {
   "cell_type": "markdown",
   "id": "79d7aa1b",
   "metadata": {},
   "source": [
    "---\n",
    "## 3. Data to Postgres table\n",
    "\n",
    "Connect to the db"
   ]
  },
  {
   "cell_type": "code",
   "execution_count": 12,
   "id": "bf113ddf",
   "metadata": {},
   "outputs": [],
   "source": [
    "# Imports\n",
    "import pandas as pd\n",
    "import numpy as np\n",
    "import psycopg2, os\n",
    "from tqdm import tqdm\n",
    "\n",
    "#!pip install pyshp\n",
    "import shapefile\n",
    "\n",
    "# Establish connection and create its cursor\n",
    "try: \n",
    "    conn = psycopg2.connect(f\"host={os.environ['AURORA_POSTGRES_HOST']} dbname={os.environ['AURORA_POSTGRES_DATABASE']} user={os.environ['AURORA_POSTGRES_USERNAME']} password={os.environ['AURORA_POSTGRES_PWD']}\")\n",
    "    cur = conn.cursor()\n",
    "except psycopg2.Error as e: \n",
    "    print(\"Error: Could not make connection to the Postgres database\")\n",
    "    print(e)\n",
    "    "
   ]
  },
  {
   "cell_type": "markdown",
   "id": "bb21ff48",
   "metadata": {},
   "source": [
    "### 3.1. Create the table if it doesn't exist"
   ]
  },
  {
   "cell_type": "code",
   "execution_count": 13,
   "id": "057d3f18",
   "metadata": {},
   "outputs": [],
   "source": [
    "# Redefine columns types\n",
    "col_types = {\n",
    "    'file_download_year': 'numeric',\n",
    "    'file_download_month': 'numeric',\n",
    "    'numero': 'numeric',\n",
    "    'latitude': 'numeric',\n",
    "    'longitude': 'numeric',\n",
    "    'ano_fabricacao': 'numeric',\n",
    "    'ano_modelo': 'numeric',\n",
    "    }\n",
    "\n",
    "# Create the statement to be executed for table creation\n",
    "col_types = {k.lower(): v for k,v in col_types.items()}\n",
    "create_statement = f\"CREATE TABLE IF NOT EXISTS staging_tables.stg_roubo_e_furto ({', '.join([k+' '+col_types[k] if k in col_types.keys() else k+' varchar' for k in final_data.columns])})\"\n",
    "cur.execute(create_statement)\n",
    "conn.commit()\n",
    "\n"
   ]
  },
  {
   "cell_type": "markdown",
   "id": "28c75d4e",
   "metadata": {},
   "source": [
    "### 3.2. Filter records already contained in table (if existed)\n",
    "\n",
    "The table may already contain some data previously loaded. Let's make sure we do not copy this records again by filtering them out"
   ]
  },
  {
   "cell_type": "code",
   "execution_count": 14,
   "id": "9d77d502",
   "metadata": {},
   "outputs": [
    {
     "data": {
      "text/html": [
       "<div>\n",
       "<style scoped>\n",
       "    .dataframe tbody tr th:only-of-type {\n",
       "        vertical-align: middle;\n",
       "    }\n",
       "\n",
       "    .dataframe tbody tr th {\n",
       "        vertical-align: top;\n",
       "    }\n",
       "\n",
       "    .dataframe thead th {\n",
       "        text-align: right;\n",
       "    }\n",
       "</style>\n",
       "<table border=\"1\" class=\"dataframe\">\n",
       "  <thead>\n",
       "    <tr style=\"text-align: right;\">\n",
       "      <th></th>\n",
       "      <th>incident_type</th>\n",
       "      <th>file_download_year</th>\n",
       "      <th>file_download_month</th>\n",
       "    </tr>\n",
       "  </thead>\n",
       "  <tbody>\n",
       "    <tr>\n",
       "      <th>8</th>\n",
       "      <td>furto</td>\n",
       "      <td>2020.0</td>\n",
       "      <td>8.0</td>\n",
       "    </tr>\n",
       "    <tr>\n",
       "      <th>7</th>\n",
       "      <td>furto</td>\n",
       "      <td>2020.0</td>\n",
       "      <td>9.0</td>\n",
       "    </tr>\n",
       "    <tr>\n",
       "      <th>14</th>\n",
       "      <td>furto</td>\n",
       "      <td>2020.0</td>\n",
       "      <td>10.0</td>\n",
       "    </tr>\n",
       "    <tr>\n",
       "      <th>1</th>\n",
       "      <td>furto</td>\n",
       "      <td>2020.0</td>\n",
       "      <td>12.0</td>\n",
       "    </tr>\n",
       "    <tr>\n",
       "      <th>16</th>\n",
       "      <td>furto</td>\n",
       "      <td>2021.0</td>\n",
       "      <td>1.0</td>\n",
       "    </tr>\n",
       "    <tr>\n",
       "      <th>3</th>\n",
       "      <td>furto</td>\n",
       "      <td>2021.0</td>\n",
       "      <td>2.0</td>\n",
       "    </tr>\n",
       "    <tr>\n",
       "      <th>6</th>\n",
       "      <td>furto</td>\n",
       "      <td>2021.0</td>\n",
       "      <td>3.0</td>\n",
       "    </tr>\n",
       "    <tr>\n",
       "      <th>17</th>\n",
       "      <td>furto</td>\n",
       "      <td>2021.0</td>\n",
       "      <td>4.0</td>\n",
       "    </tr>\n",
       "    <tr>\n",
       "      <th>9</th>\n",
       "      <td>furto</td>\n",
       "      <td>2021.0</td>\n",
       "      <td>6.0</td>\n",
       "    </tr>\n",
       "    <tr>\n",
       "      <th>13</th>\n",
       "      <td>furto</td>\n",
       "      <td>2021.0</td>\n",
       "      <td>10.0</td>\n",
       "    </tr>\n",
       "    <tr>\n",
       "      <th>19</th>\n",
       "      <td>roubo</td>\n",
       "      <td>2020.0</td>\n",
       "      <td>12.0</td>\n",
       "    </tr>\n",
       "    <tr>\n",
       "      <th>12</th>\n",
       "      <td>roubo</td>\n",
       "      <td>2021.0</td>\n",
       "      <td>1.0</td>\n",
       "    </tr>\n",
       "    <tr>\n",
       "      <th>10</th>\n",
       "      <td>roubo</td>\n",
       "      <td>2021.0</td>\n",
       "      <td>2.0</td>\n",
       "    </tr>\n",
       "    <tr>\n",
       "      <th>5</th>\n",
       "      <td>roubo</td>\n",
       "      <td>2021.0</td>\n",
       "      <td>4.0</td>\n",
       "    </tr>\n",
       "    <tr>\n",
       "      <th>11</th>\n",
       "      <td>roubo</td>\n",
       "      <td>2021.0</td>\n",
       "      <td>5.0</td>\n",
       "    </tr>\n",
       "    <tr>\n",
       "      <th>4</th>\n",
       "      <td>roubo</td>\n",
       "      <td>2021.0</td>\n",
       "      <td>6.0</td>\n",
       "    </tr>\n",
       "    <tr>\n",
       "      <th>18</th>\n",
       "      <td>roubo</td>\n",
       "      <td>2021.0</td>\n",
       "      <td>7.0</td>\n",
       "    </tr>\n",
       "    <tr>\n",
       "      <th>15</th>\n",
       "      <td>roubo</td>\n",
       "      <td>2021.0</td>\n",
       "      <td>8.0</td>\n",
       "    </tr>\n",
       "    <tr>\n",
       "      <th>0</th>\n",
       "      <td>roubo</td>\n",
       "      <td>2021.0</td>\n",
       "      <td>9.0</td>\n",
       "    </tr>\n",
       "    <tr>\n",
       "      <th>2</th>\n",
       "      <td>roubo</td>\n",
       "      <td>2021.0</td>\n",
       "      <td>10.0</td>\n",
       "    </tr>\n",
       "  </tbody>\n",
       "</table>\n",
       "</div>"
      ],
      "text/plain": [
       "   incident_type file_download_year file_download_month\n",
       "8          furto             2020.0                 8.0\n",
       "7          furto             2020.0                 9.0\n",
       "14         furto             2020.0                10.0\n",
       "1          furto             2020.0                12.0\n",
       "16         furto             2021.0                 1.0\n",
       "3          furto             2021.0                 2.0\n",
       "6          furto             2021.0                 3.0\n",
       "17         furto             2021.0                 4.0\n",
       "9          furto             2021.0                 6.0\n",
       "13         furto             2021.0                10.0\n",
       "19         roubo             2020.0                12.0\n",
       "12         roubo             2021.0                 1.0\n",
       "10         roubo             2021.0                 2.0\n",
       "5          roubo             2021.0                 4.0\n",
       "11         roubo             2021.0                 5.0\n",
       "4          roubo             2021.0                 6.0\n",
       "18         roubo             2021.0                 7.0\n",
       "15         roubo             2021.0                 8.0\n",
       "0          roubo             2021.0                 9.0\n",
       "2          roubo             2021.0                10.0"
      ]
     },
     "execution_count": 14,
     "metadata": {},
     "output_type": "execute_result"
    }
   ],
   "source": [
    "cur.execute(\"\"\"SELECT DISTINCT \n",
    "                    incident_type, \n",
    "                    file_download_year,\n",
    "                    file_download_month\n",
    "                FROM staging_tables.stg_roubo_e_furto\"\"\")\n",
    "\n",
    "current_data_in_table = pd.DataFrame(cur.fetchall(), columns=[desc[0] for desc in cur.description])\n",
    "current_data_in_table.sort_values(['incident_type', 'file_download_year', 'file_download_month'])\n"
   ]
  },
  {
   "cell_type": "markdown",
   "id": "b0518aa9",
   "metadata": {},
   "source": [
    "Filter out these data"
   ]
  },
  {
   "cell_type": "code",
   "execution_count": 15,
   "id": "890c6141",
   "metadata": {},
   "outputs": [
    {
     "data": {
      "text/plain": [
       "array(['roubo-2020.0-7.0', 'roubo-2020.0-8.0', 'roubo-2020.0-9.0',\n",
       "       'roubo-2020.0-10.0', 'roubo-2020.0-11.0', 'roubo-2021.0-3.0',\n",
       "       'furto-2020.0-7.0', 'furto-2020.0-11.0', 'furto-2021.0-5.0',\n",
       "       'furto-2021.0-7.0', 'furto-2021.0-8.0', 'furto-2021.0-9.0'],\n",
       "      dtype=object)"
      ]
     },
     "execution_count": 15,
     "metadata": {},
     "output_type": "execute_result"
    }
   ],
   "source": [
    "for i, row in current_data_in_table.iterrows():\n",
    "    final_data = final_data[~((final_data['incident_type']==row['incident_type']) &\n",
    "                              (final_data['file_download_year']==row['file_download_year']) &\n",
    "                              (final_data['file_download_month']==row['file_download_month']))].copy().reset_index().drop(columns='index')\n",
    "\n",
    "# Display data that remains\n",
    "final_data.apply(lambda row: row['incident_type']+'-'+str(row['file_download_year'])+'-'+str(row['file_download_month']), axis=1).unique()\n"
   ]
  },
  {
   "cell_type": "markdown",
   "id": "3e52536c",
   "metadata": {},
   "source": [
    "### 3.2. Populate the table"
   ]
  },
  {
   "cell_type": "code",
   "execution_count": 18,
   "id": "9f51581e",
   "metadata": {},
   "outputs": [
    {
     "name": "stderr",
     "output_type": "stream",
     "text": [
      "85722it [2:42:42,  8.78it/s]\n"
     ]
    }
   ],
   "source": [
    "for i, record in tqdm(final_data.iterrows()):\n",
    "    insert_statement = f\"INSERT INTO staging_tables.stg_roubo_e_furto ({', '.join(record.index)}) VALUES ({', '.join(['%s']*len(record))})\"\n",
    "    cur.execute(insert_statement,\n",
    "                tuple([v for k,v in record.items()])\n",
    "               )\n",
    "    \n",
    "conn.commit()\n"
   ]
  },
  {
   "cell_type": "markdown",
   "id": "f1394de0",
   "metadata": {},
   "source": [
    "### 3.3 Create a geography columns"
   ]
  },
  {
   "cell_type": "code",
   "execution_count": 19,
   "id": "e8d417d0",
   "metadata": {},
   "outputs": [],
   "source": [
    "# Create the column (ONLY IF NOT WORKING WITH EXISTING TABLE)\n",
    "#cur.execute(\"ALTER TABLE staging_tables.stg_roubo_e_furto ADD COLUMN incident_location geometry(Point, 4326);\")\n",
    "#conn.commit()\n",
    "\n",
    "# Populate the column\n",
    "cur.execute(\"UPDATE staging_tables.stg_roubo_e_furto SET incident_location = ST_SetSRID(ST_MakePoint(longitude, latitude), 4326)\")\n",
    "conn.commit()\n"
   ]
  },
  {
   "cell_type": "code",
   "execution_count": 21,
   "id": "29b02cc2",
   "metadata": {},
   "outputs": [
    {
     "data": {
      "text/plain": [
       "[('furto', Decimal('2020.0'), Decimal('7.0'), 7557),\n",
       " ('furto', Decimal('2020.0'), Decimal('8.0'), 6755),\n",
       " ('furto', Decimal('2020.0'), Decimal('9.0'), 7109),\n",
       " ('furto', Decimal('2020.0'), Decimal('10.0'), 7788),\n",
       " ('furto', Decimal('2020.0'), Decimal('11.0'), 7693),\n",
       " ('furto', Decimal('2020.0'), Decimal('12.0'), 7034),\n",
       " ('furto', Decimal('2021.0'), Decimal('1.0'), 7516),\n",
       " ('furto', Decimal('2021.0'), Decimal('2.0'), 7897),\n",
       " ('furto', Decimal('2021.0'), Decimal('3.0'), 8192),\n",
       " ('furto', Decimal('2021.0'), Decimal('4.0'), 7665),\n",
       " ('furto', Decimal('2021.0'), Decimal('5.0'), 8276),\n",
       " ('furto', Decimal('2021.0'), Decimal('6.0'), 7937),\n",
       " ('furto', Decimal('2021.0'), Decimal('7.0'), 8188),\n",
       " ('furto', Decimal('2021.0'), Decimal('8.0'), 8404),\n",
       " ('furto', Decimal('2021.0'), Decimal('9.0'), 8599),\n",
       " ('furto', Decimal('2021.0'), Decimal('10.0'), 9680),\n",
       " ('roubo', Decimal('2020.0'), Decimal('7.0'), 5838),\n",
       " ('roubo', Decimal('2020.0'), Decimal('8.0'), 5500),\n",
       " ('roubo', Decimal('2020.0'), Decimal('9.0'), 5783),\n",
       " ('roubo', Decimal('2020.0'), Decimal('10.0'), 6716),\n",
       " ('roubo', Decimal('2020.0'), Decimal('11.0'), 6772),\n",
       " ('roubo', Decimal('2020.0'), Decimal('12.0'), 8525),\n",
       " ('roubo', Decimal('2021.0'), Decimal('1.0'), 6770),\n",
       " ('roubo', Decimal('2021.0'), Decimal('2.0'), 6251),\n",
       " ('roubo', Decimal('2021.0'), Decimal('3.0'), 6396),\n",
       " ('roubo', Decimal('2021.0'), Decimal('4.0'), 5703),\n",
       " ('roubo', Decimal('2021.0'), Decimal('5.0'), 5776),\n",
       " ('roubo', Decimal('2021.0'), Decimal('6.0'), 5336),\n",
       " ('roubo', Decimal('2021.0'), Decimal('7.0'), 5363),\n",
       " ('roubo', Decimal('2021.0'), Decimal('8.0'), 5953),\n",
       " ('roubo', Decimal('2021.0'), Decimal('9.0'), 6181),\n",
       " ('roubo', Decimal('2021.0'), Decimal('10.0'), 6713)]"
      ]
     },
     "execution_count": 21,
     "metadata": {},
     "output_type": "execute_result"
    }
   ],
   "source": [
    "cur.execute(\"SELECT incident_type, file_download_year, file_download_month, count(*) FROM staging_tables.stg_roubo_e_furto GROUP BY incident_type, file_download_year, file_download_month\")\n",
    "cur.fetchall()\n"
   ]
  }
 ],
 "metadata": {
  "kernelspec": {
   "display_name": "Python 3 (ipykernel)",
   "language": "python",
   "name": "python3"
  },
  "language_info": {
   "codemirror_mode": {
    "name": "ipython",
    "version": 3
   },
   "file_extension": ".py",
   "mimetype": "text/x-python",
   "name": "python",
   "nbconvert_exporter": "python",
   "pygments_lexer": "ipython3",
   "version": "3.9.7"
  }
 },
 "nbformat": 4,
 "nbformat_minor": 5
}
