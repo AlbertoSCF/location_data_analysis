{
 "cells": [
  {
   "cell_type": "code",
   "execution_count": 1,
   "id": "a0c614c8",
   "metadata": {},
   "outputs": [],
   "source": [
    "import pandas as pd\n"
   ]
  },
  {
   "cell_type": "markdown",
   "id": "1dbe84d6",
   "metadata": {},
   "source": [
    "Download robo e furto data:\n",
    "\n",
    "- Can be downloaded [here](http://www.ssp.sp.gov.br/transparenciassp/)\n",
    "- The downloads are really slow , so I have also stored the raw data [here](https://drive.google.com/drive/folders/1L3rXeIPOtuK1NYG2zsV9eEUeSvX3ojVt)\n",
    "- The downloaded data has then to be manipulated so it can be open... I've done it with numbers by exporting it to CSV and still there's some files with encoding errors. Processed files have bee stored [here](https://drive.google.com/drive/folders/17M7w22fJwLGpGwIVuJTNGqMOVt8RkwDc)\n",
    "\n",
    "From here on we load the data as available after this last step\n",
    "\n",
    "---\n",
    "\n",
    "## 1. Reading the data\n",
    "\n",
    "Read robo e furto data"
   ]
  },
  {
   "cell_type": "code",
   "execution_count": 2,
   "id": "86675fbe",
   "metadata": {},
   "outputs": [
    {
     "name": "stdout",
     "output_type": "stream",
     "text": [
      "Usable data for roubo, 2020/12 with 8525 records\n",
      "Usable data for roubo, 2021/1 with 6770 records\n",
      "Usable data for roubo, 2021/2 with 6251 records\n",
      "Usable data for roubo, 2021/4 with 5703 records\n",
      "Usable data for roubo, 2021/5 with 5776 records\n",
      "Usable data for roubo, 2021/6 with 5336 records\n",
      "Usable data for roubo, 2021/7 with 5363 records\n",
      "Usable data for roubo, 2021/8 with 5953 records\n",
      "Usable data for roubo, 2021/9 with 6181 records\n",
      "Usable data for roubo, 2021/10 with 6713 records\n",
      "Usable data for furto, 2020/8 with 6755 records\n",
      "Usable data for furto, 2020/9 with 7109 records\n",
      "Usable data for furto, 2020/10 with 7788 records\n",
      "Usable data for furto, 2020/12 with 7034 records\n",
      "Usable data for furto, 2021/1 with 7516 records\n",
      "Usable data for furto, 2021/2 with 7897 records\n",
      "Usable data for furto, 2021/3 with 8192 records\n",
      "Usable data for furto, 2021/4 with 7665 records\n",
      "Usable data for furto, 2021/6 with 7937 records\n",
      "Usable data for furto, 2021/10 with 9680 records\n"
     ]
    }
   ],
   "source": [
    "# Initialize the data\n",
    "all_data = {'roubo': dict(), 'furto': dict()}\n",
    "\n",
    "# Try to parse each file\n",
    "for data_type in ['roubo', 'furto']:\n",
    "    for year in ['2020', '2021']:\n",
    "        for month in range(1,13):\n",
    "            \n",
    "            # Try to load the data\n",
    "            try:\n",
    "                data = pd.read_csv(f\"data/processed_roubo_e_furto/DadosBO_{year}_{str(month)}({data_type.upper()} DE VEÍCULOS).csv\", \n",
    "                                   sep=';', \n",
    "                                   encoding='latin-1')\n",
    "                \n",
    "                print(f'Usable data for {data_type}, {year}/{str(month)} with {data.shape[0]} records')\n",
    "                \n",
    "                # Append it\n",
    "                all_data[data_type][year+'_'+str(month)] = data\n",
    "            \n",
    "            except:\n",
    "                pass\n",
    "                \n",
    "                "
   ]
  },
  {
   "cell_type": "markdown",
   "id": "89874d3c",
   "metadata": {},
   "source": [
    "Check that data formats are consistent across tables"
   ]
  },
  {
   "cell_type": "code",
   "execution_count": 3,
   "id": "f411b3d6",
   "metadata": {},
   "outputs": [
    {
     "data": {
      "text/html": [
       "<div>\n",
       "<style scoped>\n",
       "    .dataframe tbody tr th:only-of-type {\n",
       "        vertical-align: middle;\n",
       "    }\n",
       "\n",
       "    .dataframe tbody tr th {\n",
       "        vertical-align: top;\n",
       "    }\n",
       "\n",
       "    .dataframe thead th {\n",
       "        text-align: right;\n",
       "    }\n",
       "</style>\n",
       "<table border=\"1\" class=\"dataframe\">\n",
       "  <thead>\n",
       "    <tr style=\"text-align: right;\">\n",
       "      <th></th>\n",
       "      <th>data_type</th>\n",
       "      <th>date</th>\n",
       "      <th>format</th>\n",
       "    </tr>\n",
       "  </thead>\n",
       "  <tbody>\n",
       "    <tr>\n",
       "      <th>0</th>\n",
       "      <td>roubo</td>\n",
       "      <td>2020_12</td>\n",
       "      <td>[ANO_BO, NUM_BO, NUMERO_BOLETIM, BO_INICIADO, ...</td>\n",
       "    </tr>\n",
       "    <tr>\n",
       "      <th>1</th>\n",
       "      <td>roubo</td>\n",
       "      <td>2021_1</td>\n",
       "      <td>[ANO_BO, NUM_BO, NUMERO_BOLETIM, BO_INICIADO, ...</td>\n",
       "    </tr>\n",
       "    <tr>\n",
       "      <th>2</th>\n",
       "      <td>roubo</td>\n",
       "      <td>2021_2</td>\n",
       "      <td>[ANO_BO, NUM_BO, NUMERO_BOLETIM, BO_INICIADO, ...</td>\n",
       "    </tr>\n",
       "    <tr>\n",
       "      <th>3</th>\n",
       "      <td>roubo</td>\n",
       "      <td>2021_4</td>\n",
       "      <td>[ANO_BO, NUM_BO, NUMERO_BOLETIM, BO_INICIADO, ...</td>\n",
       "    </tr>\n",
       "    <tr>\n",
       "      <th>4</th>\n",
       "      <td>roubo</td>\n",
       "      <td>2021_5</td>\n",
       "      <td>[ANO_BO, NUM_BO, NUMERO_BOLETIM, BO_INICIADO, ...</td>\n",
       "    </tr>\n",
       "  </tbody>\n",
       "</table>\n",
       "</div>"
      ],
      "text/plain": [
       "  data_type     date                                             format\n",
       "0     roubo  2020_12  [ANO_BO, NUM_BO, NUMERO_BOLETIM, BO_INICIADO, ...\n",
       "1     roubo   2021_1  [ANO_BO, NUM_BO, NUMERO_BOLETIM, BO_INICIADO, ...\n",
       "2     roubo   2021_2  [ANO_BO, NUM_BO, NUMERO_BOLETIM, BO_INICIADO, ...\n",
       "3     roubo   2021_4  [ANO_BO, NUM_BO, NUMERO_BOLETIM, BO_INICIADO, ...\n",
       "4     roubo   2021_5  [ANO_BO, NUM_BO, NUMERO_BOLETIM, BO_INICIADO, ..."
      ]
     },
     "metadata": {},
     "output_type": "display_data"
    },
    {
     "name": "stdout",
     "output_type": "stream",
     "text": [
      "Number of unique formats: 1\n"
     ]
    }
   ],
   "source": [
    "all_formats = []\n",
    "    \n",
    "for data_type in ['roubo', 'furto']:\n",
    "    for date, data in all_data[data_type].items():\n",
    "        all_formats.append({'data_type': data_type,\n",
    "                            'date': date,\n",
    "                            'format': list(data.columns)})\n",
    "\n",
    "all_formats = pd.DataFrame(all_formats)\n",
    "display(all_formats.head())\n",
    "\n",
    "print('Number of unique formats:', all_formats['format'].astype(str).nunique())\n"
   ]
  },
  {
   "cell_type": "markdown",
   "id": "c95548ae",
   "metadata": {},
   "source": [
    "One unique format so we can merge all in one table!"
   ]
  },
  {
   "cell_type": "code",
   "execution_count": 4,
   "id": "13e4c698",
   "metadata": {},
   "outputs": [],
   "source": [
    "# Create empty dataframe\n",
    "new_cols = ['incident_type', 'file_download_year', 'file_download_month']\n",
    "final_data = pd.DataFrame(columns=new_cols+list(data.columns))\n",
    "\n",
    "# Append to this df all the previous data\n",
    "for data_type in ['roubo', 'furto']:\n",
    "    for date, data in all_data[data_type].items():\n",
    "        final_data = pd.concat([final_data,\n",
    "                                pd.concat([pd.DataFrame([[data_type, int(date.split('_')[0]), int(date.split('_')[1])]]*data.shape[0], columns=new_cols),\n",
    "                                           data], \n",
    "                                          axis=1)],\n",
    "                               axis=0)\n",
    "        "
   ]
  },
  {
   "cell_type": "markdown",
   "id": "8565ebb1",
   "metadata": {},
   "source": [
    "Compare number of records with the ones in the load process"
   ]
  },
  {
   "cell_type": "code",
   "execution_count": 5,
   "id": "9cbcd46f",
   "metadata": {},
   "outputs": [
    {
     "data": {
      "text/plain": [
       "5336"
      ]
     },
     "execution_count": 5,
     "metadata": {},
     "output_type": "execute_result"
    }
   ],
   "source": [
    "final_data[(final_data['incident_type']=='roubo') & \n",
    "           (final_data['file_download_year']==2021) & \n",
    "           (final_data['file_download_month']==6)].shape[0]"
   ]
  },
  {
   "cell_type": "code",
   "execution_count": 6,
   "id": "874fe1f8",
   "metadata": {},
   "outputs": [
    {
     "data": {
      "text/plain": [
       "7937"
      ]
     },
     "execution_count": 6,
     "metadata": {},
     "output_type": "execute_result"
    }
   ],
   "source": [
    "final_data[(final_data['incident_type']=='furto') & \n",
    "           (final_data['file_download_year']==2021) & \n",
    "           (final_data['file_download_month']==6)].shape[0]"
   ]
  },
  {
   "cell_type": "markdown",
   "id": "2ee47353",
   "metadata": {},
   "source": [
    "---\n",
    "## 2. Cleaning the table\n",
    "Keep a relevant table schema"
   ]
  },
  {
   "cell_type": "code",
   "execution_count": 7,
   "id": "84dc64c4",
   "metadata": {},
   "outputs": [],
   "source": [
    "# Filter and reorder columns\n",
    "final_data = final_data[['incident_type', 'file_download_year', 'file_download_month', # File info\n",
    "                         'NUMERO_BOLETIM', 'BO_INICIADO', 'BO_EMITIDO', # Boletin\n",
    "                         'DATAOCORRENCIA', 'HORAOCORRENCIA', # When it happened\n",
    "                         'LOGRADOURO', 'NUMERO', 'BAIRRO', 'CIDADE', 'LATITUDE', 'LONGITUDE', 'DESCRICAOLOCAL', # Where it happened\n",
    "                         'STATUS', 'BO_AUTORIA', # Did it happen? Do we know who did it?\n",
    "                         'RUBRICA', 'DESDOBRAMENTO', # Some free text info\n",
    "                         'TIPOPESSOA', 'VITIMAFATAL', 'NATURALIDADE', 'NACIONALIDADE', 'SEXO', 'DATANASCIMENTO', 'IDADE', 'NATUREZAVINCULADA', 'TIPOVINCULO', # WHo did it\n",
    "                         'PLACA_VEICULO', 'UF_VEICULO', 'CIDADE_VEICULO', 'DESCR_COR_VEICULO', 'DESCR_MARCA_VEICULO', 'ANO_FABRICACAO','ANO_MODELO', 'DESCR_TIPO_VEICULO' # Vehicle info\n",
    "                        ]].copy()\n"
   ]
  },
  {
   "cell_type": "markdown",
   "id": "99dcd9f9",
   "metadata": {},
   "source": [
    "Check integrity of the latitude longitude data"
   ]
  },
  {
   "cell_type": "code",
   "execution_count": 8,
   "id": "3b4717c9",
   "metadata": {},
   "outputs": [
    {
     "data": {
      "text/plain": [
       "False    0.878989\n",
       "True     0.121011\n",
       "Name: LATITUDE, dtype: float64"
      ]
     },
     "metadata": {},
     "output_type": "display_data"
    },
    {
     "data": {
      "text/plain": [
       "False    0.878989\n",
       "True     0.121011\n",
       "Name: LONGITUDE, dtype: float64"
      ]
     },
     "metadata": {},
     "output_type": "display_data"
    },
    {
     "data": {
      "text/plain": [
       "False    123185\n",
       "Name: LONGITUDE, dtype: int64"
      ]
     },
     "metadata": {},
     "output_type": "display_data"
    },
    {
     "data": {
      "text/plain": [
       "False    123185\n",
       "Name: LATITUDE, dtype: int64"
      ]
     },
     "metadata": {},
     "output_type": "display_data"
    }
   ],
   "source": [
    "# Fix coordinates data\n",
    "final_data['LATITUDE']  = final_data.LATITUDE .astype(str).apply(lambda x: x.replace(',', '.')).astype(float)\n",
    "final_data['LONGITUDE'] = final_data.LONGITUDE.astype(str).apply(lambda x: x.replace(',', '.')).astype(float)\n",
    "\n",
    "# Missing values?\n",
    "display(final_data.LATITUDE.isna().value_counts(normalize=True))\n",
    "display(final_data.LONGITUDE.isna().value_counts(normalize=True))\n",
    "\n",
    "# Both informed?\n",
    "display(final_data.dropna(subset=['LATITUDE']).LONGITUDE.isna().value_counts())\n",
    "display(final_data.dropna(subset=['LONGITUDE']).LATITUDE.isna().value_counts())"
   ]
  },
  {
   "cell_type": "code",
   "execution_count": 17,
   "id": "dfac5dd4",
   "metadata": {},
   "outputs": [
    {
     "data": {
      "text/plain": [
       "<AxesSubplot:xlabel='LONGITUDE', ylabel='LATITUDE'>"
      ]
     },
     "execution_count": 17,
     "metadata": {},
     "output_type": "execute_result"
    },
    {
     "data": {
      "image/png": "[encoded data removed]",
      "text/plain": [
       "<Figure size 432x288 with 1 Axes>"
      ]
     },
     "metadata": {
      "needs_background": "light"
     },
     "output_type": "display_data"
    }
   ],
   "source": [
    "final_data.plot.scatter(x='LONGITUDE', y='LATITUDE')"
   ]
  },
  {
   "cell_type": "markdown",
   "id": "31b74c77",
   "metadata": {},
   "source": [
    "Define column types"
   ]
  },
  {
   "cell_type": "code",
   "execution_count": 27,
   "id": "63a65a93",
   "metadata": {},
   "outputs": [
    {
     "name": "stdout",
     "output_type": "stream",
     "text": [
      "incident_type\n",
      "file_download_year\n",
      "file_download_month\n",
      "NUMERO_BOLETIM\n",
      "BO_INICIADO\n",
      "BO_EMITIDO\n",
      "DATAOCORRENCIA\n",
      "HORAOCORRENCIA\n",
      "LOGRADOURO\n",
      "NUMERO\n",
      "BAIRRO\n",
      "CIDADE\n",
      "LATITUDE\n",
      "LONGITUDE\n",
      "DESCRICAOLOCAL\n",
      "STATUS\n",
      "BO_AUTORIA\n",
      "RUBRICA\n",
      "DESDOBRAMENTO\n",
      "TIPOPESSOA\n",
      "VITIMAFATAL\n",
      "NATURALIDADE\n",
      "NACIONALIDADE\n",
      "SEXO\n",
      "DATANASCIMENTO\n",
      "IDADE\n",
      "NATUREZAVINCULADA\n",
      "TIPOVINCULO\n",
      "PLACA_VEICULO\n",
      "UF_VEICULO\n",
      "CIDADE_VEICULO\n",
      "DESCR_COR_VEICULO\n",
      "DESCR_MARCA_VEICULO\n",
      "ANO_FABRICACAO\n",
      "ANO_MODELO\n",
      "DESCR_TIPO_VEICULO\n"
     ]
    }
   ],
   "source": [
    "col_types = {\n",
    "    'file_download_year': float,\n",
    "    'file_download_month': float,\n",
    "    'NUMERO': float,\n",
    "    'LATITUDE': float,\n",
    "    'LONGITUDE': float,\n",
    "    'ANO_FABRICACAO': float,\n",
    "    'ANO_MODELO': float,\n",
    "    \n",
    "}\n",
    "\n",
    "for col in final_data.columns:\n",
    "    if col in col_types.keys():\n",
    "        col_type = col_types[col]\n",
    "    else:\n",
    "        col_type = str\n",
    "    print(col)\n",
    "    final_data[col] = final_data[col].astype(col_type)\n",
    "    "
   ]
  },
  {
   "cell_type": "markdown",
   "id": "82326d10",
   "metadata": {},
   "source": [
    "Convert columns to lower case"
   ]
  },
  {
   "cell_type": "code",
   "execution_count": 32,
   "id": "30239db7",
   "metadata": {},
   "outputs": [
    {
     "data": {
      "text/html": [
       "<div>\n",
       "<style scoped>\n",
       "    .dataframe tbody tr th:only-of-type {\n",
       "        vertical-align: middle;\n",
       "    }\n",
       "\n",
       "    .dataframe tbody tr th {\n",
       "        vertical-align: top;\n",
       "    }\n",
       "\n",
       "    .dataframe thead th {\n",
       "        text-align: right;\n",
       "    }\n",
       "</style>\n",
       "<table border=\"1\" class=\"dataframe\">\n",
       "  <thead>\n",
       "    <tr style=\"text-align: right;\">\n",
       "      <th></th>\n",
       "      <th>incident_type</th>\n",
       "      <th>file_download_year</th>\n",
       "      <th>file_download_month</th>\n",
       "      <th>numero_boletim</th>\n",
       "      <th>bo_iniciado</th>\n",
       "      <th>bo_emitido</th>\n",
       "      <th>dataocorrencia</th>\n",
       "      <th>horaocorrencia</th>\n",
       "      <th>logradouro</th>\n",
       "      <th>numero</th>\n",
       "      <th>...</th>\n",
       "      <th>naturezavinculada</th>\n",
       "      <th>tipovinculo</th>\n",
       "      <th>placa_veiculo</th>\n",
       "      <th>uf_veiculo</th>\n",
       "      <th>cidade_veiculo</th>\n",
       "      <th>descr_cor_veiculo</th>\n",
       "      <th>descr_marca_veiculo</th>\n",
       "      <th>ano_fabricacao</th>\n",
       "      <th>ano_modelo</th>\n",
       "      <th>descr_tipo_veiculo</th>\n",
       "    </tr>\n",
       "  </thead>\n",
       "  <tbody>\n",
       "    <tr>\n",
       "      <th>0</th>\n",
       "      <td>roubo</td>\n",
       "      <td>2020.0</td>\n",
       "      <td>12.0</td>\n",
       "      <td>1846185/2020</td>\n",
       "      <td>01/12/2020 00:11:08</td>\n",
       "      <td>01/12/2020 00:11:08</td>\n",
       "      <td>30/11/2020</td>\n",
       "      <td>21:30</td>\n",
       "      <td>RUA GUIANA</td>\n",
       "      <td>1190.0</td>\n",
       "      <td>...</td>\n",
       "      <td>nan</td>\n",
       "      <td>nan</td>\n",
       "      <td>DQY8787</td>\n",
       "      <td>SP</td>\n",
       "      <td>MOGI DAS CRUZES</td>\n",
       "      <td>Cinza</td>\n",
       "      <td>I/HONDA FIT EX</td>\n",
       "      <td>2005.0</td>\n",
       "      <td>NaN</td>\n",
       "      <td>AUTOMOVEL</td>\n",
       "    </tr>\n",
       "    <tr>\n",
       "      <th>1</th>\n",
       "      <td>roubo</td>\n",
       "      <td>2020.0</td>\n",
       "      <td>12.0</td>\n",
       "      <td>1846149/2020</td>\n",
       "      <td>01/12/2020 00:11:28</td>\n",
       "      <td>01/12/2020 00:11:31</td>\n",
       "      <td>29/11/2020</td>\n",
       "      <td>23:40</td>\n",
       "      <td>RUA ENGENHEIRO MANOEL FERRAMENTA JÃNIOR</td>\n",
       "      <td>363.0</td>\n",
       "      <td>...</td>\n",
       "      <td>nan</td>\n",
       "      <td>nan</td>\n",
       "      <td>nan</td>\n",
       "      <td>nan</td>\n",
       "      <td>nan</td>\n",
       "      <td>Prata</td>\n",
       "      <td>nan</td>\n",
       "      <td>NaN</td>\n",
       "      <td>NaN</td>\n",
       "      <td>MOTOCICLO</td>\n",
       "    </tr>\n",
       "    <tr>\n",
       "      <th>2</th>\n",
       "      <td>roubo</td>\n",
       "      <td>2020.0</td>\n",
       "      <td>12.0</td>\n",
       "      <td>1846149/2020</td>\n",
       "      <td>01/12/2020 00:11:28</td>\n",
       "      <td>01/12/2020 00:11:31</td>\n",
       "      <td>29/11/2020</td>\n",
       "      <td>23:40</td>\n",
       "      <td>RUA ENGENHEIRO MANOEL FERRAMENTA JÃNIOR</td>\n",
       "      <td>363.0</td>\n",
       "      <td>...</td>\n",
       "      <td>nan</td>\n",
       "      <td>nan</td>\n",
       "      <td>EHA2B71</td>\n",
       "      <td>SP</td>\n",
       "      <td>SÃO VICENTE</td>\n",
       "      <td>Preta</td>\n",
       "      <td>YAMAHA/XT 660R</td>\n",
       "      <td>2009.0</td>\n",
       "      <td>NaN</td>\n",
       "      <td>MOTOCICLO</td>\n",
       "    </tr>\n",
       "    <tr>\n",
       "      <th>3</th>\n",
       "      <td>roubo</td>\n",
       "      <td>2020.0</td>\n",
       "      <td>12.0</td>\n",
       "      <td>5302/2020</td>\n",
       "      <td>30/11/2020 21:35:51</td>\n",
       "      <td>01/12/2020 00:17:52</td>\n",
       "      <td>30/11/2020</td>\n",
       "      <td>19:00</td>\n",
       "      <td>RUA FRANCISCO CARDOSO JUNIOR</td>\n",
       "      <td>50.0</td>\n",
       "      <td>...</td>\n",
       "      <td>nan</td>\n",
       "      <td>nan</td>\n",
       "      <td>nan</td>\n",
       "      <td>nan</td>\n",
       "      <td>nan</td>\n",
       "      <td>nan</td>\n",
       "      <td>nan</td>\n",
       "      <td>0.0</td>\n",
       "      <td>0.0</td>\n",
       "      <td>nan</td>\n",
       "    </tr>\n",
       "    <tr>\n",
       "      <th>4</th>\n",
       "      <td>roubo</td>\n",
       "      <td>2020.0</td>\n",
       "      <td>12.0</td>\n",
       "      <td>5302/2020</td>\n",
       "      <td>30/11/2020 21:35:51</td>\n",
       "      <td>01/12/2020 00:17:52</td>\n",
       "      <td>30/11/2020</td>\n",
       "      <td>19:00</td>\n",
       "      <td>RUA FRANCISCO CARDOSO JUNIOR</td>\n",
       "      <td>50.0</td>\n",
       "      <td>...</td>\n",
       "      <td>nan</td>\n",
       "      <td>nan</td>\n",
       "      <td>DXX6015</td>\n",
       "      <td>SP</td>\n",
       "      <td>S.PAULO</td>\n",
       "      <td>Preta</td>\n",
       "      <td>RENAULT/CLIO AUT10 16H3P</td>\n",
       "      <td>2007.0</td>\n",
       "      <td>2007.0</td>\n",
       "      <td>AUTOMOVEL</td>\n",
       "    </tr>\n",
       "  </tbody>\n",
       "</table>\n",
       "<p>5 rows × 36 columns</p>\n",
       "</div>"
      ],
      "text/plain": [
       "  incident_type  file_download_year  file_download_month numero_boletim  \\\n",
       "0         roubo              2020.0                 12.0   1846185/2020   \n",
       "1         roubo              2020.0                 12.0   1846149/2020   \n",
       "2         roubo              2020.0                 12.0   1846149/2020   \n",
       "3         roubo              2020.0                 12.0      5302/2020   \n",
       "4         roubo              2020.0                 12.0      5302/2020   \n",
       "\n",
       "           bo_iniciado           bo_emitido dataocorrencia horaocorrencia  \\\n",
       "0  01/12/2020 00:11:08  01/12/2020 00:11:08     30/11/2020          21:30   \n",
       "1  01/12/2020 00:11:28  01/12/2020 00:11:31     29/11/2020          23:40   \n",
       "2  01/12/2020 00:11:28  01/12/2020 00:11:31     29/11/2020          23:40   \n",
       "3  30/11/2020 21:35:51  01/12/2020 00:17:52     30/11/2020          19:00   \n",
       "4  30/11/2020 21:35:51  01/12/2020 00:17:52     30/11/2020          19:00   \n",
       "\n",
       "                                 logradouro  numero  ... naturezavinculada  \\\n",
       "0                                RUA GUIANA  1190.0  ...               nan   \n",
       "1  RUA ENGENHEIRO MANOEL FERRAMENTA JÃNIOR   363.0  ...               nan   \n",
       "2  RUA ENGENHEIRO MANOEL FERRAMENTA JÃNIOR   363.0  ...               nan   \n",
       "3              RUA FRANCISCO CARDOSO JUNIOR    50.0  ...               nan   \n",
       "4              RUA FRANCISCO CARDOSO JUNIOR    50.0  ...               nan   \n",
       "\n",
       "  tipovinculo  placa_veiculo  uf_veiculo   cidade_veiculo descr_cor_veiculo  \\\n",
       "0         nan        DQY8787          SP  MOGI DAS CRUZES             Cinza   \n",
       "1         nan            nan         nan              nan             Prata   \n",
       "2         nan        EHA2B71          SP     SÃO VICENTE             Preta   \n",
       "3         nan            nan         nan              nan               nan   \n",
       "4         nan        DXX6015          SP          S.PAULO             Preta   \n",
       "\n",
       "        descr_marca_veiculo ano_fabricacao ano_modelo descr_tipo_veiculo  \n",
       "0            I/HONDA FIT EX         2005.0        NaN          AUTOMOVEL  \n",
       "1                       nan            NaN        NaN          MOTOCICLO  \n",
       "2            YAMAHA/XT 660R         2009.0        NaN          MOTOCICLO  \n",
       "3                       nan            0.0        0.0                nan  \n",
       "4  RENAULT/CLIO AUT10 16H3P         2007.0     2007.0          AUTOMOVEL  \n",
       "\n",
       "[5 rows x 36 columns]"
      ]
     },
     "execution_count": 32,
     "metadata": {},
     "output_type": "execute_result"
    }
   ],
   "source": [
    "final_data = final_data.rename(columns={col:col.lower() for col in final_data.columns}).reset_index().drop(columns='index')\n",
    "final_data.head()\n"
   ]
  },
  {
   "cell_type": "markdown",
   "id": "79d7aa1b",
   "metadata": {},
   "source": [
    "---\n",
    "## 3. Create a table in Postgres to store this data\n",
    "\n",
    "Connect to the db"
   ]
  },
  {
   "cell_type": "code",
   "execution_count": 1,
   "id": "bf113ddf",
   "metadata": {},
   "outputs": [],
   "source": [
    "# Imports\n",
    "import pandas as pd\n",
    "import numpy as np\n",
    "import psycopg2, os\n",
    "from tqdm import tqdm\n",
    "\n",
    "#!pip install pyshp\n",
    "import shapefile\n",
    "\n",
    "# Establish connection and create its cursor\n",
    "try: \n",
    "    conn = psycopg2.connect(f\"host={os.environ['AURORA_POSTGRES_HOST']} dbname={os.environ['AURORA_POSTGRES_DATABASE']} user={os.environ['AURORA_POSTGRES_USERNAME']} password={os.environ['AURORA_POSTGRES_PWD']}\")\n",
    "    cur = conn.cursor()\n",
    "except psycopg2.Error as e: \n",
    "    print(\"Error: Could not make connection to the Postgres database\")\n",
    "    print(e)\n",
    "    "
   ]
  },
  {
   "cell_type": "markdown",
   "id": "bb21ff48",
   "metadata": {},
   "source": [
    "### 3.1. Create the table"
   ]
  },
  {
   "cell_type": "code",
   "execution_count": 57,
   "id": "057d3f18",
   "metadata": {},
   "outputs": [],
   "source": [
    "# Redefine columns types\n",
    "col_types = {\n",
    "    'file_download_year': 'numeric',\n",
    "    'file_download_month': 'numeric',\n",
    "    'numero': 'numeric',\n",
    "    'latitude': 'numeric',\n",
    "    'longitude': 'numeric',\n",
    "    'ano_fabricacao': 'numeric',\n",
    "    'ano_modelo': 'numeric',\n",
    "    }\n",
    "\n",
    "# Create the statement to be executed for table creation\n",
    "col_types = {k.lower(): v for k,v in col_types.items()}\n",
    "create_statement = f\"CREATE TABLE staging_tables.stg_roubo_e_furto ({', '.join([k+' '+col_types[k] if k in col_types.keys() else k+' varchar' for k in final_data.columns])})\"\n",
    "cur.execute(create_statement)\n",
    "conn.commit()\n",
    "\n"
   ]
  },
  {
   "cell_type": "markdown",
   "id": "3e52536c",
   "metadata": {},
   "source": [
    "### 3.2. Populate the table"
   ]
  },
  {
   "cell_type": "code",
   "execution_count": 58,
   "id": "9f51581e",
   "metadata": {},
   "outputs": [
    {
     "name": "stderr",
     "output_type": "stream",
     "text": [
      "140144it [4:13:59,  9.20it/s]\n"
     ]
    }
   ],
   "source": [
    "for i, record in tqdm(final_data.iterrows()):\n",
    "    insert_statement = f\"INSERT INTO staging_tables.stg_roubo_e_furto ({', '.join(record.index)}) VALUES ({', '.join(['%s']*len(record))})\"\n",
    "    cur.execute(insert_statement,\n",
    "                tuple([v for k,v in record.items()])\n",
    "               )\n",
    "    \n",
    "conn.commit()\n"
   ]
  },
  {
   "cell_type": "markdown",
   "id": "f1394de0",
   "metadata": {},
   "source": [
    "### 3.3 Create a geography columns"
   ]
  },
  {
   "cell_type": "code",
   "execution_count": 12,
   "id": "e8d417d0",
   "metadata": {},
   "outputs": [],
   "source": [
    "# Create the column\n",
    "cur.execute(\"ALTER TABLE staging_tables.stg_roubo_e_furto ADD COLUMN incident_location geometry(Point, 4326);\")\n",
    "conn.commit()\n",
    "\n",
    "# Populate the column\n",
    "cur.execute(\"UPDATE staging_tables.stg_roubo_e_furto SET incident_location = ST_SetSRID(ST_MakePoint(longitude, latitude), 4326)\")\n",
    "conn.commit()\n"
   ]
  }
 ],
 "metadata": {
  "kernelspec": {
   "display_name": "Python 3 (ipykernel)",
   "language": "python",
   "name": "python3"
  },
  "language_info": {
   "codemirror_mode": {
    "name": "ipython",
    "version": 3
   },
   "file_extension": ".py",
   "mimetype": "text/x-python",
   "name": "python",
   "nbconvert_exporter": "python",
   "pygments_lexer": "ipython3",
   "version": "3.9.7"
  }
 },
 "nbformat": 4,
 "nbformat_minor": 5
}
