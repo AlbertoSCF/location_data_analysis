{
 "cells": [
  {
   "cell_type": "markdown",
   "id": "4121dc36",
   "metadata": {},
   "source": [
    "# DATA EXPLORATION FOR THE ZENDRIVE SCHEMA\n",
    "\n",
    "In this notebook we explore the zendrive schema and its tables to understand the data model and the information collected. Tables explored are:\n",
    "\n",
    "1. `zendrive.users`\n",
    "2. `zendrive.trip`\n",
    "3. `zendrive.event`\n",
    "4. `zendrive.path_point`\n",
    "\n",
    "We do not cover the exploration of `zendrive.trip_discount_total`(for now) as it contains information relating to the aggregation of user scores for discount computation purposes\n"
   ]
  },
  {
   "cell_type": "code",
   "execution_count": 1,
   "id": "e213bbf2",
   "metadata": {},
   "outputs": [],
   "source": [
    "import pandas as pd\n",
    "import psycopg2, os\n",
    "import matplotlib.pyplot as plt\n",
    "\n",
    "# Establish connection and create its cursor\n",
    "try: \n",
    "    conn = psycopg2.connect(f\"host={os.environ['AURORA_POSTGRES_HOST']} dbname={os.environ['AURORA_POSTGRES_DATABASE']} user={os.environ['AURORA_POSTGRES_USERNAME']} password={os.environ['AURORA_POSTGRES_PWD']}\")\n",
    "    cur = conn.cursor()\n",
    "except psycopg2.Error as e: \n",
    "    print(\"Error: Could not make connection to the Postgres database\")\n",
    "    print(e)\n",
    "    "
   ]
  },
  {
   "cell_type": "markdown",
   "id": "16ea878f",
   "metadata": {},
   "source": [
    "---\n",
    "\n",
    "## 1. Users table\n",
    "\n",
    "The users table contains info on the users of the app\n",
    "\n",
    "### 1.1. Exploration"
   ]
  },
  {
   "cell_type": "code",
   "execution_count": 2,
   "id": "edf001b4",
   "metadata": {},
   "outputs": [
    {
     "data": {
      "text/html": [
       "<div>\n",
       "<style scoped>\n",
       "    .dataframe tbody tr th:only-of-type {\n",
       "        vertical-align: middle;\n",
       "    }\n",
       "\n",
       "    .dataframe tbody tr th {\n",
       "        vertical-align: top;\n",
       "    }\n",
       "\n",
       "    .dataframe thead th {\n",
       "        text-align: right;\n",
       "    }\n",
       "</style>\n",
       "<table border=\"1\" class=\"dataframe\">\n",
       "  <thead>\n",
       "    <tr style=\"text-align: right;\">\n",
       "      <th></th>\n",
       "      <th>id</th>\n",
       "      <th>cep</th>\n",
       "      <th>created_at</th>\n",
       "      <th>updated_at</th>\n",
       "      <th>score</th>\n",
       "      <th>distance</th>\n",
       "      <th>last_trip_date</th>\n",
       "      <th>user_composed_id</th>\n",
       "      <th>email</th>\n",
       "      <th>internal_timestamp</th>\n",
       "    </tr>\n",
       "  </thead>\n",
       "  <tbody>\n",
       "    <tr>\n",
       "      <th>0</th>\n",
       "      <td>958</td>\n",
       "      <td>08246-080</td>\n",
       "      <td>2021-07-07 08:44:50.880449</td>\n",
       "      <td>2021-10-04 06:56:21.336009</td>\n",
       "      <td>74.0</td>\n",
       "      <td>132.64</td>\n",
       "      <td>2021-08-02 07:21:13</td>\n",
       "      <td>958--2021-10-04 06:56:21.336009</td>\n",
       "      <td>clovisfrancisco1302@gmail.com</td>\n",
       "      <td>2021-10-04 12:25:57.645986</td>\n",
       "    </tr>\n",
       "    <tr>\n",
       "      <th>1</th>\n",
       "      <td>728</td>\n",
       "      <td>None</td>\n",
       "      <td>2021-07-03 12:33:39.878525</td>\n",
       "      <td>2021-10-03 17:46:52.278133</td>\n",
       "      <td>0.0</td>\n",
       "      <td>0.00</td>\n",
       "      <td>NaT</td>\n",
       "      <td>728--2021-10-03 17:46:52.278133</td>\n",
       "      <td>erivanda553@gmail.com</td>\n",
       "      <td>2021-10-04 12:25:57.645986</td>\n",
       "    </tr>\n",
       "  </tbody>\n",
       "</table>\n",
       "</div>"
      ],
      "text/plain": [
       "    id        cep                 created_at                 updated_at  \\\n",
       "0  958  08246-080 2021-07-07 08:44:50.880449 2021-10-04 06:56:21.336009   \n",
       "1  728       None 2021-07-03 12:33:39.878525 2021-10-03 17:46:52.278133   \n",
       "\n",
       "   score  distance      last_trip_date                 user_composed_id  \\\n",
       "0   74.0    132.64 2021-08-02 07:21:13  958--2021-10-04 06:56:21.336009   \n",
       "1    0.0      0.00                 NaT  728--2021-10-03 17:46:52.278133   \n",
       "\n",
       "                           email         internal_timestamp  \n",
       "0  clovisfrancisco1302@gmail.com 2021-10-04 12:25:57.645986  \n",
       "1          erivanda553@gmail.com 2021-10-04 12:25:57.645986  "
      ]
     },
     "execution_count": 2,
     "metadata": {},
     "output_type": "execute_result"
    }
   ],
   "source": [
    "cur.execute(\"SELECT * FROM zendrive.user\")\n",
    "users = pd.DataFrame(cur.fetchall(), columns=[desc[0] for desc in cur.description])\n",
    "users.head(2)\n"
   ]
  },
  {
   "cell_type": "markdown",
   "id": "066cbad7",
   "metadata": {},
   "source": [
    "We find user level duplicates"
   ]
  },
  {
   "cell_type": "code",
   "execution_count": 3,
   "id": "32cf9670",
   "metadata": {},
   "outputs": [
    {
     "name": "stdout",
     "output_type": "stream",
     "text": [
      "Rows in table: 129296\n",
      "Unique user IDs: 17800\n"
     ]
    }
   ],
   "source": [
    "print('Rows in table:', users.shape[0])\n",
    "print('Unique user IDs:', users.id.nunique())\n"
   ]
  },
  {
   "cell_type": "markdown",
   "id": "9aa0d4a8",
   "metadata": {},
   "source": [
    "Query user with most entries"
   ]
  },
  {
   "cell_type": "code",
   "execution_count": 4,
   "id": "514ef732",
   "metadata": {},
   "outputs": [
    {
     "name": "stdout",
     "output_type": "stream",
     "text": [
      "User with most entries has id 4328 and 705 records\n"
     ]
    },
    {
     "data": {
      "text/html": [
       "<div>\n",
       "<style scoped>\n",
       "    .dataframe tbody tr th:only-of-type {\n",
       "        vertical-align: middle;\n",
       "    }\n",
       "\n",
       "    .dataframe tbody tr th {\n",
       "        vertical-align: top;\n",
       "    }\n",
       "\n",
       "    .dataframe thead th {\n",
       "        text-align: right;\n",
       "    }\n",
       "</style>\n",
       "<table border=\"1\" class=\"dataframe\">\n",
       "  <thead>\n",
       "    <tr style=\"text-align: right;\">\n",
       "      <th></th>\n",
       "      <th>id</th>\n",
       "      <th>cep</th>\n",
       "      <th>created_at</th>\n",
       "      <th>updated_at</th>\n",
       "      <th>score</th>\n",
       "      <th>distance</th>\n",
       "      <th>last_trip_date</th>\n",
       "      <th>user_composed_id</th>\n",
       "      <th>email</th>\n",
       "      <th>internal_timestamp</th>\n",
       "    </tr>\n",
       "  </thead>\n",
       "  <tbody>\n",
       "    <tr>\n",
       "      <th>124</th>\n",
       "      <td>4328</td>\n",
       "      <td>None</td>\n",
       "      <td>2021-08-06 21:29:52.385752</td>\n",
       "      <td>2021-10-04 12:08:12.608730</td>\n",
       "      <td>70.0</td>\n",
       "      <td>249.43</td>\n",
       "      <td>2021-08-09 11:27:10</td>\n",
       "      <td>4328--2021-10-04 12:08:12.60873</td>\n",
       "      <td>sid_jeane@hotmail.com</td>\n",
       "      <td>2021-10-04 12:25:57.645986</td>\n",
       "    </tr>\n",
       "    <tr>\n",
       "      <th>569</th>\n",
       "      <td>4328</td>\n",
       "      <td>None</td>\n",
       "      <td>2021-08-06 21:29:52.385752</td>\n",
       "      <td>2021-10-04 13:24:57.824865</td>\n",
       "      <td>70.0</td>\n",
       "      <td>249.43</td>\n",
       "      <td>2021-08-09 11:27:10</td>\n",
       "      <td>4328--2021-10-04 13:24:57.824865</td>\n",
       "      <td>sid_jeane@hotmail.com</td>\n",
       "      <td>2021-10-04 13:46:32.293119</td>\n",
       "    </tr>\n",
       "    <tr>\n",
       "      <th>617</th>\n",
       "      <td>4328</td>\n",
       "      <td>None</td>\n",
       "      <td>2021-08-06 21:29:52.385752</td>\n",
       "      <td>2021-10-12 21:19:09.755388</td>\n",
       "      <td>70.0</td>\n",
       "      <td>249.43</td>\n",
       "      <td>2021-08-09 11:27:10</td>\n",
       "      <td>4328--2021-10-12 21:19:09.755388</td>\n",
       "      <td>sid_jeane@hotmail.com</td>\n",
       "      <td>2021-10-12 21:46:46.221088</td>\n",
       "    </tr>\n",
       "    <tr>\n",
       "      <th>627</th>\n",
       "      <td>4328</td>\n",
       "      <td>None</td>\n",
       "      <td>2021-08-06 21:29:52.385752</td>\n",
       "      <td>2021-10-04 14:15:42.205540</td>\n",
       "      <td>70.0</td>\n",
       "      <td>249.43</td>\n",
       "      <td>2021-08-09 11:27:10</td>\n",
       "      <td>4328--2021-10-04 14:15:42.20554</td>\n",
       "      <td>sid_jeane@hotmail.com</td>\n",
       "      <td>2021-10-04 14:46:26.593925</td>\n",
       "    </tr>\n",
       "    <tr>\n",
       "      <th>684</th>\n",
       "      <td>4328</td>\n",
       "      <td>None</td>\n",
       "      <td>2021-08-06 21:29:52.385752</td>\n",
       "      <td>2021-10-04 15:16:07.149808</td>\n",
       "      <td>70.0</td>\n",
       "      <td>249.43</td>\n",
       "      <td>2021-08-09 11:27:10</td>\n",
       "      <td>4328--2021-10-04 15:16:07.149808</td>\n",
       "      <td>sid_jeane@hotmail.com</td>\n",
       "      <td>2021-10-04 15:47:12.376766</td>\n",
       "    </tr>\n",
       "  </tbody>\n",
       "</table>\n",
       "</div>"
      ],
      "text/plain": [
       "       id   cep                 created_at                 updated_at  score  \\\n",
       "124  4328  None 2021-08-06 21:29:52.385752 2021-10-04 12:08:12.608730   70.0   \n",
       "569  4328  None 2021-08-06 21:29:52.385752 2021-10-04 13:24:57.824865   70.0   \n",
       "617  4328  None 2021-08-06 21:29:52.385752 2021-10-12 21:19:09.755388   70.0   \n",
       "627  4328  None 2021-08-06 21:29:52.385752 2021-10-04 14:15:42.205540   70.0   \n",
       "684  4328  None 2021-08-06 21:29:52.385752 2021-10-04 15:16:07.149808   70.0   \n",
       "\n",
       "     distance      last_trip_date                  user_composed_id  \\\n",
       "124    249.43 2021-08-09 11:27:10   4328--2021-10-04 12:08:12.60873   \n",
       "569    249.43 2021-08-09 11:27:10  4328--2021-10-04 13:24:57.824865   \n",
       "617    249.43 2021-08-09 11:27:10  4328--2021-10-12 21:19:09.755388   \n",
       "627    249.43 2021-08-09 11:27:10   4328--2021-10-04 14:15:42.20554   \n",
       "684    249.43 2021-08-09 11:27:10  4328--2021-10-04 15:16:07.149808   \n",
       "\n",
       "                     email         internal_timestamp  \n",
       "124  sid_jeane@hotmail.com 2021-10-04 12:25:57.645986  \n",
       "569  sid_jeane@hotmail.com 2021-10-04 13:46:32.293119  \n",
       "617  sid_jeane@hotmail.com 2021-10-12 21:46:46.221088  \n",
       "627  sid_jeane@hotmail.com 2021-10-04 14:46:26.593925  \n",
       "684  sid_jeane@hotmail.com 2021-10-04 15:47:12.376766  "
      ]
     },
     "execution_count": 4,
     "metadata": {},
     "output_type": "execute_result"
    }
   ],
   "source": [
    "user_of_interest = users.groupby('id').apply(lambda x: x.shape[0]).sort_values(ascending=False).index[0]\n",
    "user_entries = users[users['id']==user_of_interest].copy()\n",
    "print(f\"User with most entries has id {user_of_interest} and {user_entries.shape[0]} records\")\n",
    "user_entries.head()\n"
   ]
  },
  {
   "cell_type": "markdown",
   "id": "ece6dc09",
   "metadata": {},
   "source": [
    "The only difference between rows is the columns that involve an update timestamp"
   ]
  },
  {
   "cell_type": "code",
   "execution_count": 5,
   "id": "a0fda162",
   "metadata": {},
   "outputs": [
    {
     "data": {
      "text/plain": [
       "id                      1\n",
       "cep                     0\n",
       "created_at              1\n",
       "updated_at            705\n",
       "score                   1\n",
       "distance                1\n",
       "last_trip_date          1\n",
       "user_composed_id      705\n",
       "email                   1\n",
       "internal_timestamp    682\n",
       "dtype: int64"
      ]
     },
     "execution_count": 5,
     "metadata": {},
     "output_type": "execute_result"
    }
   ],
   "source": [
    "user_entries.apply(lambda x: x.nunique())"
   ]
  },
  {
   "cell_type": "markdown",
   "id": "c82074f8",
   "metadata": {},
   "source": [
    "Check if this is true for all users - it is not, so pick the user with the biggest amount of unique values across columns"
   ]
  },
  {
   "cell_type": "code",
   "execution_count": 6,
   "id": "b180c6f0",
   "metadata": {},
   "outputs": [
    {
     "data": {
      "text/html": [
       "<div>\n",
       "<style scoped>\n",
       "    .dataframe tbody tr th:only-of-type {\n",
       "        vertical-align: middle;\n",
       "    }\n",
       "\n",
       "    .dataframe tbody tr th {\n",
       "        vertical-align: top;\n",
       "    }\n",
       "\n",
       "    .dataframe thead th {\n",
       "        text-align: right;\n",
       "    }\n",
       "</style>\n",
       "<table border=\"1\" class=\"dataframe\">\n",
       "  <thead>\n",
       "    <tr style=\"text-align: right;\">\n",
       "      <th></th>\n",
       "      <th>id</th>\n",
       "      <th>cep</th>\n",
       "      <th>created_at</th>\n",
       "      <th>updated_at</th>\n",
       "      <th>score</th>\n",
       "      <th>distance</th>\n",
       "      <th>last_trip_date</th>\n",
       "      <th>user_composed_id</th>\n",
       "      <th>email</th>\n",
       "      <th>internal_timestamp</th>\n",
       "    </tr>\n",
       "  </thead>\n",
       "  <tbody>\n",
       "    <tr>\n",
       "      <th>327</th>\n",
       "      <td>533</td>\n",
       "      <td>09030-400</td>\n",
       "      <td>2021-06-27 20:08:14.780</td>\n",
       "      <td>2021-10-02 17:07:02.674836</td>\n",
       "      <td>95.0</td>\n",
       "      <td>1357.999</td>\n",
       "      <td>2021-10-01 19:43:53</td>\n",
       "      <td>533--2021-10-02 17:07:02.674836</td>\n",
       "      <td>rafael.avl@me.com</td>\n",
       "      <td>2021-10-04 12:25:57.645986</td>\n",
       "    </tr>\n",
       "    <tr>\n",
       "      <th>554</th>\n",
       "      <td>533</td>\n",
       "      <td>09030-400</td>\n",
       "      <td>2021-06-27 20:08:14.780</td>\n",
       "      <td>2021-10-09 21:46:24.664537</td>\n",
       "      <td>95.0</td>\n",
       "      <td>1390.423</td>\n",
       "      <td>2021-10-08 11:13:32</td>\n",
       "      <td>533--2021-10-09 21:46:24.664537</td>\n",
       "      <td>rafael.avl@me.com</td>\n",
       "      <td>2021-10-09 22:46:53.400199</td>\n",
       "    </tr>\n",
       "    <tr>\n",
       "      <th>1076</th>\n",
       "      <td>533</td>\n",
       "      <td>09030-400</td>\n",
       "      <td>2021-06-27 20:08:14.780</td>\n",
       "      <td>2021-10-09 23:59:45.274922</td>\n",
       "      <td>95.0</td>\n",
       "      <td>1390.423</td>\n",
       "      <td>2021-10-09 16:57:52</td>\n",
       "      <td>533--2021-10-09 23:59:45.274922</td>\n",
       "      <td>rafael.avl@me.com</td>\n",
       "      <td>2021-10-10 00:47:02.089846</td>\n",
       "    </tr>\n",
       "    <tr>\n",
       "      <th>1331</th>\n",
       "      <td>533</td>\n",
       "      <td>09030-400</td>\n",
       "      <td>2021-06-27 20:08:14.780</td>\n",
       "      <td>2021-10-10 01:42:48.204239</td>\n",
       "      <td>95.0</td>\n",
       "      <td>1392.154</td>\n",
       "      <td>2021-10-09 16:57:52</td>\n",
       "      <td>533--2021-10-10 01:42:48.204239</td>\n",
       "      <td>rafael.avl@me.com</td>\n",
       "      <td>2021-10-10 02:46:56.549393</td>\n",
       "    </tr>\n",
       "    <tr>\n",
       "      <th>2094</th>\n",
       "      <td>533</td>\n",
       "      <td>09030-400</td>\n",
       "      <td>2021-06-27 20:08:14.780</td>\n",
       "      <td>2021-10-10 13:02:48.714420</td>\n",
       "      <td>95.0</td>\n",
       "      <td>1392.154</td>\n",
       "      <td>2021-10-09 23:43:37</td>\n",
       "      <td>533--2021-10-10 13:02:48.71442</td>\n",
       "      <td>rafael.avl@me.com</td>\n",
       "      <td>2021-10-10 13:46:52.351268</td>\n",
       "    </tr>\n",
       "  </tbody>\n",
       "</table>\n",
       "</div>"
      ],
      "text/plain": [
       "       id        cep              created_at                 updated_at  \\\n",
       "327   533  09030-400 2021-06-27 20:08:14.780 2021-10-02 17:07:02.674836   \n",
       "554   533  09030-400 2021-06-27 20:08:14.780 2021-10-09 21:46:24.664537   \n",
       "1076  533  09030-400 2021-06-27 20:08:14.780 2021-10-09 23:59:45.274922   \n",
       "1331  533  09030-400 2021-06-27 20:08:14.780 2021-10-10 01:42:48.204239   \n",
       "2094  533  09030-400 2021-06-27 20:08:14.780 2021-10-10 13:02:48.714420   \n",
       "\n",
       "      score  distance      last_trip_date                 user_composed_id  \\\n",
       "327    95.0  1357.999 2021-10-01 19:43:53  533--2021-10-02 17:07:02.674836   \n",
       "554    95.0  1390.423 2021-10-08 11:13:32  533--2021-10-09 21:46:24.664537   \n",
       "1076   95.0  1390.423 2021-10-09 16:57:52  533--2021-10-09 23:59:45.274922   \n",
       "1331   95.0  1392.154 2021-10-09 16:57:52  533--2021-10-10 01:42:48.204239   \n",
       "2094   95.0  1392.154 2021-10-09 23:43:37   533--2021-10-10 13:02:48.71442   \n",
       "\n",
       "                  email         internal_timestamp  \n",
       "327   rafael.avl@me.com 2021-10-04 12:25:57.645986  \n",
       "554   rafael.avl@me.com 2021-10-09 22:46:53.400199  \n",
       "1076  rafael.avl@me.com 2021-10-10 00:47:02.089846  \n",
       "1331  rafael.avl@me.com 2021-10-10 02:46:56.549393  \n",
       "2094  rafael.avl@me.com 2021-10-10 13:46:52.351268  "
      ]
     },
     "execution_count": 6,
     "metadata": {},
     "output_type": "execute_result"
    }
   ],
   "source": [
    "unique_values_count = users.drop(columns=['updated_at', \n",
    "                                          'user_composed_id', \n",
    "                                          'internal_timestamp']).drop_duplicates().groupby('id').apply(lambda x: x.nunique())\n",
    "\n",
    "user_of_interest = unique_values_count.sum(axis=1).sort_values(ascending=False).index[0]\n",
    "user_entries = users[users['id']==user_of_interest].copy()\n",
    "user_entries.head()\n",
    "\n"
   ]
  },
  {
   "cell_type": "markdown",
   "id": "4a129f86",
   "metadata": {},
   "source": [
    "DIstance should increase with timestamp"
   ]
  },
  {
   "cell_type": "code",
   "execution_count": 7,
   "id": "b2349c4b",
   "metadata": {},
   "outputs": [
    {
     "data": {
      "text/plain": [
       "<AxesSubplot:xlabel='updated_at', ylabel='score'>"
      ]
     },
     "execution_count": 7,
     "metadata": {},
     "output_type": "execute_result"
    },
    {
     "data": {
      "image/png": "[encoded data removed]",
      "text/plain": [
       "<Figure size 1080x360 with 2 Axes>"
      ]
     },
     "metadata": {
      "needs_background": "light"
     },
     "output_type": "display_data"
    }
   ],
   "source": [
    "fig, axes = plt.subplots(1,2,figsize=(15,5))\n",
    "user_entries.plot(kind='scatter', x='updated_at', y='distance', ax=axes[0])\n",
    "user_entries.plot(kind='scatter', x='updated_at', y='score', ax=axes[1])"
   ]
  },
  {
   "cell_type": "markdown",
   "id": "5de8155f",
   "metadata": {},
   "source": [
    "### 1.2. Table summary\n",
    "\n",
    "Main learnings are:\n",
    "\n",
    "- This stores cumulative informatio on users of the app\n",
    "- When a new trip happens, the table (supposedly) updates creating a new record for the user\n",
    "- In the record a few fields will be fixed:\n",
    "    - `id`: Unique user id\n",
    "    - `cep`: User CEP code\n",
    "    - `created_at`: Time at which the user registered\n",
    "    - `email`\n",
    "- The rest of the fields should update with information of the latest trip, including:\n",
    "    - `updated_at`\n",
    "    - `score`\n",
    "    - `distance`: Cumulative user distance (see scatterplot above)\n",
    "    - `last_trip_date`\n",
    "    \n",
    "---\n",
    "\n",
    "## 2. Trip table\n",
    "\n",
    "The trip table contains all trips from users of the app with the overall info of the trip"
   ]
  },
  {
   "cell_type": "code",
   "execution_count": 8,
   "id": "b6b4c05c",
   "metadata": {
    "scrolled": true
   },
   "outputs": [
    {
     "data": {
      "text/html": [
       "<div>\n",
       "<style scoped>\n",
       "    .dataframe tbody tr th:only-of-type {\n",
       "        vertical-align: middle;\n",
       "    }\n",
       "\n",
       "    .dataframe tbody tr th {\n",
       "        vertical-align: top;\n",
       "    }\n",
       "\n",
       "    .dataframe thead th {\n",
       "        text-align: right;\n",
       "    }\n",
       "</style>\n",
       "<table border=\"1\" class=\"dataframe\">\n",
       "  <thead>\n",
       "    <tr style=\"text-align: right;\">\n",
       "      <th></th>\n",
       "      <th>id</th>\n",
       "      <th>trip_id</th>\n",
       "      <th>driver</th>\n",
       "      <th>created_at</th>\n",
       "      <th>updated_at</th>\n",
       "      <th>started_at</th>\n",
       "      <th>ended_at</th>\n",
       "      <th>distance</th>\n",
       "      <th>score</th>\n",
       "      <th>user_feedback</th>\n",
       "      <th>...</th>\n",
       "      <th>longitude_end</th>\n",
       "      <th>hard_turn_rating</th>\n",
       "      <th>phone_use_rating</th>\n",
       "      <th>hard_brake_rating</th>\n",
       "      <th>overspeeding_rating</th>\n",
       "      <th>rapid_acceleration_rating</th>\n",
       "      <th>drive_type</th>\n",
       "      <th>vehicle_type</th>\n",
       "      <th>trip_composed_id</th>\n",
       "      <th>internal_timestamp</th>\n",
       "    </tr>\n",
       "  </thead>\n",
       "  <tbody>\n",
       "    <tr>\n",
       "      <th>0</th>\n",
       "      <td>162224</td>\n",
       "      <td>1630920223676</td>\n",
       "      <td>963</td>\n",
       "      <td>2021-09-06 10:08:34.593644</td>\n",
       "      <td>2021-09-08 05:01:11.653504</td>\n",
       "      <td>2021-09-06 09:23:43</td>\n",
       "      <td>2021-09-06 09:33:55</td>\n",
       "      <td>3.036</td>\n",
       "      <td>100.0</td>\n",
       "      <td>None</td>\n",
       "      <td>...</td>\n",
       "      <td>-39.532036</td>\n",
       "      <td>-1</td>\n",
       "      <td>-1</td>\n",
       "      <td>5</td>\n",
       "      <td>5</td>\n",
       "      <td>5</td>\n",
       "      <td>driver</td>\n",
       "      <td>car</td>\n",
       "      <td>162224--2021-09-08 05:01:11.653504</td>\n",
       "      <td>2021-10-04 15:53:48.478772</td>\n",
       "    </tr>\n",
       "    <tr>\n",
       "      <th>1</th>\n",
       "      <td>162179</td>\n",
       "      <td>1630916816151</td>\n",
       "      <td>963</td>\n",
       "      <td>2021-09-06 08:44:37.182426</td>\n",
       "      <td>2021-09-08 05:01:14.697874</td>\n",
       "      <td>2021-09-06 08:26:56</td>\n",
       "      <td>2021-09-06 08:36:47</td>\n",
       "      <td>0.830</td>\n",
       "      <td>100.0</td>\n",
       "      <td>None</td>\n",
       "      <td>...</td>\n",
       "      <td>-39.530622</td>\n",
       "      <td>-1</td>\n",
       "      <td>-1</td>\n",
       "      <td>5</td>\n",
       "      <td>5</td>\n",
       "      <td>5</td>\n",
       "      <td>driver</td>\n",
       "      <td>car</td>\n",
       "      <td>162179--2021-09-08 05:01:14.697874</td>\n",
       "      <td>2021-10-04 15:53:48.478772</td>\n",
       "    </tr>\n",
       "  </tbody>\n",
       "</table>\n",
       "<p>2 rows × 25 columns</p>\n",
       "</div>"
      ],
      "text/plain": [
       "       id        trip_id  driver                 created_at  \\\n",
       "0  162224  1630920223676     963 2021-09-06 10:08:34.593644   \n",
       "1  162179  1630916816151     963 2021-09-06 08:44:37.182426   \n",
       "\n",
       "                  updated_at          started_at            ended_at  \\\n",
       "0 2021-09-08 05:01:11.653504 2021-09-06 09:23:43 2021-09-06 09:33:55   \n",
       "1 2021-09-08 05:01:14.697874 2021-09-06 08:26:56 2021-09-06 08:36:47   \n",
       "\n",
       "   distance  score user_feedback  ...  longitude_end  hard_turn_rating  \\\n",
       "0     3.036  100.0          None  ...     -39.532036                -1   \n",
       "1     0.830  100.0          None  ...     -39.530622                -1   \n",
       "\n",
       "   phone_use_rating  hard_brake_rating  overspeeding_rating  \\\n",
       "0                -1                  5                    5   \n",
       "1                -1                  5                    5   \n",
       "\n",
       "   rapid_acceleration_rating  drive_type  vehicle_type  \\\n",
       "0                          5      driver           car   \n",
       "1                          5      driver           car   \n",
       "\n",
       "                     trip_composed_id         internal_timestamp  \n",
       "0  162224--2021-09-08 05:01:11.653504 2021-10-04 15:53:48.478772  \n",
       "1  162179--2021-09-08 05:01:14.697874 2021-10-04 15:53:48.478772  \n",
       "\n",
       "[2 rows x 25 columns]"
      ]
     },
     "execution_count": 8,
     "metadata": {},
     "output_type": "execute_result"
    }
   ],
   "source": [
    "cur.execute(\"SELECT * FROM zendrive.trip\")\n",
    "trips = pd.DataFrame(cur.fetchall(), columns=[desc[0] for desc in cur.description])\n",
    "trips.head(2)\n"
   ]
  },
  {
   "cell_type": "markdown",
   "id": "1a22b6d3",
   "metadata": {},
   "source": [
    "---\n",
    "\n",
    "### 2.1. Analysis of the dataframe\n",
    "\n",
    "Some analysis of the columns in the df\n",
    "\n",
    "#### ID INFO"
   ]
  },
  {
   "cell_type": "code",
   "execution_count": 9,
   "id": "1a155789",
   "metadata": {},
   "outputs": [
    {
     "data": {
      "text/html": [
       "<div>\n",
       "<style scoped>\n",
       "    .dataframe tbody tr th:only-of-type {\n",
       "        vertical-align: middle;\n",
       "    }\n",
       "\n",
       "    .dataframe tbody tr th {\n",
       "        vertical-align: top;\n",
       "    }\n",
       "\n",
       "    .dataframe thead th {\n",
       "        text-align: right;\n",
       "    }\n",
       "</style>\n",
       "<table border=\"1\" class=\"dataframe\">\n",
       "  <thead>\n",
       "    <tr style=\"text-align: right;\">\n",
       "      <th></th>\n",
       "      <th>id</th>\n",
       "      <th>trip_id</th>\n",
       "      <th>driver</th>\n",
       "      <th>drive_type</th>\n",
       "      <th>vehicle_type</th>\n",
       "    </tr>\n",
       "  </thead>\n",
       "  <tbody>\n",
       "    <tr>\n",
       "      <th>0</th>\n",
       "      <td>162224</td>\n",
       "      <td>1630920223676</td>\n",
       "      <td>963</td>\n",
       "      <td>driver</td>\n",
       "      <td>car</td>\n",
       "    </tr>\n",
       "    <tr>\n",
       "      <th>1</th>\n",
       "      <td>162179</td>\n",
       "      <td>1630916816151</td>\n",
       "      <td>963</td>\n",
       "      <td>driver</td>\n",
       "      <td>car</td>\n",
       "    </tr>\n",
       "    <tr>\n",
       "      <th>2</th>\n",
       "      <td>162174</td>\n",
       "      <td>1630916110781</td>\n",
       "      <td>963</td>\n",
       "      <td>driver</td>\n",
       "      <td>car</td>\n",
       "    </tr>\n",
       "    <tr>\n",
       "      <th>3</th>\n",
       "      <td>162129</td>\n",
       "      <td>1630898927245</td>\n",
       "      <td>963</td>\n",
       "      <td>driver</td>\n",
       "      <td>car</td>\n",
       "    </tr>\n",
       "    <tr>\n",
       "      <th>4</th>\n",
       "      <td>7</td>\n",
       "      <td>1619340142907</td>\n",
       "      <td>13</td>\n",
       "      <td>driver</td>\n",
       "      <td>car</td>\n",
       "    </tr>\n",
       "  </tbody>\n",
       "</table>\n",
       "</div>"
      ],
      "text/plain": [
       "       id        trip_id  driver drive_type vehicle_type\n",
       "0  162224  1630920223676     963     driver          car\n",
       "1  162179  1630916816151     963     driver          car\n",
       "2  162174  1630916110781     963     driver          car\n",
       "3  162129  1630898927245     963     driver          car\n",
       "4       7  1619340142907      13     driver          car"
      ]
     },
     "execution_count": 9,
     "metadata": {},
     "output_type": "execute_result"
    }
   ],
   "source": [
    "trips[['id', 'trip_id', 'driver', 'drive_type', 'vehicle_type']].head()"
   ]
  },
  {
   "cell_type": "markdown",
   "id": "97e8d4af",
   "metadata": {},
   "source": [
    "#### RECORD TIMESTAMPS"
   ]
  },
  {
   "cell_type": "code",
   "execution_count": 10,
   "id": "95333b3f",
   "metadata": {},
   "outputs": [
    {
     "data": {
      "text/html": [
       "<div>\n",
       "<style scoped>\n",
       "    .dataframe tbody tr th:only-of-type {\n",
       "        vertical-align: middle;\n",
       "    }\n",
       "\n",
       "    .dataframe tbody tr th {\n",
       "        vertical-align: top;\n",
       "    }\n",
       "\n",
       "    .dataframe thead th {\n",
       "        text-align: right;\n",
       "    }\n",
       "</style>\n",
       "<table border=\"1\" class=\"dataframe\">\n",
       "  <thead>\n",
       "    <tr style=\"text-align: right;\">\n",
       "      <th></th>\n",
       "      <th>created_at</th>\n",
       "      <th>updated_at</th>\n",
       "      <th>internal_timestamp</th>\n",
       "      <th>trip_composed_id</th>\n",
       "    </tr>\n",
       "  </thead>\n",
       "  <tbody>\n",
       "    <tr>\n",
       "      <th>0</th>\n",
       "      <td>2021-09-06 10:08:34.593644</td>\n",
       "      <td>2021-09-08 05:01:11.653504</td>\n",
       "      <td>2021-10-04 15:53:48.478772</td>\n",
       "      <td>162224--2021-09-08 05:01:11.653504</td>\n",
       "    </tr>\n",
       "    <tr>\n",
       "      <th>1</th>\n",
       "      <td>2021-09-06 08:44:37.182426</td>\n",
       "      <td>2021-09-08 05:01:14.697874</td>\n",
       "      <td>2021-10-04 15:53:48.478772</td>\n",
       "      <td>162179--2021-09-08 05:01:14.697874</td>\n",
       "    </tr>\n",
       "    <tr>\n",
       "      <th>2</th>\n",
       "      <td>2021-09-06 08:27:11.414375</td>\n",
       "      <td>2021-09-08 05:01:18.592458</td>\n",
       "      <td>2021-10-04 15:53:48.478772</td>\n",
       "      <td>162174--2021-09-08 05:01:18.592458</td>\n",
       "    </tr>\n",
       "    <tr>\n",
       "      <th>3</th>\n",
       "      <td>2021-09-06 03:47:20.740561</td>\n",
       "      <td>2021-09-08 05:01:47.194111</td>\n",
       "      <td>2021-10-04 15:53:48.478772</td>\n",
       "      <td>162129--2021-09-08 05:01:47.194111</td>\n",
       "    </tr>\n",
       "    <tr>\n",
       "      <th>4</th>\n",
       "      <td>2021-05-27 09:30:19.683158</td>\n",
       "      <td>2021-06-18 13:42:39.432033</td>\n",
       "      <td>2021-10-04 15:53:48.478772</td>\n",
       "      <td>7--2021-06-18 13:42:39.432033</td>\n",
       "    </tr>\n",
       "  </tbody>\n",
       "</table>\n",
       "</div>"
      ],
      "text/plain": [
       "                  created_at                 updated_at  \\\n",
       "0 2021-09-06 10:08:34.593644 2021-09-08 05:01:11.653504   \n",
       "1 2021-09-06 08:44:37.182426 2021-09-08 05:01:14.697874   \n",
       "2 2021-09-06 08:27:11.414375 2021-09-08 05:01:18.592458   \n",
       "3 2021-09-06 03:47:20.740561 2021-09-08 05:01:47.194111   \n",
       "4 2021-05-27 09:30:19.683158 2021-06-18 13:42:39.432033   \n",
       "\n",
       "          internal_timestamp                    trip_composed_id  \n",
       "0 2021-10-04 15:53:48.478772  162224--2021-09-08 05:01:11.653504  \n",
       "1 2021-10-04 15:53:48.478772  162179--2021-09-08 05:01:14.697874  \n",
       "2 2021-10-04 15:53:48.478772  162174--2021-09-08 05:01:18.592458  \n",
       "3 2021-10-04 15:53:48.478772  162129--2021-09-08 05:01:47.194111  \n",
       "4 2021-10-04 15:53:48.478772       7--2021-06-18 13:42:39.432033  "
      ]
     },
     "execution_count": 10,
     "metadata": {},
     "output_type": "execute_result"
    }
   ],
   "source": [
    "trips[['created_at', 'updated_at', 'internal_timestamp', 'trip_composed_id']].head()"
   ]
  },
  {
   "cell_type": "markdown",
   "id": "01ee0f7c",
   "metadata": {},
   "source": [
    "#### TRIP START AND END"
   ]
  },
  {
   "cell_type": "code",
   "execution_count": 11,
   "id": "b06ea853",
   "metadata": {},
   "outputs": [
    {
     "data": {
      "text/html": [
       "<div>\n",
       "<style scoped>\n",
       "    .dataframe tbody tr th:only-of-type {\n",
       "        vertical-align: middle;\n",
       "    }\n",
       "\n",
       "    .dataframe tbody tr th {\n",
       "        vertical-align: top;\n",
       "    }\n",
       "\n",
       "    .dataframe thead th {\n",
       "        text-align: right;\n",
       "    }\n",
       "</style>\n",
       "<table border=\"1\" class=\"dataframe\">\n",
       "  <thead>\n",
       "    <tr style=\"text-align: right;\">\n",
       "      <th></th>\n",
       "      <th>started_at</th>\n",
       "      <th>latitude_start</th>\n",
       "      <th>longitude_start</th>\n",
       "      <th>ended_at</th>\n",
       "      <th>latitude_end</th>\n",
       "      <th>longitude_end</th>\n",
       "    </tr>\n",
       "  </thead>\n",
       "  <tbody>\n",
       "    <tr>\n",
       "      <th>0</th>\n",
       "      <td>2021-09-06 09:23:43</td>\n",
       "      <td>-18.058348</td>\n",
       "      <td>-39.534217</td>\n",
       "      <td>2021-09-06 09:33:55</td>\n",
       "      <td>-18.057699</td>\n",
       "      <td>-39.532036</td>\n",
       "    </tr>\n",
       "    <tr>\n",
       "      <th>1</th>\n",
       "      <td>2021-09-06 08:26:56</td>\n",
       "      <td>-18.057912</td>\n",
       "      <td>-39.532524</td>\n",
       "      <td>2021-09-06 08:36:47</td>\n",
       "      <td>-18.055221</td>\n",
       "      <td>-39.530622</td>\n",
       "    </tr>\n",
       "    <tr>\n",
       "      <th>2</th>\n",
       "      <td>2021-09-06 08:15:10</td>\n",
       "      <td>-18.055610</td>\n",
       "      <td>-39.532735</td>\n",
       "      <td>2021-09-06 08:20:25</td>\n",
       "      <td>-18.057705</td>\n",
       "      <td>-39.532039</td>\n",
       "    </tr>\n",
       "    <tr>\n",
       "      <th>3</th>\n",
       "      <td>2021-09-06 03:28:47</td>\n",
       "      <td>-18.053549</td>\n",
       "      <td>-39.529428</td>\n",
       "      <td>2021-09-06 03:39:11</td>\n",
       "      <td>-18.057814</td>\n",
       "      <td>-39.532116</td>\n",
       "    </tr>\n",
       "    <tr>\n",
       "      <th>4</th>\n",
       "      <td>2021-04-25 08:42:22</td>\n",
       "      <td>37.912951</td>\n",
       "      <td>-4.881221</td>\n",
       "      <td>2021-04-25 08:47:00</td>\n",
       "      <td>37.911233</td>\n",
       "      <td>-4.874953</td>\n",
       "    </tr>\n",
       "  </tbody>\n",
       "</table>\n",
       "</div>"
      ],
      "text/plain": [
       "           started_at  latitude_start  longitude_start            ended_at  \\\n",
       "0 2021-09-06 09:23:43      -18.058348       -39.534217 2021-09-06 09:33:55   \n",
       "1 2021-09-06 08:26:56      -18.057912       -39.532524 2021-09-06 08:36:47   \n",
       "2 2021-09-06 08:15:10      -18.055610       -39.532735 2021-09-06 08:20:25   \n",
       "3 2021-09-06 03:28:47      -18.053549       -39.529428 2021-09-06 03:39:11   \n",
       "4 2021-04-25 08:42:22       37.912951        -4.881221 2021-04-25 08:47:00   \n",
       "\n",
       "   latitude_end  longitude_end  \n",
       "0    -18.057699     -39.532036  \n",
       "1    -18.055221     -39.530622  \n",
       "2    -18.057705     -39.532039  \n",
       "3    -18.057814     -39.532116  \n",
       "4     37.911233      -4.874953  "
      ]
     },
     "execution_count": 11,
     "metadata": {},
     "output_type": "execute_result"
    }
   ],
   "source": [
    "trips[['started_at', 'latitude_start', 'longitude_start', \n",
    "       'ended_at', 'latitude_end', 'longitude_end']].head()"
   ]
  },
  {
   "cell_type": "markdown",
   "id": "6166c91e",
   "metadata": {},
   "source": [
    "#### TRIP INFO"
   ]
  },
  {
   "cell_type": "code",
   "execution_count": 12,
   "id": "dcdd65ce",
   "metadata": {},
   "outputs": [
    {
     "data": {
      "text/html": [
       "<div>\n",
       "<style scoped>\n",
       "    .dataframe tbody tr th:only-of-type {\n",
       "        vertical-align: middle;\n",
       "    }\n",
       "\n",
       "    .dataframe tbody tr th {\n",
       "        vertical-align: top;\n",
       "    }\n",
       "\n",
       "    .dataframe thead th {\n",
       "        text-align: right;\n",
       "    }\n",
       "</style>\n",
       "<table border=\"1\" class=\"dataframe\">\n",
       "  <thead>\n",
       "    <tr style=\"text-align: right;\">\n",
       "      <th></th>\n",
       "      <th>distance</th>\n",
       "      <th>duration_seconds</th>\n",
       "      <th>trip_max_speed_kmph</th>\n",
       "      <th>user_feedback</th>\n",
       "    </tr>\n",
       "  </thead>\n",
       "  <tbody>\n",
       "    <tr>\n",
       "      <th>0</th>\n",
       "      <td>3.036</td>\n",
       "      <td>611.501</td>\n",
       "      <td>33.019836</td>\n",
       "      <td>None</td>\n",
       "    </tr>\n",
       "    <tr>\n",
       "      <th>1</th>\n",
       "      <td>0.830</td>\n",
       "      <td>591.594</td>\n",
       "      <td>19.713024</td>\n",
       "      <td>None</td>\n",
       "    </tr>\n",
       "    <tr>\n",
       "      <th>2</th>\n",
       "      <td>0.912</td>\n",
       "      <td>314.899</td>\n",
       "      <td>19.996103</td>\n",
       "      <td>None</td>\n",
       "    </tr>\n",
       "    <tr>\n",
       "      <th>3</th>\n",
       "      <td>1.494</td>\n",
       "      <td>624.371</td>\n",
       "      <td>14.328577</td>\n",
       "      <td>None</td>\n",
       "    </tr>\n",
       "    <tr>\n",
       "      <th>4</th>\n",
       "      <td>0.908</td>\n",
       "      <td>278.000</td>\n",
       "      <td>18.443468</td>\n",
       "      <td>None</td>\n",
       "    </tr>\n",
       "  </tbody>\n",
       "</table>\n",
       "</div>"
      ],
      "text/plain": [
       "   distance  duration_seconds  trip_max_speed_kmph user_feedback\n",
       "0     3.036           611.501            33.019836          None\n",
       "1     0.830           591.594            19.713024          None\n",
       "2     0.912           314.899            19.996103          None\n",
       "3     1.494           624.371            14.328577          None\n",
       "4     0.908           278.000            18.443468          None"
      ]
     },
     "execution_count": 12,
     "metadata": {},
     "output_type": "execute_result"
    }
   ],
   "source": [
    "trips[['distance', 'duration_seconds', 'trip_max_speed_kmph', 'user_feedback']].head()"
   ]
  },
  {
   "cell_type": "markdown",
   "id": "b0e17f11",
   "metadata": {},
   "source": [
    "#### SCORES"
   ]
  },
  {
   "cell_type": "code",
   "execution_count": 13,
   "id": "78586b4d",
   "metadata": {},
   "outputs": [
    {
     "data": {
      "text/html": [
       "<div>\n",
       "<style scoped>\n",
       "    .dataframe tbody tr th:only-of-type {\n",
       "        vertical-align: middle;\n",
       "    }\n",
       "\n",
       "    .dataframe tbody tr th {\n",
       "        vertical-align: top;\n",
       "    }\n",
       "\n",
       "    .dataframe thead th {\n",
       "        text-align: right;\n",
       "    }\n",
       "</style>\n",
       "<table border=\"1\" class=\"dataframe\">\n",
       "  <thead>\n",
       "    <tr style=\"text-align: right;\">\n",
       "      <th></th>\n",
       "      <th>score</th>\n",
       "      <th>hard_turn_rating</th>\n",
       "      <th>phone_use_rating</th>\n",
       "      <th>hard_brake_rating</th>\n",
       "      <th>overspeeding_rating</th>\n",
       "      <th>rapid_acceleration_rating</th>\n",
       "    </tr>\n",
       "  </thead>\n",
       "  <tbody>\n",
       "    <tr>\n",
       "      <th>0</th>\n",
       "      <td>100.0</td>\n",
       "      <td>-1</td>\n",
       "      <td>-1</td>\n",
       "      <td>5</td>\n",
       "      <td>5</td>\n",
       "      <td>5</td>\n",
       "    </tr>\n",
       "    <tr>\n",
       "      <th>1</th>\n",
       "      <td>100.0</td>\n",
       "      <td>-1</td>\n",
       "      <td>-1</td>\n",
       "      <td>5</td>\n",
       "      <td>5</td>\n",
       "      <td>5</td>\n",
       "    </tr>\n",
       "    <tr>\n",
       "      <th>2</th>\n",
       "      <td>100.0</td>\n",
       "      <td>-1</td>\n",
       "      <td>-1</td>\n",
       "      <td>5</td>\n",
       "      <td>5</td>\n",
       "      <td>5</td>\n",
       "    </tr>\n",
       "    <tr>\n",
       "      <th>3</th>\n",
       "      <td>100.0</td>\n",
       "      <td>-1</td>\n",
       "      <td>-1</td>\n",
       "      <td>5</td>\n",
       "      <td>5</td>\n",
       "      <td>5</td>\n",
       "    </tr>\n",
       "    <tr>\n",
       "      <th>4</th>\n",
       "      <td>100.0</td>\n",
       "      <td>5</td>\n",
       "      <td>5</td>\n",
       "      <td>5</td>\n",
       "      <td>5</td>\n",
       "      <td>5</td>\n",
       "    </tr>\n",
       "  </tbody>\n",
       "</table>\n",
       "</div>"
      ],
      "text/plain": [
       "   score  hard_turn_rating  phone_use_rating  hard_brake_rating  \\\n",
       "0  100.0                -1                -1                  5   \n",
       "1  100.0                -1                -1                  5   \n",
       "2  100.0                -1                -1                  5   \n",
       "3  100.0                -1                -1                  5   \n",
       "4  100.0                 5                 5                  5   \n",
       "\n",
       "   overspeeding_rating  rapid_acceleration_rating  \n",
       "0                    5                          5  \n",
       "1                    5                          5  \n",
       "2                    5                          5  \n",
       "3                    5                          5  \n",
       "4                    5                          5  "
      ]
     },
     "execution_count": 13,
     "metadata": {},
     "output_type": "execute_result"
    }
   ],
   "source": [
    "trips[['score', 'hard_turn_rating', 'phone_use_rating',\n",
    "       'hard_brake_rating', 'overspeeding_rating', 'rapid_acceleration_rating']].head()"
   ]
  },
  {
   "cell_type": "markdown",
   "id": "3236f274",
   "metadata": {},
   "source": [
    "### 2.2. Sanity checks\n",
    "\n",
    "Let's check the consistency between `zendrive.user` and `zendrive.trip`\n",
    "\n",
    "#### SANITY CHECK 1\n",
    "\n",
    "We should have that there's no trips made by users not registered in the user table"
   ]
  },
  {
   "cell_type": "code",
   "execution_count": 14,
   "id": "97239a47",
   "metadata": {},
   "outputs": [
    {
     "data": {
      "image/png": "[encoded data removed]",
      "text/plain": [
       "<Figure size 432x288 with 1 Axes>"
      ]
     },
     "metadata": {},
     "output_type": "display_data"
    }
   ],
   "source": [
    "from matplotlib_venn import venn2\n",
    "venn2(subsets = (len(set(users.id)-set(trips.driver)),\n",
    "                 len(set(trips.driver)-set(users.id)), \n",
    "                 len(set(trips.driver).intersection(set(users.id)))),\n",
    "      set_labels = ('Users in user table', 'Users in trip table'),\n",
    "      alpha = 0.5)\n",
    "plt.show()\n"
   ]
  },
  {
   "cell_type": "markdown",
   "id": "a616bf71",
   "metadata": {},
   "source": [
    "Good - all trips have driver id's registered in the users table. \n",
    "\n",
    "#### SANITY CHECK 2\n",
    "\n",
    "The two following sets should be the same:\n",
    "1. Users in the user table that have a total distance >0\n",
    "2. The users in the trip table that have at least 1 trip where they said they were driving\n",
    "\n"
   ]
  },
  {
   "cell_type": "code",
   "execution_count": 15,
   "id": "038e5fb1",
   "metadata": {},
   "outputs": [
    {
     "data": {
      "image/png": "[encoded data removed]",
      "text/plain": [
       "<Figure size 432x288 with 1 Axes>"
      ]
     },
     "metadata": {},
     "output_type": "display_data"
    }
   ],
   "source": [
    "set1 = set(users[users['distance']>0].id)\n",
    "set2 = set(trips[(trips['drive_type']=='driver') &\n",
    "                 (trips['distance']>0)].driver)\n",
    "\n",
    "venn2(subsets = (len(set1-set2),\n",
    "                 len(set2-set1), \n",
    "                 len(set1.intersection(set2))),\n",
    "      set_labels = ('Users with distance >0', 'Users with some driven trip recorded'),\n",
    "      alpha = 0.5)\n",
    "plt.show()\n"
   ]
  },
  {
   "cell_type": "markdown",
   "id": "094aca58",
   "metadata": {},
   "source": [
    "It seems we only have a couple of exceptions, 8 drivers with no trips recorded... but they all seem to have very recent update dates so probably it's just the two table slightly out of sync"
   ]
  },
  {
   "cell_type": "code",
   "execution_count": 16,
   "id": "17f256b0",
   "metadata": {},
   "outputs": [
    {
     "data": {
      "text/plain": [
       "Timestamp('2022-01-03 21:34:05')"
      ]
     },
     "metadata": {},
     "output_type": "display_data"
    },
    {
     "data": {
      "text/plain": [
       "Timestamp('2022-01-03 21:59:20')"
      ]
     },
     "metadata": {},
     "output_type": "display_data"
    },
    {
     "data": {
      "text/plain": [
       "Timestamp('2022-01-04 01:23:00')"
      ]
     },
     "metadata": {},
     "output_type": "display_data"
    },
    {
     "data": {
      "text/plain": [
       "NaT"
      ]
     },
     "metadata": {},
     "output_type": "display_data"
    },
    {
     "data": {
      "text/plain": [
       "Timestamp('2022-01-04 12:20:18')"
      ]
     },
     "metadata": {},
     "output_type": "display_data"
    },
    {
     "data": {
      "text/plain": [
       "Timestamp('2022-01-02 21:26:26')"
      ]
     },
     "metadata": {},
     "output_type": "display_data"
    },
    {
     "data": {
      "text/plain": [
       "Timestamp('2022-01-04 14:29:45')"
      ]
     },
     "metadata": {},
     "output_type": "display_data"
    },
    {
     "data": {
      "text/plain": [
       "Timestamp('2022-01-03 20:37:20')"
      ]
     },
     "metadata": {},
     "output_type": "display_data"
    },
    {
     "data": {
      "text/plain": [
       "Timestamp('2022-01-03 22:14:32')"
      ]
     },
     "metadata": {},
     "output_type": "display_data"
    },
    {
     "data": {
      "text/plain": [
       "NaT"
      ]
     },
     "metadata": {},
     "output_type": "display_data"
    },
    {
     "data": {
      "text/plain": [
       "Timestamp('2022-01-04 14:48:38')"
      ]
     },
     "metadata": {},
     "output_type": "display_data"
    }
   ],
   "source": [
    "for driver_id in set1-set2:\n",
    "    display(users[users['id']==driver_id].last_trip_date.min())\n"
   ]
  },
  {
   "cell_type": "markdown",
   "id": "d50d0dfd",
   "metadata": {},
   "source": [
    "#### SANITY CHECK 3\n",
    "\n",
    "Let's try and replicate the distances in the user table from the trip table"
   ]
  },
  {
   "cell_type": "code",
   "execution_count": 17,
   "id": "7302248a",
   "metadata": {},
   "outputs": [
    {
     "data": {
      "text/html": [
       "<div>\n",
       "<style scoped>\n",
       "    .dataframe tbody tr th:only-of-type {\n",
       "        vertical-align: middle;\n",
       "    }\n",
       "\n",
       "    .dataframe tbody tr th {\n",
       "        vertical-align: top;\n",
       "    }\n",
       "\n",
       "    .dataframe thead th {\n",
       "        text-align: right;\n",
       "    }\n",
       "</style>\n",
       "<table border=\"1\" class=\"dataframe\">\n",
       "  <thead>\n",
       "    <tr style=\"text-align: right;\">\n",
       "      <th></th>\n",
       "      <th>id</th>\n",
       "      <th>distance</th>\n",
       "      <th>computed_distance</th>\n",
       "      <th>dif</th>\n",
       "    </tr>\n",
       "  </thead>\n",
       "  <tbody>\n",
       "    <tr>\n",
       "      <th>0</th>\n",
       "      <td>16814</td>\n",
       "      <td>139.921</td>\n",
       "      <td>38.148</td>\n",
       "      <td>-101.773</td>\n",
       "    </tr>\n",
       "    <tr>\n",
       "      <th>1</th>\n",
       "      <td>15129</td>\n",
       "      <td>607.934</td>\n",
       "      <td>443.354</td>\n",
       "      <td>-164.580</td>\n",
       "    </tr>\n",
       "    <tr>\n",
       "      <th>2</th>\n",
       "      <td>14893</td>\n",
       "      <td>40.179</td>\n",
       "      <td>40.179</td>\n",
       "      <td>0.000</td>\n",
       "    </tr>\n",
       "    <tr>\n",
       "      <th>3</th>\n",
       "      <td>7729</td>\n",
       "      <td>201.482</td>\n",
       "      <td>201.482</td>\n",
       "      <td>0.000</td>\n",
       "    </tr>\n",
       "    <tr>\n",
       "      <th>4</th>\n",
       "      <td>16430</td>\n",
       "      <td>38.815</td>\n",
       "      <td>38.815</td>\n",
       "      <td>0.000</td>\n",
       "    </tr>\n",
       "  </tbody>\n",
       "</table>\n",
       "</div>"
      ],
      "text/plain": [
       "      id  distance  computed_distance      dif\n",
       "0  16814   139.921             38.148 -101.773\n",
       "1  15129   607.934            443.354 -164.580\n",
       "2  14893    40.179             40.179    0.000\n",
       "3   7729   201.482            201.482    0.000\n",
       "4  16430    38.815             38.815    0.000"
      ]
     },
     "metadata": {},
     "output_type": "display_data"
    },
    {
     "name": "stdout",
     "output_type": "stream",
     "text": [
      "Distance replicated for 17561 out of 17800 users\n"
     ]
    }
   ],
   "source": [
    "dt = users.sort_values('updated_at', ascending=False).groupby('id').head(1).merge(\n",
    "    pd.DataFrame(trips[trips['drive_type']=='driver'].groupby('driver').distance.sum()).reset_index().rename(columns={'driver': 'id', 'distance': 'computed_distance'}),\n",
    "    on='id',\n",
    "    how='left')[['id', 'distance', 'computed_distance']]\n",
    "dt['dif'] = dt['computed_distance']-dt['distance']\n",
    "dt.fillna(0, inplace=True)\n",
    "display(dt.head())\n",
    "print(f\"Distance replicated for {dt[dt['dif'].abs()<0.001].shape[0]} out of {dt.shape[0]} users\")\n"
   ]
  },
  {
   "cell_type": "markdown",
   "id": "726adb23",
   "metadata": {},
   "source": [
    "For a few users distance is not correctly replicated (222) cases, and for this the median deviation is 8% of the total distance"
   ]
  },
  {
   "cell_type": "code",
   "execution_count": 18,
   "id": "7edf4270",
   "metadata": {},
   "outputs": [
    {
     "data": {
      "text/plain": [
       "count    239.000000\n",
       "mean       0.192974\n",
       "std        0.253888\n",
       "min        0.000115\n",
       "25%        0.020527\n",
       "50%        0.084638\n",
       "75%        0.258588\n",
       "max        1.000000\n",
       "Name: perc_dif, dtype: float64"
      ]
     },
     "metadata": {},
     "output_type": "display_data"
    },
    {
     "data": {
      "text/plain": [
       "<AxesSubplot:>"
      ]
     },
     "execution_count": 18,
     "metadata": {},
     "output_type": "execute_result"
    },
    {
     "data": {
      "image/png": "[encoded data removed]",
      "text/plain": [
       "<Figure size 432x288 with 1 Axes>"
      ]
     },
     "metadata": {
      "needs_background": "light"
     },
     "output_type": "display_data"
    }
   ],
   "source": [
    "dt = dt[dt['dif'].abs()>0.001].copy()\n",
    "dt['perc_dif']=(dt['dif']/dt['distance']).abs()\n",
    "display(dt.perc_dif.describe())\n",
    "dt.perc_dif.hist(bins=100)\n"
   ]
  },
  {
   "cell_type": "markdown",
   "id": "e883a295",
   "metadata": {},
   "source": [
    "### 2.3. Table summary\n",
    "\n",
    "Main learnings are:\n",
    "\n",
    "- The table contains all the trips\n",
    "- The table is updated with the overall information from any new trip made by any user\n",
    "\n",
    "---\n",
    "\n",
    "## 3. Event table\n",
    "\n",
    "This table contains the events information for any given trip"
   ]
  },
  {
   "cell_type": "code",
   "execution_count": 19,
   "id": "02fa66b3",
   "metadata": {},
   "outputs": [
    {
     "data": {
      "text/html": [
       "<div>\n",
       "<style scoped>\n",
       "    .dataframe tbody tr th:only-of-type {\n",
       "        vertical-align: middle;\n",
       "    }\n",
       "\n",
       "    .dataframe tbody tr th {\n",
       "        vertical-align: top;\n",
       "    }\n",
       "\n",
       "    .dataframe thead th {\n",
       "        text-align: right;\n",
       "    }\n",
       "</style>\n",
       "<table border=\"1\" class=\"dataframe\">\n",
       "  <thead>\n",
       "    <tr style=\"text-align: right;\">\n",
       "      <th></th>\n",
       "      <th>trip_internal_id</th>\n",
       "      <th>trip_id</th>\n",
       "      <th>event_order_id</th>\n",
       "      <th>start_time</th>\n",
       "      <th>end_time</th>\n",
       "      <th>latitude_start</th>\n",
       "      <th>latitude_end</th>\n",
       "      <th>longitude_start</th>\n",
       "      <th>longitude_end</th>\n",
       "      <th>event_type</th>\n",
       "      <th>trip_created_at</th>\n",
       "      <th>trip_updated_at</th>\n",
       "      <th>event_type_name</th>\n",
       "      <th>event_composed_id</th>\n",
       "      <th>internal_timestamp</th>\n",
       "    </tr>\n",
       "  </thead>\n",
       "  <tbody>\n",
       "    <tr>\n",
       "      <th>0</th>\n",
       "      <td>63594</td>\n",
       "      <td>1627775339065</td>\n",
       "      <td>1</td>\n",
       "      <td>2021-07-31 20:49:24</td>\n",
       "      <td>2021-07-31 20:50:05</td>\n",
       "      <td>-23.505548</td>\n",
       "      <td>-23.505982</td>\n",
       "      <td>-46.408264</td>\n",
       "      <td>-46.405889</td>\n",
       "      <td>2</td>\n",
       "      <td>2021-07-31 23:59:21</td>\n",
       "      <td>2021-07-31 23:59:21</td>\n",
       "      <td>phone_use</td>\n",
       "      <td>63594--1--2021-07-31 23:59:21</td>\n",
       "      <td>2021-10-04 15:54:50.945835</td>\n",
       "    </tr>\n",
       "    <tr>\n",
       "      <th>1</th>\n",
       "      <td>63594</td>\n",
       "      <td>1627775339065</td>\n",
       "      <td>2</td>\n",
       "      <td>2021-07-31 20:51:14</td>\n",
       "      <td>2021-07-31 20:51:58</td>\n",
       "      <td>-23.506560</td>\n",
       "      <td>-23.507024</td>\n",
       "      <td>-46.403251</td>\n",
       "      <td>-46.400452</td>\n",
       "      <td>2</td>\n",
       "      <td>2021-07-31 23:59:21</td>\n",
       "      <td>2021-07-31 23:59:21</td>\n",
       "      <td>phone_use</td>\n",
       "      <td>63594--2--2021-07-31 23:59:21</td>\n",
       "      <td>2021-10-04 15:54:50.945835</td>\n",
       "    </tr>\n",
       "    <tr>\n",
       "      <th>2</th>\n",
       "      <td>63594</td>\n",
       "      <td>1627775339065</td>\n",
       "      <td>3</td>\n",
       "      <td>2021-07-31 20:56:11</td>\n",
       "      <td>2021-07-31 20:56:11</td>\n",
       "      <td>-23.496925</td>\n",
       "      <td>-23.496925</td>\n",
       "      <td>-46.393820</td>\n",
       "      <td>-46.393820</td>\n",
       "      <td>1</td>\n",
       "      <td>2021-07-31 23:59:21</td>\n",
       "      <td>2021-07-31 23:59:21</td>\n",
       "      <td>rapid_acceleration</td>\n",
       "      <td>63594--3--2021-07-31 23:59:21</td>\n",
       "      <td>2021-10-04 15:54:50.945835</td>\n",
       "    </tr>\n",
       "    <tr>\n",
       "      <th>3</th>\n",
       "      <td>164621</td>\n",
       "      <td>1631021322296</td>\n",
       "      <td>1</td>\n",
       "      <td>2021-09-07 10:28:43</td>\n",
       "      <td>2021-09-07 10:28:43</td>\n",
       "      <td>-12.822128</td>\n",
       "      <td>-12.822128</td>\n",
       "      <td>-38.262796</td>\n",
       "      <td>-38.262796</td>\n",
       "      <td>0</td>\n",
       "      <td>2021-09-07 13:48:05</td>\n",
       "      <td>2021-09-07 13:48:05</td>\n",
       "      <td>hard_brake</td>\n",
       "      <td>164621--1--2021-09-07 13:48:04.513164</td>\n",
       "      <td>2021-10-04 15:54:50.945835</td>\n",
       "    </tr>\n",
       "    <tr>\n",
       "      <th>4</th>\n",
       "      <td>164621</td>\n",
       "      <td>1631021322296</td>\n",
       "      <td>2</td>\n",
       "      <td>2021-09-07 10:29:31</td>\n",
       "      <td>2021-09-07 10:29:31</td>\n",
       "      <td>-12.822601</td>\n",
       "      <td>-12.822601</td>\n",
       "      <td>-38.263613</td>\n",
       "      <td>-38.263613</td>\n",
       "      <td>1</td>\n",
       "      <td>2021-09-07 13:48:05</td>\n",
       "      <td>2021-09-07 13:48:05</td>\n",
       "      <td>rapid_acceleration</td>\n",
       "      <td>164621--2--2021-09-07 13:48:04.513164</td>\n",
       "      <td>2021-10-04 15:54:50.945835</td>\n",
       "    </tr>\n",
       "  </tbody>\n",
       "</table>\n",
       "</div>"
      ],
      "text/plain": [
       "   trip_internal_id        trip_id  event_order_id          start_time  \\\n",
       "0             63594  1627775339065               1 2021-07-31 20:49:24   \n",
       "1             63594  1627775339065               2 2021-07-31 20:51:14   \n",
       "2             63594  1627775339065               3 2021-07-31 20:56:11   \n",
       "3            164621  1631021322296               1 2021-09-07 10:28:43   \n",
       "4            164621  1631021322296               2 2021-09-07 10:29:31   \n",
       "\n",
       "             end_time  latitude_start  latitude_end  longitude_start  \\\n",
       "0 2021-07-31 20:50:05      -23.505548    -23.505982       -46.408264   \n",
       "1 2021-07-31 20:51:58      -23.506560    -23.507024       -46.403251   \n",
       "2 2021-07-31 20:56:11      -23.496925    -23.496925       -46.393820   \n",
       "3 2021-09-07 10:28:43      -12.822128    -12.822128       -38.262796   \n",
       "4 2021-09-07 10:29:31      -12.822601    -12.822601       -38.263613   \n",
       "\n",
       "   longitude_end  event_type     trip_created_at     trip_updated_at  \\\n",
       "0     -46.405889           2 2021-07-31 23:59:21 2021-07-31 23:59:21   \n",
       "1     -46.400452           2 2021-07-31 23:59:21 2021-07-31 23:59:21   \n",
       "2     -46.393820           1 2021-07-31 23:59:21 2021-07-31 23:59:21   \n",
       "3     -38.262796           0 2021-09-07 13:48:05 2021-09-07 13:48:05   \n",
       "4     -38.263613           1 2021-09-07 13:48:05 2021-09-07 13:48:05   \n",
       "\n",
       "      event_type_name                      event_composed_id  \\\n",
       "0           phone_use          63594--1--2021-07-31 23:59:21   \n",
       "1           phone_use          63594--2--2021-07-31 23:59:21   \n",
       "2  rapid_acceleration          63594--3--2021-07-31 23:59:21   \n",
       "3          hard_brake  164621--1--2021-09-07 13:48:04.513164   \n",
       "4  rapid_acceleration  164621--2--2021-09-07 13:48:04.513164   \n",
       "\n",
       "          internal_timestamp  \n",
       "0 2021-10-04 15:54:50.945835  \n",
       "1 2021-10-04 15:54:50.945835  \n",
       "2 2021-10-04 15:54:50.945835  \n",
       "3 2021-10-04 15:54:50.945835  \n",
       "4 2021-10-04 15:54:50.945835  "
      ]
     },
     "execution_count": 19,
     "metadata": {},
     "output_type": "execute_result"
    }
   ],
   "source": [
    "cur.execute(\"SELECT * FROM zendrive.event\")\n",
    "events = pd.DataFrame(cur.fetchall(), columns=[desc[0] for desc in cur.description])\n",
    "events.head()\n"
   ]
  },
  {
   "cell_type": "markdown",
   "id": "671dab4c",
   "metadata": {},
   "source": [
    "### 3.1. Analysis of the dataframe\n",
    "\n",
    "Some analysis of the columns in the df\n",
    "\n",
    "#### ID INFO"
   ]
  },
  {
   "cell_type": "code",
   "execution_count": 22,
   "id": "57ae3152",
   "metadata": {},
   "outputs": [
    {
     "data": {
      "text/html": [
       "<div>\n",
       "<style scoped>\n",
       "    .dataframe tbody tr th:only-of-type {\n",
       "        vertical-align: middle;\n",
       "    }\n",
       "\n",
       "    .dataframe tbody tr th {\n",
       "        vertical-align: top;\n",
       "    }\n",
       "\n",
       "    .dataframe thead th {\n",
       "        text-align: right;\n",
       "    }\n",
       "</style>\n",
       "<table border=\"1\" class=\"dataframe\">\n",
       "  <thead>\n",
       "    <tr style=\"text-align: right;\">\n",
       "      <th></th>\n",
       "      <th>trip_internal_id</th>\n",
       "      <th>trip_id</th>\n",
       "      <th>event_order_id</th>\n",
       "    </tr>\n",
       "  </thead>\n",
       "  <tbody>\n",
       "    <tr>\n",
       "      <th>0</th>\n",
       "      <td>63594</td>\n",
       "      <td>1627775339065</td>\n",
       "      <td>1</td>\n",
       "    </tr>\n",
       "    <tr>\n",
       "      <th>1</th>\n",
       "      <td>63594</td>\n",
       "      <td>1627775339065</td>\n",
       "      <td>2</td>\n",
       "    </tr>\n",
       "    <tr>\n",
       "      <th>2</th>\n",
       "      <td>63594</td>\n",
       "      <td>1627775339065</td>\n",
       "      <td>3</td>\n",
       "    </tr>\n",
       "    <tr>\n",
       "      <th>3</th>\n",
       "      <td>164621</td>\n",
       "      <td>1631021322296</td>\n",
       "      <td>1</td>\n",
       "    </tr>\n",
       "    <tr>\n",
       "      <th>4</th>\n",
       "      <td>164621</td>\n",
       "      <td>1631021322296</td>\n",
       "      <td>2</td>\n",
       "    </tr>\n",
       "  </tbody>\n",
       "</table>\n",
       "</div>"
      ],
      "text/plain": [
       "   trip_internal_id        trip_id  event_order_id\n",
       "0             63594  1627775339065               1\n",
       "1             63594  1627775339065               2\n",
       "2             63594  1627775339065               3\n",
       "3            164621  1631021322296               1\n",
       "4            164621  1631021322296               2"
      ]
     },
     "execution_count": 22,
     "metadata": {},
     "output_type": "execute_result"
    }
   ],
   "source": [
    "events[['trip_internal_id', 'trip_id', 'event_order_id']].head()"
   ]
  },
  {
   "cell_type": "markdown",
   "id": "bda64dff",
   "metadata": {},
   "source": [
    "#### TIMESTAMPS"
   ]
  },
  {
   "cell_type": "code",
   "execution_count": 27,
   "id": "85e66d6d",
   "metadata": {},
   "outputs": [
    {
     "data": {
      "text/html": [
       "<div>\n",
       "<style scoped>\n",
       "    .dataframe tbody tr th:only-of-type {\n",
       "        vertical-align: middle;\n",
       "    }\n",
       "\n",
       "    .dataframe tbody tr th {\n",
       "        vertical-align: top;\n",
       "    }\n",
       "\n",
       "    .dataframe thead th {\n",
       "        text-align: right;\n",
       "    }\n",
       "</style>\n",
       "<table border=\"1\" class=\"dataframe\">\n",
       "  <thead>\n",
       "    <tr style=\"text-align: right;\">\n",
       "      <th></th>\n",
       "      <th>trip_created_at</th>\n",
       "      <th>trip_updated_at</th>\n",
       "      <th>event_composed_id</th>\n",
       "      <th>internal_timestamp</th>\n",
       "    </tr>\n",
       "  </thead>\n",
       "  <tbody>\n",
       "    <tr>\n",
       "      <th>0</th>\n",
       "      <td>2021-07-31 23:59:21</td>\n",
       "      <td>2021-07-31 23:59:21</td>\n",
       "      <td>63594--1--2021-07-31 23:59:21</td>\n",
       "      <td>2021-10-04 15:54:50.945835</td>\n",
       "    </tr>\n",
       "    <tr>\n",
       "      <th>1</th>\n",
       "      <td>2021-07-31 23:59:21</td>\n",
       "      <td>2021-07-31 23:59:21</td>\n",
       "      <td>63594--2--2021-07-31 23:59:21</td>\n",
       "      <td>2021-10-04 15:54:50.945835</td>\n",
       "    </tr>\n",
       "    <tr>\n",
       "      <th>2</th>\n",
       "      <td>2021-07-31 23:59:21</td>\n",
       "      <td>2021-07-31 23:59:21</td>\n",
       "      <td>63594--3--2021-07-31 23:59:21</td>\n",
       "      <td>2021-10-04 15:54:50.945835</td>\n",
       "    </tr>\n",
       "    <tr>\n",
       "      <th>3</th>\n",
       "      <td>2021-09-07 13:48:05</td>\n",
       "      <td>2021-09-07 13:48:05</td>\n",
       "      <td>164621--1--2021-09-07 13:48:04.513164</td>\n",
       "      <td>2021-10-04 15:54:50.945835</td>\n",
       "    </tr>\n",
       "    <tr>\n",
       "      <th>4</th>\n",
       "      <td>2021-09-07 13:48:05</td>\n",
       "      <td>2021-09-07 13:48:05</td>\n",
       "      <td>164621--2--2021-09-07 13:48:04.513164</td>\n",
       "      <td>2021-10-04 15:54:50.945835</td>\n",
       "    </tr>\n",
       "  </tbody>\n",
       "</table>\n",
       "</div>"
      ],
      "text/plain": [
       "      trip_created_at     trip_updated_at  \\\n",
       "0 2021-07-31 23:59:21 2021-07-31 23:59:21   \n",
       "1 2021-07-31 23:59:21 2021-07-31 23:59:21   \n",
       "2 2021-07-31 23:59:21 2021-07-31 23:59:21   \n",
       "3 2021-09-07 13:48:05 2021-09-07 13:48:05   \n",
       "4 2021-09-07 13:48:05 2021-09-07 13:48:05   \n",
       "\n",
       "                       event_composed_id         internal_timestamp  \n",
       "0          63594--1--2021-07-31 23:59:21 2021-10-04 15:54:50.945835  \n",
       "1          63594--2--2021-07-31 23:59:21 2021-10-04 15:54:50.945835  \n",
       "2          63594--3--2021-07-31 23:59:21 2021-10-04 15:54:50.945835  \n",
       "3  164621--1--2021-09-07 13:48:04.513164 2021-10-04 15:54:50.945835  \n",
       "4  164621--2--2021-09-07 13:48:04.513164 2021-10-04 15:54:50.945835  "
      ]
     },
     "execution_count": 27,
     "metadata": {},
     "output_type": "execute_result"
    }
   ],
   "source": [
    "events[['trip_created_at', 'trip_updated_at', 'event_composed_id', 'internal_timestamp']].head()"
   ]
  },
  {
   "cell_type": "markdown",
   "id": "ede8ee0e",
   "metadata": {},
   "source": [
    "#### REGISTERED EVENT"
   ]
  },
  {
   "cell_type": "code",
   "execution_count": 29,
   "id": "77b8e8d2",
   "metadata": {},
   "outputs": [
    {
     "data": {
      "text/html": [
       "<div>\n",
       "<style scoped>\n",
       "    .dataframe tbody tr th:only-of-type {\n",
       "        vertical-align: middle;\n",
       "    }\n",
       "\n",
       "    .dataframe tbody tr th {\n",
       "        vertical-align: top;\n",
       "    }\n",
       "\n",
       "    .dataframe thead th {\n",
       "        text-align: right;\n",
       "    }\n",
       "</style>\n",
       "<table border=\"1\" class=\"dataframe\">\n",
       "  <thead>\n",
       "    <tr style=\"text-align: right;\">\n",
       "      <th></th>\n",
       "      <th>event_type</th>\n",
       "      <th>event_type_name</th>\n",
       "    </tr>\n",
       "  </thead>\n",
       "  <tbody>\n",
       "    <tr>\n",
       "      <th>0</th>\n",
       "      <td>2</td>\n",
       "      <td>phone_use</td>\n",
       "    </tr>\n",
       "    <tr>\n",
       "      <th>1</th>\n",
       "      <td>2</td>\n",
       "      <td>phone_use</td>\n",
       "    </tr>\n",
       "    <tr>\n",
       "      <th>2</th>\n",
       "      <td>1</td>\n",
       "      <td>rapid_acceleration</td>\n",
       "    </tr>\n",
       "    <tr>\n",
       "      <th>3</th>\n",
       "      <td>0</td>\n",
       "      <td>hard_brake</td>\n",
       "    </tr>\n",
       "    <tr>\n",
       "      <th>4</th>\n",
       "      <td>1</td>\n",
       "      <td>rapid_acceleration</td>\n",
       "    </tr>\n",
       "  </tbody>\n",
       "</table>\n",
       "</div>"
      ],
      "text/plain": [
       "   event_type     event_type_name\n",
       "0           2           phone_use\n",
       "1           2           phone_use\n",
       "2           1  rapid_acceleration\n",
       "3           0          hard_brake\n",
       "4           1  rapid_acceleration"
      ]
     },
     "execution_count": 29,
     "metadata": {},
     "output_type": "execute_result"
    }
   ],
   "source": [
    "events[['event_type', 'event_type_name']].head()\n"
   ]
  },
  {
   "cell_type": "markdown",
   "id": "2e572464",
   "metadata": {},
   "source": [
    "#### EVENT LOCATION AND TIMESTAMP"
   ]
  },
  {
   "cell_type": "code",
   "execution_count": 24,
   "id": "28ab3032",
   "metadata": {},
   "outputs": [
    {
     "data": {
      "text/html": [
       "<div>\n",
       "<style scoped>\n",
       "    .dataframe tbody tr th:only-of-type {\n",
       "        vertical-align: middle;\n",
       "    }\n",
       "\n",
       "    .dataframe tbody tr th {\n",
       "        vertical-align: top;\n",
       "    }\n",
       "\n",
       "    .dataframe thead th {\n",
       "        text-align: right;\n",
       "    }\n",
       "</style>\n",
       "<table border=\"1\" class=\"dataframe\">\n",
       "  <thead>\n",
       "    <tr style=\"text-align: right;\">\n",
       "      <th></th>\n",
       "      <th>start_time</th>\n",
       "      <th>end_time</th>\n",
       "      <th>longitude_start</th>\n",
       "      <th>latitude_start</th>\n",
       "      <th>longitude_end</th>\n",
       "      <th>latitude_end</th>\n",
       "    </tr>\n",
       "  </thead>\n",
       "  <tbody>\n",
       "    <tr>\n",
       "      <th>0</th>\n",
       "      <td>2021-07-31 20:49:24</td>\n",
       "      <td>2021-07-31 20:50:05</td>\n",
       "      <td>-46.408264</td>\n",
       "      <td>-23.505548</td>\n",
       "      <td>-46.405889</td>\n",
       "      <td>-23.505982</td>\n",
       "    </tr>\n",
       "    <tr>\n",
       "      <th>1</th>\n",
       "      <td>2021-07-31 20:51:14</td>\n",
       "      <td>2021-07-31 20:51:58</td>\n",
       "      <td>-46.403251</td>\n",
       "      <td>-23.506560</td>\n",
       "      <td>-46.400452</td>\n",
       "      <td>-23.507024</td>\n",
       "    </tr>\n",
       "    <tr>\n",
       "      <th>2</th>\n",
       "      <td>2021-07-31 20:56:11</td>\n",
       "      <td>2021-07-31 20:56:11</td>\n",
       "      <td>-46.393820</td>\n",
       "      <td>-23.496925</td>\n",
       "      <td>-46.393820</td>\n",
       "      <td>-23.496925</td>\n",
       "    </tr>\n",
       "    <tr>\n",
       "      <th>3</th>\n",
       "      <td>2021-09-07 10:28:43</td>\n",
       "      <td>2021-09-07 10:28:43</td>\n",
       "      <td>-38.262796</td>\n",
       "      <td>-12.822128</td>\n",
       "      <td>-38.262796</td>\n",
       "      <td>-12.822128</td>\n",
       "    </tr>\n",
       "    <tr>\n",
       "      <th>4</th>\n",
       "      <td>2021-09-07 10:29:31</td>\n",
       "      <td>2021-09-07 10:29:31</td>\n",
       "      <td>-38.263613</td>\n",
       "      <td>-12.822601</td>\n",
       "      <td>-38.263613</td>\n",
       "      <td>-12.822601</td>\n",
       "    </tr>\n",
       "  </tbody>\n",
       "</table>\n",
       "</div>"
      ],
      "text/plain": [
       "           start_time            end_time  longitude_start  latitude_start  \\\n",
       "0 2021-07-31 20:49:24 2021-07-31 20:50:05       -46.408264      -23.505548   \n",
       "1 2021-07-31 20:51:14 2021-07-31 20:51:58       -46.403251      -23.506560   \n",
       "2 2021-07-31 20:56:11 2021-07-31 20:56:11       -46.393820      -23.496925   \n",
       "3 2021-09-07 10:28:43 2021-09-07 10:28:43       -38.262796      -12.822128   \n",
       "4 2021-09-07 10:29:31 2021-09-07 10:29:31       -38.263613      -12.822601   \n",
       "\n",
       "   longitude_end  latitude_end  \n",
       "0     -46.405889    -23.505982  \n",
       "1     -46.400452    -23.507024  \n",
       "2     -46.393820    -23.496925  \n",
       "3     -38.262796    -12.822128  \n",
       "4     -38.263613    -12.822601  "
      ]
     },
     "execution_count": 24,
     "metadata": {},
     "output_type": "execute_result"
    }
   ],
   "source": [
    "events[['start_time', 'end_time', \n",
    "        'longitude_start', 'latitude_start',\n",
    "        'longitude_end', 'latitude_end']].head()\n"
   ]
  },
  {
   "cell_type": "code",
   "execution_count": null,
   "id": "f74e1ccf",
   "metadata": {},
   "outputs": [],
   "source": []
  },
  {
   "cell_type": "code",
   "execution_count": null,
   "id": "bc7316b7",
   "metadata": {},
   "outputs": [],
   "source": []
  },
  {
   "cell_type": "code",
   "execution_count": null,
   "id": "d00c8bd6",
   "metadata": {},
   "outputs": [],
   "source": []
  },
  {
   "cell_type": "code",
   "execution_count": null,
   "id": "c914437e",
   "metadata": {},
   "outputs": [],
   "source": []
  },
  {
   "cell_type": "code",
   "execution_count": null,
   "id": "2bf9c3ad",
   "metadata": {},
   "outputs": [],
   "source": []
  },
  {
   "cell_type": "code",
   "execution_count": null,
   "id": "bec79434",
   "metadata": {},
   "outputs": [],
   "source": []
  },
  {
   "cell_type": "code",
   "execution_count": null,
   "id": "bda02ee8",
   "metadata": {},
   "outputs": [],
   "source": []
  },
  {
   "cell_type": "code",
   "execution_count": null,
   "id": "fdc9fa6c",
   "metadata": {},
   "outputs": [],
   "source": []
  },
  {
   "cell_type": "markdown",
   "id": "28f9123e",
   "metadata": {},
   "source": [
    "---\n",
    "\n",
    "## 4. Path table\n"
   ]
  },
  {
   "cell_type": "code",
   "execution_count": 12,
   "id": "0afa4046",
   "metadata": {},
   "outputs": [
    {
     "data": {
      "text/html": [
       "<div>\n",
       "<style scoped>\n",
       "    .dataframe tbody tr th:only-of-type {\n",
       "        vertical-align: middle;\n",
       "    }\n",
       "\n",
       "    .dataframe tbody tr th {\n",
       "        vertical-align: top;\n",
       "    }\n",
       "\n",
       "    .dataframe thead th {\n",
       "        text-align: right;\n",
       "    }\n",
       "</style>\n",
       "<table border=\"1\" class=\"dataframe\">\n",
       "  <thead>\n",
       "    <tr style=\"text-align: right;\">\n",
       "      <th></th>\n",
       "      <th>trip_internal_id</th>\n",
       "      <th>trip_id</th>\n",
       "      <th>point_order_id</th>\n",
       "      <th>latitude</th>\n",
       "      <th>longitude</th>\n",
       "      <th>point_timestamp</th>\n",
       "      <th>time_millis</th>\n",
       "      <th>trip_created_at</th>\n",
       "      <th>trip_updated_at</th>\n",
       "      <th>point_composed_id</th>\n",
       "      <th>internal_timestamp</th>\n",
       "    </tr>\n",
       "  </thead>\n",
       "  <tbody>\n",
       "    <tr>\n",
       "      <th>0</th>\n",
       "      <td>164411</td>\n",
       "      <td>1631006596600</td>\n",
       "      <td>1</td>\n",
       "      <td>-23.772622</td>\n",
       "      <td>-45.356907</td>\n",
       "      <td>2021-09-07 06:23:17.247</td>\n",
       "      <td>1631006597247</td>\n",
       "      <td>2021-09-07 09:37:37.844180</td>\n",
       "      <td>2021-09-07 09:37:37.844180</td>\n",
       "      <td>164411--1--2021-09-07 09:37:37.84418</td>\n",
       "      <td>2021-10-04 15:54:12.020790</td>\n",
       "    </tr>\n",
       "    <tr>\n",
       "      <th>1</th>\n",
       "      <td>164411</td>\n",
       "      <td>1631006596600</td>\n",
       "      <td>2</td>\n",
       "      <td>-23.772567</td>\n",
       "      <td>-45.356927</td>\n",
       "      <td>2021-09-07 06:23:19.147</td>\n",
       "      <td>1631006599147</td>\n",
       "      <td>2021-09-07 09:37:37.844180</td>\n",
       "      <td>2021-09-07 09:37:37.844180</td>\n",
       "      <td>164411--2--2021-09-07 09:37:37.84418</td>\n",
       "      <td>2021-10-04 15:54:12.020790</td>\n",
       "    </tr>\n",
       "    <tr>\n",
       "      <th>2</th>\n",
       "      <td>164411</td>\n",
       "      <td>1631006596600</td>\n",
       "      <td>3</td>\n",
       "      <td>-23.772259</td>\n",
       "      <td>-45.356998</td>\n",
       "      <td>2021-09-07 06:23:28.999</td>\n",
       "      <td>1631006608999</td>\n",
       "      <td>2021-09-07 09:37:37.844180</td>\n",
       "      <td>2021-09-07 09:37:37.844180</td>\n",
       "      <td>164411--3--2021-09-07 09:37:37.84418</td>\n",
       "      <td>2021-10-04 15:54:12.020790</td>\n",
       "    </tr>\n",
       "    <tr>\n",
       "      <th>3</th>\n",
       "      <td>164411</td>\n",
       "      <td>1631006596600</td>\n",
       "      <td>4</td>\n",
       "      <td>-23.772001</td>\n",
       "      <td>-45.356864</td>\n",
       "      <td>2021-09-07 06:23:38.999</td>\n",
       "      <td>1631006618999</td>\n",
       "      <td>2021-09-07 09:37:37.844180</td>\n",
       "      <td>2021-09-07 09:37:37.844180</td>\n",
       "      <td>164411--4--2021-09-07 09:37:37.84418</td>\n",
       "      <td>2021-10-04 15:54:12.020790</td>\n",
       "    </tr>\n",
       "    <tr>\n",
       "      <th>4</th>\n",
       "      <td>164411</td>\n",
       "      <td>1631006596600</td>\n",
       "      <td>5</td>\n",
       "      <td>-23.771897</td>\n",
       "      <td>-45.356560</td>\n",
       "      <td>2021-09-07 06:23:48.999</td>\n",
       "      <td>1631006628999</td>\n",
       "      <td>2021-09-07 09:37:37.844180</td>\n",
       "      <td>2021-09-07 09:37:37.844180</td>\n",
       "      <td>164411--5--2021-09-07 09:37:37.84418</td>\n",
       "      <td>2021-10-04 15:54:12.020790</td>\n",
       "    </tr>\n",
       "  </tbody>\n",
       "</table>\n",
       "</div>"
      ],
      "text/plain": [
       "   trip_internal_id        trip_id  point_order_id   latitude  longitude  \\\n",
       "0            164411  1631006596600               1 -23.772622 -45.356907   \n",
       "1            164411  1631006596600               2 -23.772567 -45.356927   \n",
       "2            164411  1631006596600               3 -23.772259 -45.356998   \n",
       "3            164411  1631006596600               4 -23.772001 -45.356864   \n",
       "4            164411  1631006596600               5 -23.771897 -45.356560   \n",
       "\n",
       "          point_timestamp    time_millis            trip_created_at  \\\n",
       "0 2021-09-07 06:23:17.247  1631006597247 2021-09-07 09:37:37.844180   \n",
       "1 2021-09-07 06:23:19.147  1631006599147 2021-09-07 09:37:37.844180   \n",
       "2 2021-09-07 06:23:28.999  1631006608999 2021-09-07 09:37:37.844180   \n",
       "3 2021-09-07 06:23:38.999  1631006618999 2021-09-07 09:37:37.844180   \n",
       "4 2021-09-07 06:23:48.999  1631006628999 2021-09-07 09:37:37.844180   \n",
       "\n",
       "             trip_updated_at                     point_composed_id  \\\n",
       "0 2021-09-07 09:37:37.844180  164411--1--2021-09-07 09:37:37.84418   \n",
       "1 2021-09-07 09:37:37.844180  164411--2--2021-09-07 09:37:37.84418   \n",
       "2 2021-09-07 09:37:37.844180  164411--3--2021-09-07 09:37:37.84418   \n",
       "3 2021-09-07 09:37:37.844180  164411--4--2021-09-07 09:37:37.84418   \n",
       "4 2021-09-07 09:37:37.844180  164411--5--2021-09-07 09:37:37.84418   \n",
       "\n",
       "          internal_timestamp  \n",
       "0 2021-10-04 15:54:12.020790  \n",
       "1 2021-10-04 15:54:12.020790  \n",
       "2 2021-10-04 15:54:12.020790  \n",
       "3 2021-10-04 15:54:12.020790  \n",
       "4 2021-10-04 15:54:12.020790  "
      ]
     },
     "execution_count": 12,
     "metadata": {},
     "output_type": "execute_result"
    }
   ],
   "source": [
    "cur.execute(\"SELECT * FROM zendrive.path_point LIMIT 1000\")\n",
    "trip_paths = pd.DataFrame(cur.fetchall(), columns=[desc[0] for desc in cur.description])\n",
    "trip_paths.head()\n"
   ]
  },
  {
   "cell_type": "code",
   "execution_count": null,
   "id": "ce1c995c",
   "metadata": {},
   "outputs": [],
   "source": []
  }
 ],
 "metadata": {
  "kernelspec": {
   "display_name": "Python 3 (ipykernel)",
   "language": "python",
   "name": "python3"
  },
  "language_info": {
   "codemirror_mode": {
    "name": "ipython",
    "version": 3
   },
   "file_extension": ".py",
   "mimetype": "text/x-python",
   "name": "python",
   "nbconvert_exporter": "python",
   "pygments_lexer": "ipython3",
   "version": "3.9.7"
  }
 },
 "nbformat": 4,
 "nbformat_minor": 5
}
