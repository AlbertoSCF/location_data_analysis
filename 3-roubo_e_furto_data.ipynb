{
 "cells": [
  {
   "cell_type": "code",
   "execution_count": 1,
   "id": "a0c614c8",
   "metadata": {},
   "outputs": [],
   "source": [
    "import pandas as pd\n"
   ]
  },
  {
   "cell_type": "markdown",
   "id": "1dbe84d6",
   "metadata": {},
   "source": [
    "Download robo e furto data:\n",
    "\n",
    "- Can be downloaded [here](http://www.ssp.sp.gov.br/transparenciassp/)\n",
    "- The downloads are really slow , so I have also stored the raw data [here](https://drive.google.com/drive/folders/1L3rXeIPOtuK1NYG2zsV9eEUeSvX3ojVt)\n",
    "- The downloaded data has then to be manipulated so it can be open... I've done it with numbers by exporting it to CSV and still there's some files with encoding errors. Processed files have bee stored [here](https://drive.google.com/drive/folders/17M7w22fJwLGpGwIVuJTNGqMOVt8RkwDc)\n",
    "\n",
    "From here on we load the data as available after this last step\n",
    "\n",
    "---\n",
    "\n",
    "## 1. Reading the data\n",
    "\n",
    "Read robo e furto data"
   ]
  },
  {
   "cell_type": "code",
   "execution_count": 2,
   "id": "86675fbe",
   "metadata": {},
   "outputs": [
    {
     "name": "stdout",
     "output_type": "stream",
     "text": [
      "Usable data for roubo, 2020/12 with 8525 records\n",
      "Usable data for roubo, 2021/1 with 6770 records\n",
      "Usable data for roubo, 2021/2 with 6251 records\n",
      "Usable data for roubo, 2021/4 with 5703 records\n",
      "Usable data for roubo, 2021/5 with 5776 records\n",
      "Usable data for roubo, 2021/6 with 5336 records\n",
      "Usable data for roubo, 2021/7 with 5363 records\n",
      "Usable data for roubo, 2021/8 with 5953 records\n",
      "Usable data for roubo, 2021/9 with 6181 records\n",
      "Usable data for roubo, 2021/10 with 6713 records\n",
      "Usable data for furto, 2020/8 with 6755 records\n",
      "Usable data for furto, 2020/9 with 7109 records\n",
      "Usable data for furto, 2020/10 with 7788 records\n",
      "Usable data for furto, 2020/12 with 7034 records\n",
      "Usable data for furto, 2021/1 with 7516 records\n",
      "Usable data for furto, 2021/2 with 7897 records\n",
      "Usable data for furto, 2021/3 with 8192 records\n",
      "Usable data for furto, 2021/4 with 7665 records\n",
      "Usable data for furto, 2021/6 with 7937 records\n",
      "Usable data for furto, 2021/10 with 9680 records\n"
     ]
    }
   ],
   "source": [
    "# Initialize the data\n",
    "all_data = {'roubo': dict(), 'furto': dict()}\n",
    "\n",
    "# Try to parse each file\n",
    "for data_type in ['roubo', 'furto']:\n",
    "    for year in ['2020', '2021']:\n",
    "        for month in range(1,13):\n",
    "            \n",
    "            # Try to load the data\n",
    "            try:\n",
    "                data = pd.read_csv(f\"data/processed_roubo_e_furto/DadosBO_{year}_{str(month)}({data_type.upper()} DE VEÍCULOS).csv\", \n",
    "                                   sep=';', \n",
    "                                   encoding='latin-1')\n",
    "                \n",
    "                print(f'Usable data for {data_type}, {year}/{str(month)} with {data.shape[0]} records')\n",
    "                \n",
    "                # Append it\n",
    "                all_data[data_type][year+'_'+str(month)] = data\n",
    "            \n",
    "            except:\n",
    "                pass\n",
    "                \n",
    "                "
   ]
  },
  {
   "cell_type": "markdown",
   "id": "89874d3c",
   "metadata": {},
   "source": [
    "Check that data formats are consistent across tables"
   ]
  },
  {
   "cell_type": "code",
   "execution_count": 3,
   "id": "f411b3d6",
   "metadata": {},
   "outputs": [
    {
     "data": {
      "text/html": [
       "<div>\n",
       "<style scoped>\n",
       "    .dataframe tbody tr th:only-of-type {\n",
       "        vertical-align: middle;\n",
       "    }\n",
       "\n",
       "    .dataframe tbody tr th {\n",
       "        vertical-align: top;\n",
       "    }\n",
       "\n",
       "    .dataframe thead th {\n",
       "        text-align: right;\n",
       "    }\n",
       "</style>\n",
       "<table border=\"1\" class=\"dataframe\">\n",
       "  <thead>\n",
       "    <tr style=\"text-align: right;\">\n",
       "      <th></th>\n",
       "      <th>data_type</th>\n",
       "      <th>date</th>\n",
       "      <th>format</th>\n",
       "    </tr>\n",
       "  </thead>\n",
       "  <tbody>\n",
       "    <tr>\n",
       "      <th>0</th>\n",
       "      <td>roubo</td>\n",
       "      <td>2020_12</td>\n",
       "      <td>[ANO_BO, NUM_BO, NUMERO_BOLETIM, BO_INICIADO, ...</td>\n",
       "    </tr>\n",
       "    <tr>\n",
       "      <th>1</th>\n",
       "      <td>roubo</td>\n",
       "      <td>2021_1</td>\n",
       "      <td>[ANO_BO, NUM_BO, NUMERO_BOLETIM, BO_INICIADO, ...</td>\n",
       "    </tr>\n",
       "    <tr>\n",
       "      <th>2</th>\n",
       "      <td>roubo</td>\n",
       "      <td>2021_2</td>\n",
       "      <td>[ANO_BO, NUM_BO, NUMERO_BOLETIM, BO_INICIADO, ...</td>\n",
       "    </tr>\n",
       "    <tr>\n",
       "      <th>3</th>\n",
       "      <td>roubo</td>\n",
       "      <td>2021_4</td>\n",
       "      <td>[ANO_BO, NUM_BO, NUMERO_BOLETIM, BO_INICIADO, ...</td>\n",
       "    </tr>\n",
       "    <tr>\n",
       "      <th>4</th>\n",
       "      <td>roubo</td>\n",
       "      <td>2021_5</td>\n",
       "      <td>[ANO_BO, NUM_BO, NUMERO_BOLETIM, BO_INICIADO, ...</td>\n",
       "    </tr>\n",
       "  </tbody>\n",
       "</table>\n",
       "</div>"
      ],
      "text/plain": [
       "  data_type     date                                             format\n",
       "0     roubo  2020_12  [ANO_BO, NUM_BO, NUMERO_BOLETIM, BO_INICIADO, ...\n",
       "1     roubo   2021_1  [ANO_BO, NUM_BO, NUMERO_BOLETIM, BO_INICIADO, ...\n",
       "2     roubo   2021_2  [ANO_BO, NUM_BO, NUMERO_BOLETIM, BO_INICIADO, ...\n",
       "3     roubo   2021_4  [ANO_BO, NUM_BO, NUMERO_BOLETIM, BO_INICIADO, ...\n",
       "4     roubo   2021_5  [ANO_BO, NUM_BO, NUMERO_BOLETIM, BO_INICIADO, ..."
      ]
     },
     "metadata": {},
     "output_type": "display_data"
    },
    {
     "name": "stdout",
     "output_type": "stream",
     "text": [
      "Number of unique formats: 1\n"
     ]
    }
   ],
   "source": [
    "all_formats = []\n",
    "    \n",
    "for data_type in ['roubo', 'furto']:\n",
    "    for date, data in all_data[data_type].items():\n",
    "        all_formats.append({'data_type': data_type,\n",
    "                            'date': date,\n",
    "                            'format': list(data.columns)})\n",
    "\n",
    "all_formats = pd.DataFrame(all_formats)\n",
    "display(all_formats.head())\n",
    "\n",
    "print('Number of unique formats:', all_formats['format'].astype(str).nunique())\n"
   ]
  },
  {
   "cell_type": "markdown",
   "id": "c95548ae",
   "metadata": {},
   "source": [
    "One unique format so we can merge all in one table!"
   ]
  },
  {
   "cell_type": "code",
   "execution_count": 4,
   "id": "13e4c698",
   "metadata": {},
   "outputs": [],
   "source": [
    "# Create enpty dataframe\n",
    "final_data = pd.DataFrame(columns=['incident_type', 'file_download_date']+list(data.columns))\n",
    "\n",
    "# Append to this df all the previous data\n",
    "for data_type in ['roubo', 'furto']:\n",
    "    for date, data in all_data[data_type].items():\n",
    "        final_data = pd.concat([final_data,\n",
    "                                pd.concat([pd.DataFrame([[data_type, date]]*data.shape[0], columns=['incident_type', 'file_download_date']),\n",
    "                                           data], \n",
    "                                          axis=1)],\n",
    "                               axis=0)\n",
    "        "
   ]
  },
  {
   "cell_type": "markdown",
   "id": "8565ebb1",
   "metadata": {},
   "source": [
    "Compare number of records with the ones in the load process"
   ]
  },
  {
   "cell_type": "code",
   "execution_count": 5,
   "id": "9cbcd46f",
   "metadata": {},
   "outputs": [
    {
     "data": {
      "text/plain": [
       "5336"
      ]
     },
     "execution_count": 5,
     "metadata": {},
     "output_type": "execute_result"
    }
   ],
   "source": [
    "final_data[(final_data['incident_type']=='roubo') & \n",
    "           (final_data['file_download_date']=='2021_6')].shape[0]"
   ]
  },
  {
   "cell_type": "code",
   "execution_count": 6,
   "id": "874fe1f8",
   "metadata": {},
   "outputs": [
    {
     "data": {
      "text/plain": [
       "7937"
      ]
     },
     "execution_count": 6,
     "metadata": {},
     "output_type": "execute_result"
    }
   ],
   "source": [
    "final_data[(final_data['incident_type']=='furto') & \n",
    "           (final_data['file_download_date']=='2021_6')].shape[0]"
   ]
  },
  {
   "cell_type": "markdown",
   "id": "2ee47353",
   "metadata": {},
   "source": [
    "---\n",
    "## 2. Creating a table in Postgres with this info"
   ]
  },
  {
   "cell_type": "code",
   "execution_count": null,
   "id": "b07c83f0",
   "metadata": {},
   "outputs": [],
   "source": []
  },
  {
   "cell_type": "code",
   "execution_count": null,
   "id": "676b4779",
   "metadata": {},
   "outputs": [],
   "source": []
  },
  {
   "cell_type": "code",
   "execution_count": null,
   "id": "e95dc410",
   "metadata": {},
   "outputs": [],
   "source": []
  }
 ],
 "metadata": {
  "kernelspec": {
   "display_name": "Python 3 (ipykernel)",
   "language": "python",
   "name": "python3"
  },
  "language_info": {
   "codemirror_mode": {
    "name": "ipython",
    "version": 3
   },
   "file_extension": ".py",
   "mimetype": "text/x-python",
   "name": "python",
   "nbconvert_exporter": "python",
   "pygments_lexer": "ipython3",
   "version": "3.9.7"
  }
 },
 "nbformat": 4,
 "nbformat_minor": 5
}
