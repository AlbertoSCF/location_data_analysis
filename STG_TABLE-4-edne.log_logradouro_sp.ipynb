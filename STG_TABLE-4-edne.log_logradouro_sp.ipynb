{
 "cells": [
  {
   "cell_type": "markdown",
   "id": "c30505f6",
   "metadata": {},
   "source": [
    "# ONBOARD eDNE DATA\n",
    "\n",
    "In this notebook we onboard the data in `LOG_LOGRADOURO_SP.TXT` from eDNE files stored here. **We only load the data from `Delimitado/LOG_LOGRADOURO_SP.TXT` as it's later used for enriching `susep.geo_info` with imputated information for missing CEPs.**\n",
    "- Original data: https://drive.google.com/file/d/1lcB3sDltsATSyUVIeWAlkU4xrhcWTEj9/view\n",
    "\n",
    "\n",
    "\n",
    "**PENDING**: Bringing this step along with the entire process to Airflow for onbaoarding the data of eDNE according to the following schema (as defined in the file `Delimitado/Leiautes_delimitador.doc`):\n",
    "\n",
    "![alt text](images/edne_data_schema.png \"Title\")"
   ]
  },
  {
   "cell_type": "code",
   "execution_count": 1,
   "id": "d2923804",
   "metadata": {},
   "outputs": [],
   "source": [
    "# Imports\n",
    "import pandas as pd\n",
    "import numpy as np\n",
    "import psycopg2, os\n",
    "from tqdm import tqdm\n",
    "\n",
    "#!pip install pyshp\n",
    "import shapefile\n",
    "\n",
    "# Establish connection and create its cursor\n",
    "try: \n",
    "    conn = psycopg2.connect(f\"host={os.environ['AURORA_POSTGRES_HOST']} dbname={os.environ['AURORA_POSTGRES_DATABASE']} user={os.environ['AURORA_POSTGRES_USERNAME']} password={os.environ['AURORA_POSTGRES_PWD']}\")\n",
    "    cur = conn.cursor()\n",
    "except psycopg2.Error as e: \n",
    "    print(\"Error: Could not make connection to the Postgres database\")\n",
    "    print(e)\n",
    "    "
   ]
  },
  {
   "cell_type": "markdown",
   "id": "d1b1e5b0",
   "metadata": {},
   "source": [
    "---\n",
    "\n",
    "## 1. Load the data\n",
    "\n",
    "Define the data schema according to `Delimitado/Leiautes_delimitador.doc`"
   ]
  },
  {
   "cell_type": "code",
   "execution_count": 2,
   "id": "47005016",
   "metadata": {},
   "outputs": [],
   "source": [
    "columns = {\"LOG_NU\".lower(): {'description': \"chave do logradouro\",\n",
    "                              'data_type': \"NUMBER(8)\",\n",
    "                              'postgres_data_type': \"integer\",\n",
    "                              'df_data_type': int},\n",
    "           \n",
    "           \"UFE_SG\".lower(): {'description': \"sigla da UF\",\n",
    "                              'data_type': \"CHAR(2)\",\n",
    "                              'postgres_data_type': \"varchar(2)\",\n",
    "                              'df_data_type': str},\n",
    "           \n",
    "           \"LOC_NU\".lower(): {'description': \"chave da localidade\",\n",
    "                              'data_type': \"NUMBER(8)\",\n",
    "                              'postgres_data_type': \"integer\",\n",
    "                              'df_data_type': int},\n",
    "           \n",
    "           \"BAI_NU_INI\".lower(): {'description': \"chave do bairro inicial do logradouro\",\n",
    "                                  'data_type': \"NUMBER(8)\",\n",
    "                                  'postgres_data_type': \"integer\",\n",
    "                                  'df_data_type': int},\n",
    "           \n",
    "           \"BAI_NU_FIM\".lower(): {'description': \"chave do bairro final do logradouro (opcional)\",\n",
    "                                  'data_type': \"NUMBER(8)\",\n",
    "                                  'postgres_data_type': \"integer\",\n",
    "                                  'df_data_type': int},\n",
    "           \n",
    "           \"LOG_NO\".lower(): {'description': \"nome do logradouro\",\n",
    "                              'data_type': \"VARCHAR2(100)\",\n",
    "                              'postgres_data_type': \"varchar(100)\",\n",
    "                              'df_data_type': str},\n",
    "           \n",
    "           \"LOG_COMPLEMENTO\".lower(): {'description': \"complemento do logradouro (opcional)\",\n",
    "                                       'data_type': \"VARCHAR2(100)\",\n",
    "                                       'postgres_data_type': \"varchar(100)\",\n",
    "                                       'df_data_type': str},\n",
    "           \n",
    "           \"CEP\".lower(): {'description': \"CEP do logradouro\",\n",
    "                           'data_type': \"CHAR(8)\",\n",
    "                           'postgres_data_type': \"varchar(8)\",\n",
    "                           'df_data_type': str},\n",
    "           \n",
    "           \"TLO_TX\".lower(): {'description': \"tipo de logradouro\",\n",
    "                              'data_type': \"VARCHAR2(36)\",\n",
    "                              'postgres_data_type': \"varchar(36)\",\n",
    "                              'df_data_type': str},\n",
    "           \n",
    "           \"LOG_STA_TLO\".lower(): {'description': \"indicador de utilização do tipo de logradouro (S ou N) (opcional)\",\n",
    "                                   'data_type': \"CHAR(1)\",\n",
    "                                   'postgres_data_type': \"varchar(1)\",\n",
    "                                   'df_data_type': str},\n",
    "           \n",
    "           \"LOG_NO_ABREV\".lower(): {'description': \"abreviatura do nome do logradouro (opcional)\",\n",
    "                                    'data_type': \"VARCHAR2(36)\",\n",
    "                                    'postgres_data_type': \"varchar(36)\",\n",
    "                                    'df_data_type': str}}\n"
   ]
  },
  {
   "cell_type": "markdown",
   "id": "9b31bc37",
   "metadata": {},
   "source": [
    "Now load the data"
   ]
  },
  {
   "cell_type": "code",
   "execution_count": 3,
   "id": "b7ba48bf",
   "metadata": {},
   "outputs": [
    {
     "data": {
      "text/plain": [
       "(306598, 11)"
      ]
     },
     "metadata": {},
     "output_type": "display_data"
    },
    {
     "data": {
      "text/html": [
       "<div>\n",
       "<style scoped>\n",
       "    .dataframe tbody tr th:only-of-type {\n",
       "        vertical-align: middle;\n",
       "    }\n",
       "\n",
       "    .dataframe tbody tr th {\n",
       "        vertical-align: top;\n",
       "    }\n",
       "\n",
       "    .dataframe thead th {\n",
       "        text-align: right;\n",
       "    }\n",
       "</style>\n",
       "<table border=\"1\" class=\"dataframe\">\n",
       "  <thead>\n",
       "    <tr style=\"text-align: right;\">\n",
       "      <th></th>\n",
       "      <th>log_nu</th>\n",
       "      <th>ufe_sg</th>\n",
       "      <th>loc_nu</th>\n",
       "      <th>bai_nu_ini</th>\n",
       "      <th>bai_nu_fim</th>\n",
       "      <th>log_no</th>\n",
       "      <th>log_complemento</th>\n",
       "      <th>cep</th>\n",
       "      <th>tlo_tx</th>\n",
       "      <th>log_sta_tlo</th>\n",
       "      <th>log_no_abrev</th>\n",
       "    </tr>\n",
       "  </thead>\n",
       "  <tbody>\n",
       "    <tr>\n",
       "      <th>0</th>\n",
       "      <td>1001235</td>\n",
       "      <td>SP</td>\n",
       "      <td>8912</td>\n",
       "      <td>14716</td>\n",
       "      <td>NaN</td>\n",
       "      <td>Octaviano de Arruda Campos</td>\n",
       "      <td>- de 960/961 ao fim</td>\n",
       "      <td>14810227</td>\n",
       "      <td>Avenida</td>\n",
       "      <td>S</td>\n",
       "      <td>Av Octaviano de A Campos</td>\n",
       "    </tr>\n",
       "    <tr>\n",
       "      <th>1</th>\n",
       "      <td>1001236</td>\n",
       "      <td>SP</td>\n",
       "      <td>8912</td>\n",
       "      <td>14760</td>\n",
       "      <td>NaN</td>\n",
       "      <td>José Salles Gadelha</td>\n",
       "      <td>- até 108/109</td>\n",
       "      <td>14807048</td>\n",
       "      <td>Avenida</td>\n",
       "      <td>S</td>\n",
       "      <td>Av José S Gadelha</td>\n",
       "    </tr>\n",
       "    <tr>\n",
       "      <th>2</th>\n",
       "      <td>1001237</td>\n",
       "      <td>SP</td>\n",
       "      <td>8912</td>\n",
       "      <td>14668</td>\n",
       "      <td>NaN</td>\n",
       "      <td>José Salles Gadelha</td>\n",
       "      <td>- de 110/111 ao fim</td>\n",
       "      <td>14807126</td>\n",
       "      <td>Avenida</td>\n",
       "      <td>S</td>\n",
       "      <td>Av José S Gadelha</td>\n",
       "    </tr>\n",
       "    <tr>\n",
       "      <th>3</th>\n",
       "      <td>1001239</td>\n",
       "      <td>SP</td>\n",
       "      <td>8912</td>\n",
       "      <td>55688</td>\n",
       "      <td>NaN</td>\n",
       "      <td>Oswaldo Gonçalves de Jesus</td>\n",
       "      <td>NaN</td>\n",
       "      <td>14805396</td>\n",
       "      <td>Avenida</td>\n",
       "      <td>S</td>\n",
       "      <td>Av Oswaldo G de Jesus</td>\n",
       "    </tr>\n",
       "    <tr>\n",
       "      <th>4</th>\n",
       "      <td>1001241</td>\n",
       "      <td>SP</td>\n",
       "      <td>8924</td>\n",
       "      <td>56583</td>\n",
       "      <td>NaN</td>\n",
       "      <td>Pedro Eroles</td>\n",
       "      <td>- até km 34,999</td>\n",
       "      <td>7434090</td>\n",
       "      <td>Rodovia</td>\n",
       "      <td>S</td>\n",
       "      <td>Rod Pedro Eroles</td>\n",
       "    </tr>\n",
       "  </tbody>\n",
       "</table>\n",
       "</div>"
      ],
      "text/plain": [
       "    log_nu ufe_sg  loc_nu  bai_nu_ini  bai_nu_fim                      log_no  \\\n",
       "0  1001235     SP    8912       14716         NaN  Octaviano de Arruda Campos   \n",
       "1  1001236     SP    8912       14760         NaN         José Salles Gadelha   \n",
       "2  1001237     SP    8912       14668         NaN         José Salles Gadelha   \n",
       "3  1001239     SP    8912       55688         NaN  Oswaldo Gonçalves de Jesus   \n",
       "4  1001241     SP    8924       56583         NaN                Pedro Eroles   \n",
       "\n",
       "       log_complemento       cep   tlo_tx log_sta_tlo  \\\n",
       "0  - de 960/961 ao fim  14810227  Avenida           S   \n",
       "1        - até 108/109  14807048  Avenida           S   \n",
       "2  - de 110/111 ao fim  14807126  Avenida           S   \n",
       "3                  NaN  14805396  Avenida           S   \n",
       "4      - até km 34,999   7434090  Rodovia           S   \n",
       "\n",
       "               log_no_abrev  \n",
       "0  Av Octaviano de A Campos  \n",
       "1         Av José S Gadelha  \n",
       "2         Av José S Gadelha  \n",
       "3     Av Oswaldo G de Jesus  \n",
       "4          Rod Pedro Eroles  "
      ]
     },
     "execution_count": 3,
     "metadata": {},
     "output_type": "execute_result"
    }
   ],
   "source": [
    "# Load the data\n",
    "with open('../eDNE_Basico_2103 2/Delimitado/LOG_LOGRADOURO_SP.TXT', \n",
    "          'r', \n",
    "          encoding='latin-1') as filein:\n",
    "    data = pd.read_csv(filein, sep='@', header=None)\n",
    "    \n",
    "# Assign the column names\n",
    "data.columns = list(columns.keys())\n",
    "display(data.shape)\n",
    "data.head()\n"
   ]
  },
  {
   "cell_type": "markdown",
   "id": "fe289127",
   "metadata": {},
   "source": [
    "Check NA's"
   ]
  },
  {
   "cell_type": "code",
   "execution_count": 4,
   "id": "cf5d5289",
   "metadata": {},
   "outputs": [
    {
     "data": {
      "text/plain": [
       "log_nu                  0\n",
       "ufe_sg                  0\n",
       "loc_nu                  0\n",
       "bai_nu_ini              0\n",
       "bai_nu_fim         306598\n",
       "log_no                  1\n",
       "log_complemento    263757\n",
       "cep                     0\n",
       "tlo_tx                  0\n",
       "log_sta_tlo             0\n",
       "log_no_abrev            0\n",
       "dtype: int64"
      ]
     },
     "execution_count": 4,
     "metadata": {},
     "output_type": "execute_result"
    }
   ],
   "source": [
    "data.isna().sum()"
   ]
  },
  {
   "cell_type": "markdown",
   "id": "94b3d61e",
   "metadata": {},
   "source": [
    "Fill with `-1` and enforce data types"
   ]
  },
  {
   "cell_type": "code",
   "execution_count": 5,
   "id": "1b164e5a",
   "metadata": {},
   "outputs": [],
   "source": [
    "# Fillna+\n",
    "for col in ['bai_nu_fim', 'log_no', 'log_complemento']:\n",
    "    data[col] = data[col].fillna(-1)\n",
    "    \n",
    "# Enforce data types\n",
    "for col in data.columns:\n",
    "    data[col] = data[col].astype(columns[col]['df_data_type'])"
   ]
  },
  {
   "cell_type": "markdown",
   "id": "ac10cbc1",
   "metadata": {},
   "source": [
    "Pad the zeroes on CEP field to length 8"
   ]
  },
  {
   "cell_type": "code",
   "execution_count": 6,
   "id": "b828ecd4",
   "metadata": {},
   "outputs": [
    {
     "data": {
      "text/plain": [
       "8    196535\n",
       "7    110063\n",
       "Name: cep, dtype: int64"
      ]
     },
     "metadata": {},
     "output_type": "display_data"
    },
    {
     "data": {
      "text/plain": [
       "8    306598\n",
       "Name: cep, dtype: int64"
      ]
     },
     "metadata": {},
     "output_type": "display_data"
    }
   ],
   "source": [
    "display(data[\"cep\"].apply(lambda x: len(x)).value_counts())\n",
    "data[\"cep\"] = data[\"cep\"].apply(lambda x: x if len(x)==8 else \"0\"+x)\n",
    "display(data[\"cep\"].apply(lambda x: len(x)).value_counts())\n"
   ]
  },
  {
   "cell_type": "markdown",
   "id": "4d9be43b",
   "metadata": {},
   "source": [
    "Export data and upload to S3 for copy command. Uploaded to `s3://postgres-staging-data/edne/eDNE_LOG_LOGRADOURO_SP_data.csv`"
   ]
  },
  {
   "cell_type": "code",
   "execution_count": 7,
   "id": "0effba91",
   "metadata": {},
   "outputs": [],
   "source": [
    "data.to_csv(\"eDNE_LOG_LOGRADOURO_SP_data.csv\", index=False)"
   ]
  },
  {
   "cell_type": "markdown",
   "id": "df6d054a",
   "metadata": {},
   "source": [
    "---\n",
    "\n",
    "## 2. Data to Postgres\n",
    "\n",
    "Create the schema if it doesn't exist\n",
    "\n",
    "### 2.1. Create the table in Postgres"
   ]
  },
  {
   "cell_type": "code",
   "execution_count": 8,
   "id": "410a9403",
   "metadata": {},
   "outputs": [],
   "source": [
    "cur.execute(\"CREATE SCHEMA IF NOT EXISTS edne\")\n",
    "conn.commit()\n"
   ]
  },
  {
   "cell_type": "markdown",
   "id": "a632c91e",
   "metadata": {},
   "source": [
    "Create the table if it doesn't exist. Truncate it to insert the records"
   ]
  },
  {
   "cell_type": "code",
   "execution_count": 9,
   "id": "ffd562eb",
   "metadata": {},
   "outputs": [],
   "source": [
    "cur.execute(f\"CREATE TABLE IF NOT EXISTS edne.log_logradouro_sp ({', '.join([k.lower()+' '+v['postgres_data_type'] for k,v in columns.items()])})\")\n",
    "conn.commit()\n",
    "\n",
    "cur.execute(\"TRUNCATE TABLE edne.log_logradouro_sp\")\n",
    "conn.commit()\n"
   ]
  },
  {
   "cell_type": "markdown",
   "id": "498d72e2",
   "metadata": {},
   "source": [
    "### 2.2. Populate the table\n",
    "\n",
    "Load the data from S3 to the table.\n",
    "\n",
    "NOTES:\n",
    "- Run the statement below from the DBeaver editor, won't work from here\n",
    "- Make sure to refresh your credentials instead of taking them from env variables"
   ]
  },
  {
   "cell_type": "code",
   "execution_count": 10,
   "id": "807d2678",
   "metadata": {},
   "outputs": [],
   "source": [
    "# Create a custom copy statement for the file\n",
    "statement = f\"\"\"\n",
    "    SELECT aws_s3.table_import_from_s3(\n",
    "    'edne.log_logradouro_sp',\n",
    "    'log_nu,ufe_sg,loc_nu,bai_nu_ini,bai_nu_fim,log_no,log_complemento,cep,tlo_tx,log_sta_tlo,log_no_abrev',\n",
    "    '(FORMAT CSV, HEADER true)',\n",
    "    aws_commons.create_s3_uri(\n",
    "        'postgres-staging-data',\n",
    "        'edne/eDNE_LOG_LOGRADOURO_SP_data.csv',\n",
    "        'us-east-1'\n",
    "        ),\n",
    "    aws_commons.create_aws_credentials(\n",
    "        '{os.environ['AWS_ACCESS_KEY_ID']}',\n",
    "        '{os.environ['AWS_SECRET_ACCESS_KEY']}'\n",
    "        'IQoJb3JpZ2luX2VjEKn//////////wEaCXVzLWVhc3QtMiJGMEQCICTZ5cfpWXRXxiO+cL6wk6GPXEjWeN2+MDmeNQ7GUZmqAiAuYXrnlwI75e5VztN19PnBdZpyxRCcuRZU5zW90tpdTiqXAwjC//////////8BEAEaDDgyNzMwMzI5MjY1NSIMLR25Lh7mp2rh12FeKusCegrq/nuU2tJPma6YMYxYsaTlbybPN2iTXgw23brSxKh+MHgBEj0a++Pqu9ZHGJ0W4knWfq7QaAxe+eNzJNAWr+YvuyFcv070pDrWehZCswAtshyZYJKANrx5+cK92is6lyHgdDgo5ITGvMycpUvhB7ag8P3Sor44TMMn3i1eJR4a5AtSTuezbP8Yo+5RsxajENzlI+XsGf4Vu8YrlWfmGfWqmKmPAZxqELIF6TT7j2GDOV8Sc99k2CvVFlhV21Q8il4/zq9MPqWfpLJ3wMtNAVAhR9o+jcG0hap7swoudk3fcwE4AObA6Q8Khue6xwxHVK/BdzC4WWLvz9V5K1M1c/YDJpE1w4BnGabctA94sz9nI6FJkEY5bfG3+W/dJQZDB86RvNzsa+v7lXjKCtibVvNvrAxFk2NYxttIsbLsbjLbPW+E4lkz9DXqo8Lodwecy/K81+/OlpYo/oWGlJzVeefue7hGbKcaUnwYMKy6lo8GOqcB/OPyF/cxPqMe+dlwXd/hohcMvlfJ887FE0swDvs/Y5rJXH9FVQ8kQP0J/JwLT48ylFdqRgAzrFzdZ96eP2LujCtXsn1NwlIc0di2BALRMrNPz0scEdYdbdkLhGAIZ6O/oCFEeGjEFc+8R+vy0CeoeQ3+pzy8f95m1rbvMvwYdUp9jRjqISE/+YiMSByWjbiCYTyohUD0z1IVky03N3vNeVSaBvmTW44=')\n",
    "    );\n",
    "\"\"\""
   ]
  },
  {
   "cell_type": "markdown",
   "id": "80733fb8",
   "metadata": {},
   "source": [
    "**IF POSTGRES THROWS AND EXTENSION ERROR**: We can insert from cache, much slower"
   ]
  },
  {
   "cell_type": "code",
   "execution_count": 11,
   "id": "f366f6ec",
   "metadata": {},
   "outputs": [
    {
     "name": "stderr",
     "output_type": "stream",
     "text": [
      "306598it [10:00:25,  8.51it/s]\n"
     ]
    }
   ],
   "source": [
    "for i, record in tqdm(data.iterrows()):\n",
    "    insert_statement = f\"INSERT INTO edne.log_logradouro_sp ({', '.join(record.index)}) VALUES ({', '.join(['%s']*len(record))})\"\n",
    "    cur.execute(insert_statement,\n",
    "                tuple([v for k,v in record.items()])\n",
    "               )\n",
    "    \n",
    "conn.commit()\n",
    "\n"
   ]
  }
 ],
 "metadata": {
  "kernelspec": {
   "display_name": "Python 3 (ipykernel)",
   "language": "python",
   "name": "python3"
  },
  "language_info": {
   "codemirror_mode": {
    "name": "ipython",
    "version": 3
   },
   "file_extension": ".py",
   "mimetype": "text/x-python",
   "name": "python",
   "nbconvert_exporter": "python",
   "pygments_lexer": "ipython3",
   "version": "3.9.7"
  }
 },
 "nbformat": 4,
 "nbformat_minor": 5
}
