{
 "cells": [
  {
   "cell_type": "markdown",
   "id": "9cc18cc1",
   "metadata": {},
   "source": [
    "# CEP COVERED BY CURRENTLY ACCREDITED BODYSHOPS\n",
    "\n",
    "In this notebook we create the geojson files necessary to plot the bodyshops that are currently accredited and the associated open cep codes.\n"
   ]
  },
  {
   "cell_type": "code",
   "execution_count": 1,
   "id": "907046e3",
   "metadata": {},
   "outputs": [],
   "source": [
    "# Imports\n",
    "import pandas as pd\n",
    "import numpy as np\n",
    "import psycopg2, os\n",
    "import geopandas\n",
    "from shapely import wkt\n",
    "\n",
    "# Establish connection and create its cursor\n",
    "try: \n",
    "    conn = psycopg2.connect(f\"host={os.environ['AURORA_POSTGRES_HOST']} dbname={os.environ['AURORA_POSTGRES_DATABASE']} user={os.environ['AURORA_POSTGRES_USERNAME']} password={os.environ['AURORA_POSTGRES_PWD']}\")\n",
    "    cur = conn.cursor()\n",
    "except psycopg2.Error as e: \n",
    "    print(\"Error: Could not make connection to the Postgres database\")\n",
    "    print(e)\n",
    "    "
   ]
  },
  {
   "cell_type": "markdown",
   "id": "e2f0f346",
   "metadata": {},
   "source": [
    "---\n",
    "\n",
    "## 1. Tables\n",
    "\n",
    "### 1.1. Census tracts info"
   ]
  },
  {
   "cell_type": "code",
   "execution_count": 2,
   "id": "ad07e08f",
   "metadata": {},
   "outputs": [
    {
     "data": {
      "text/html": [
       "<div>\n",
       "<style scoped>\n",
       "    .dataframe tbody tr th:only-of-type {\n",
       "        vertical-align: middle;\n",
       "    }\n",
       "\n",
       "    .dataframe tbody tr th {\n",
       "        vertical-align: top;\n",
       "    }\n",
       "\n",
       "    .dataframe thead th {\n",
       "        text-align: right;\n",
       "    }\n",
       "</style>\n",
       "<table border=\"1\" class=\"dataframe\">\n",
       "  <thead>\n",
       "    <tr style=\"text-align: right;\">\n",
       "      <th></th>\n",
       "      <th>cep_code</th>\n",
       "      <th>code_tract</th>\n",
       "      <th>is_open</th>\n",
       "      <th>cep_lon</th>\n",
       "      <th>cep_lat</th>\n",
       "      <th>reg_susep</th>\n",
       "    </tr>\n",
       "  </thead>\n",
       "  <tbody>\n",
       "    <tr>\n",
       "      <th>0</th>\n",
       "      <td>07950000</td>\n",
       "      <td>351630905000018</td>\n",
       "      <td>False</td>\n",
       "      <td>-49.437193</td>\n",
       "      <td>-21.244713</td>\n",
       "      <td>11.0</td>\n",
       "    </tr>\n",
       "    <tr>\n",
       "      <th>1</th>\n",
       "      <td>07952000</td>\n",
       "      <td>351630905000067</td>\n",
       "      <td>False</td>\n",
       "      <td>-48.520578</td>\n",
       "      <td>-21.974562</td>\n",
       "      <td>11.0</td>\n",
       "    </tr>\n",
       "    <tr>\n",
       "      <th>2</th>\n",
       "      <td>09950000</td>\n",
       "      <td>351380105000162</td>\n",
       "      <td>True</td>\n",
       "      <td>-46.689417</td>\n",
       "      <td>-23.625896</td>\n",
       "      <td>11.0</td>\n",
       "    </tr>\n",
       "    <tr>\n",
       "      <th>3</th>\n",
       "      <td>06900000</td>\n",
       "      <td>351510305000026</td>\n",
       "      <td>False</td>\n",
       "      <td>-47.992651</td>\n",
       "      <td>-22.452919</td>\n",
       "      <td>11.0</td>\n",
       "    </tr>\n",
       "    <tr>\n",
       "      <th>4</th>\n",
       "      <td>09280000</td>\n",
       "      <td>354780905000456</td>\n",
       "      <td>True</td>\n",
       "      <td>-46.536450</td>\n",
       "      <td>-23.474929</td>\n",
       "      <td>11.0</td>\n",
       "    </tr>\n",
       "  </tbody>\n",
       "</table>\n",
       "</div>"
      ],
      "text/plain": [
       "   cep_code       code_tract  is_open    cep_lon    cep_lat  reg_susep\n",
       "0  07950000  351630905000018    False -49.437193 -21.244713       11.0\n",
       "1  07952000  351630905000067    False -48.520578 -21.974562       11.0\n",
       "2  09950000  351380105000162     True -46.689417 -23.625896       11.0\n",
       "3  06900000  351510305000026    False -47.992651 -22.452919       11.0\n",
       "4  09280000  354780905000456     True -46.536450 -23.474929       11.0"
      ]
     },
     "execution_count": 2,
     "metadata": {},
     "output_type": "execute_result"
    }
   ],
   "source": [
    "statement = \"\"\"\n",
    "    SELECT\n",
    "        b.cep_code,\n",
    "        b.code_tract,\n",
    "        a.is_open,\n",
    "        b.cep_lon,\n",
    "        b.cep_lat,\n",
    "        b.reg_susep\n",
    "    FROM (\n",
    "        SELECT\n",
    "            cep as cep_code,\n",
    "            is_open\n",
    "        FROM dbt_albertoscf.covered_ceps\n",
    "        ) as a\n",
    "    LEFT JOIN (\n",
    "        SELECT \n",
    "            \"CEP\" as cep_code,\n",
    "            lon as cep_lon,\n",
    "            lat as cep_lat,\n",
    "            code_tract,\n",
    "            reg_susep\n",
    "        FROM susep.geo_info\n",
    "        ) as b\n",
    "    ON a.cep_code=b.cep_code\n",
    "\"\"\"\n",
    "\n",
    "cur.execute(statement)\n",
    "df1 = pd.DataFrame(cur.fetchall(), columns=[desc[0] for desc in cur.description]).drop_duplicates().fillna(0)\n",
    "df1['is_open'] = df1['is_open'].astype(bool)\n",
    "df1.head()\n"
   ]
  },
  {
   "cell_type": "markdown",
   "id": "6f73f8ef",
   "metadata": {},
   "source": [
    "Characterize % open by census_tract - original coordinates in `susep.geo_info` are defined by CEP code, so code tracts can be not completely open"
   ]
  },
  {
   "cell_type": "code",
   "execution_count": 3,
   "id": "37e176f0",
   "metadata": {},
   "outputs": [
    {
     "data": {
      "text/html": [
       "<div>\n",
       "<style scoped>\n",
       "    .dataframe tbody tr th:only-of-type {\n",
       "        vertical-align: middle;\n",
       "    }\n",
       "\n",
       "    .dataframe tbody tr th {\n",
       "        vertical-align: top;\n",
       "    }\n",
       "\n",
       "    .dataframe thead th {\n",
       "        text-align: right;\n",
       "    }\n",
       "</style>\n",
       "<table border=\"1\" class=\"dataframe\">\n",
       "  <thead>\n",
       "    <tr style=\"text-align: right;\">\n",
       "      <th></th>\n",
       "      <th>code_tract</th>\n",
       "      <th>is_open</th>\n",
       "    </tr>\n",
       "  </thead>\n",
       "  <tbody>\n",
       "    <tr>\n",
       "      <th>0</th>\n",
       "      <td>354850005000081</td>\n",
       "      <td>0.0</td>\n",
       "    </tr>\n",
       "    <tr>\n",
       "      <th>1</th>\n",
       "      <td>354100005000085</td>\n",
       "      <td>0.0</td>\n",
       "    </tr>\n",
       "    <tr>\n",
       "      <th>2</th>\n",
       "      <td>354100005000084</td>\n",
       "      <td>0.0</td>\n",
       "    </tr>\n",
       "    <tr>\n",
       "      <th>3</th>\n",
       "      <td>354100005000082</td>\n",
       "      <td>0.0</td>\n",
       "    </tr>\n",
       "    <tr>\n",
       "      <th>4</th>\n",
       "      <td>354100005000081</td>\n",
       "      <td>0.0</td>\n",
       "    </tr>\n",
       "  </tbody>\n",
       "</table>\n",
       "</div>"
      ],
      "text/plain": [
       "        code_tract  is_open\n",
       "0  354850005000081      0.0\n",
       "1  354100005000085      0.0\n",
       "2  354100005000084      0.0\n",
       "3  354100005000082      0.0\n",
       "4  354100005000081      0.0"
      ]
     },
     "execution_count": 3,
     "metadata": {},
     "output_type": "execute_result"
    }
   ],
   "source": [
    "df2 = pd.DataFrame(df1.groupby('code_tract').is_open.apply(lambda x: len(x[x==True])/len(x)).sort_values()).reset_index()\n",
    "df2.head()\n"
   ]
  },
  {
   "cell_type": "markdown",
   "id": "4cb76f8d",
   "metadata": {},
   "source": [
    "Now query the geometry and add it"
   ]
  },
  {
   "cell_type": "code",
   "execution_count": 4,
   "id": "28c3b00a",
   "metadata": {},
   "outputs": [
    {
     "data": {
      "text/html": [
       "<div>\n",
       "<style scoped>\n",
       "    .dataframe tbody tr th:only-of-type {\n",
       "        vertical-align: middle;\n",
       "    }\n",
       "\n",
       "    .dataframe tbody tr th {\n",
       "        vertical-align: top;\n",
       "    }\n",
       "\n",
       "    .dataframe thead th {\n",
       "        text-align: right;\n",
       "    }\n",
       "</style>\n",
       "<table border=\"1\" class=\"dataframe\">\n",
       "  <thead>\n",
       "    <tr style=\"text-align: right;\">\n",
       "      <th></th>\n",
       "      <th>cd_geocodi</th>\n",
       "      <th>census_tract_geom_text</th>\n",
       "    </tr>\n",
       "  </thead>\n",
       "  <tbody>\n",
       "    <tr>\n",
       "      <th>0</th>\n",
       "      <td>350635905000052</td>\n",
       "      <td>POLYGON((-46.119915 -23.801814999999998, -46.1...</td>\n",
       "    </tr>\n",
       "    <tr>\n",
       "      <th>1</th>\n",
       "      <td>350690405000020</td>\n",
       "      <td>POLYGON((-48.309927450470795 -23.2110145643571...</td>\n",
       "    </tr>\n",
       "    <tr>\n",
       "      <th>2</th>\n",
       "      <td>350745605000008</td>\n",
       "      <td>POLYGON((-48.99183378666601 -22.5689597156505,...</td>\n",
       "    </tr>\n",
       "    <tr>\n",
       "      <th>3</th>\n",
       "      <td>350750610000012</td>\n",
       "      <td>POLYGON((-48.80256796118729 -22.8453336950107,...</td>\n",
       "    </tr>\n",
       "    <tr>\n",
       "      <th>4</th>\n",
       "      <td>350750615000008</td>\n",
       "      <td>POLYGON((-48.3388833020193 -22.6240319292293, ...</td>\n",
       "    </tr>\n",
       "  </tbody>\n",
       "</table>\n",
       "</div>"
      ],
      "text/plain": [
       "        cd_geocodi                             census_tract_geom_text\n",
       "0  350635905000052  POLYGON((-46.119915 -23.801814999999998, -46.1...\n",
       "1  350690405000020  POLYGON((-48.309927450470795 -23.2110145643571...\n",
       "2  350745605000008  POLYGON((-48.99183378666601 -22.5689597156505,...\n",
       "3  350750610000012  POLYGON((-48.80256796118729 -22.8453336950107,...\n",
       "4  350750615000008  POLYGON((-48.3388833020193 -22.6240319292293, ..."
      ]
     },
     "execution_count": 4,
     "metadata": {},
     "output_type": "execute_result"
    }
   ],
   "source": [
    "cur.execute(\"\"\"\n",
    "    SELECT\n",
    "        cd_geocodi,\n",
    "        census_tract_geom_text\n",
    "    FROM susep.census_tract_detail\"\"\")\n",
    "\n",
    "df3 = pd.DataFrame(cur.fetchall(), columns=[desc[0] for desc in cur.description])\n",
    "df3.head()\n"
   ]
  },
  {
   "cell_type": "code",
   "execution_count": 5,
   "id": "b2be3f74",
   "metadata": {},
   "outputs": [
    {
     "data": {
      "text/html": [
       "<div>\n",
       "<style scoped>\n",
       "    .dataframe tbody tr th:only-of-type {\n",
       "        vertical-align: middle;\n",
       "    }\n",
       "\n",
       "    .dataframe tbody tr th {\n",
       "        vertical-align: top;\n",
       "    }\n",
       "\n",
       "    .dataframe thead th {\n",
       "        text-align: right;\n",
       "    }\n",
       "</style>\n",
       "<table border=\"1\" class=\"dataframe\">\n",
       "  <thead>\n",
       "    <tr style=\"text-align: right;\">\n",
       "      <th></th>\n",
       "      <th>code_tract</th>\n",
       "      <th>is_open</th>\n",
       "      <th>census_tract_geom_text</th>\n",
       "    </tr>\n",
       "  </thead>\n",
       "  <tbody>\n",
       "    <tr>\n",
       "      <th>0</th>\n",
       "      <td>354850005000081</td>\n",
       "      <td>0.0</td>\n",
       "      <td>POLYGON((-46.316348 -23.960863, -46.3162529999...</td>\n",
       "    </tr>\n",
       "    <tr>\n",
       "      <th>1</th>\n",
       "      <td>354100005000085</td>\n",
       "      <td>0.0</td>\n",
       "      <td>POLYGON((-46.426632999999995 -24.009279, -46.4...</td>\n",
       "    </tr>\n",
       "    <tr>\n",
       "      <th>2</th>\n",
       "      <td>354100005000084</td>\n",
       "      <td>0.0</td>\n",
       "      <td>POLYGON((-46.423955 -24.010140999999997, -46.4...</td>\n",
       "    </tr>\n",
       "    <tr>\n",
       "      <th>3</th>\n",
       "      <td>354100005000082</td>\n",
       "      <td>0.0</td>\n",
       "      <td>POLYGON((-46.424248999999996 -24.007309, -46.4...</td>\n",
       "    </tr>\n",
       "    <tr>\n",
       "      <th>4</th>\n",
       "      <td>354100005000081</td>\n",
       "      <td>0.0</td>\n",
       "      <td>POLYGON((-46.42306 -24.01125, -46.423179999999...</td>\n",
       "    </tr>\n",
       "  </tbody>\n",
       "</table>\n",
       "</div>"
      ],
      "text/plain": [
       "        code_tract  is_open                             census_tract_geom_text\n",
       "0  354850005000081      0.0  POLYGON((-46.316348 -23.960863, -46.3162529999...\n",
       "1  354100005000085      0.0  POLYGON((-46.426632999999995 -24.009279, -46.4...\n",
       "2  354100005000084      0.0  POLYGON((-46.423955 -24.010140999999997, -46.4...\n",
       "3  354100005000082      0.0  POLYGON((-46.424248999999996 -24.007309, -46.4...\n",
       "4  354100005000081      0.0  POLYGON((-46.42306 -24.01125, -46.423179999999..."
      ]
     },
     "execution_count": 5,
     "metadata": {},
     "output_type": "execute_result"
    }
   ],
   "source": [
    "census_tracts_info = df2.merge(df3.rename(columns={'cd_geocodi': 'code_tract'}), on='code_tract', how='left')\n",
    "census_tracts_info.head()\n"
   ]
  },
  {
   "cell_type": "markdown",
   "id": "fcd3f4f2",
   "metadata": {},
   "source": [
    "Geometry column and export"
   ]
  },
  {
   "cell_type": "code",
   "execution_count": null,
   "id": "15d8c2b8",
   "metadata": {},
   "outputs": [],
   "source": [
    "# Convert to polygon shapes\n",
    "census_tracts_info['census_tract_geom_text'] = census_tracts_info['census_tract_geom_text'].apply(wkt.loads)\n",
    "census_tracts_info = geopandas.GeoDataFrame(census_tracts_info, geometry='census_tract_geom_text', crs=\"EPSG:4326\")\n",
    "census_tracts_info.head()"
   ]
  },
  {
   "cell_type": "code",
   "execution_count": null,
   "id": "2607a9d6",
   "metadata": {},
   "outputs": [],
   "source": [
    "census_tracts_info.to_file(\"census_tracts_info.json\", driver=\"GeoJSON\") "
   ]
  },
  {
   "cell_type": "markdown",
   "id": "7d05a4ff",
   "metadata": {},
   "source": [
    "### 1.2. CEP codes info"
   ]
  },
  {
   "cell_type": "code",
   "execution_count": 3,
   "id": "47f1c5ea",
   "metadata": {},
   "outputs": [
    {
     "data": {
      "text/html": [
       "<div>\n",
       "<style scoped>\n",
       "    .dataframe tbody tr th:only-of-type {\n",
       "        vertical-align: middle;\n",
       "    }\n",
       "\n",
       "    .dataframe tbody tr th {\n",
       "        vertical-align: top;\n",
       "    }\n",
       "\n",
       "    .dataframe thead th {\n",
       "        text-align: right;\n",
       "    }\n",
       "</style>\n",
       "<table border=\"1\" class=\"dataframe\">\n",
       "  <thead>\n",
       "    <tr style=\"text-align: right;\">\n",
       "      <th></th>\n",
       "      <th>cep_code</th>\n",
       "      <th>code_tract</th>\n",
       "      <th>is_open</th>\n",
       "      <th>reg_susep</th>\n",
       "      <th>cep_code_coords</th>\n",
       "    </tr>\n",
       "  </thead>\n",
       "  <tbody>\n",
       "    <tr>\n",
       "      <th>0</th>\n",
       "      <td>07950000</td>\n",
       "      <td>351630905000018</td>\n",
       "      <td>False</td>\n",
       "      <td>11.0</td>\n",
       "      <td>POINT (-49.43719 -21.24471)</td>\n",
       "    </tr>\n",
       "    <tr>\n",
       "      <th>1</th>\n",
       "      <td>07952000</td>\n",
       "      <td>351630905000067</td>\n",
       "      <td>False</td>\n",
       "      <td>11.0</td>\n",
       "      <td>POINT (-48.52058 -21.97456)</td>\n",
       "    </tr>\n",
       "    <tr>\n",
       "      <th>2</th>\n",
       "      <td>09950000</td>\n",
       "      <td>351380105000162</td>\n",
       "      <td>True</td>\n",
       "      <td>11.0</td>\n",
       "      <td>POINT (-46.68942 -23.62590)</td>\n",
       "    </tr>\n",
       "    <tr>\n",
       "      <th>3</th>\n",
       "      <td>06900000</td>\n",
       "      <td>351510305000026</td>\n",
       "      <td>False</td>\n",
       "      <td>11.0</td>\n",
       "      <td>POINT (-47.99265 -22.45292)</td>\n",
       "    </tr>\n",
       "    <tr>\n",
       "      <th>4</th>\n",
       "      <td>09280000</td>\n",
       "      <td>354780905000456</td>\n",
       "      <td>True</td>\n",
       "      <td>11.0</td>\n",
       "      <td>POINT (-46.53645 -23.47493)</td>\n",
       "    </tr>\n",
       "  </tbody>\n",
       "</table>\n",
       "</div>"
      ],
      "text/plain": [
       "   cep_code       code_tract  is_open  reg_susep              cep_code_coords\n",
       "0  07950000  351630905000018    False       11.0  POINT (-49.43719 -21.24471)\n",
       "1  07952000  351630905000067    False       11.0  POINT (-48.52058 -21.97456)\n",
       "2  09950000  351380105000162     True       11.0  POINT (-46.68942 -23.62590)\n",
       "3  06900000  351510305000026    False       11.0  POINT (-47.99265 -22.45292)\n",
       "4  09280000  354780905000456     True       11.0  POINT (-46.53645 -23.47493)"
      ]
     },
     "execution_count": 3,
     "metadata": {},
     "output_type": "execute_result"
    }
   ],
   "source": [
    "# Add coordinates\n",
    "df1['cep_code_coords'] = df1.apply(lambda row: 'POINT('+str(row['cep_lon'])+' '+str(row['cep_lat'])+')', axis=1).apply(wkt.loads)\n",
    "\n",
    "# Filter columns and create geodf\n",
    "cep_codes_info = geopandas.GeoDataFrame(df1, geometry='cep_code_coords', crs=\"EPSG:4326\").drop(columns=['cep_lon', 'cep_lat'])\n",
    "cep_codes_info.head()\n"
   ]
  },
  {
   "cell_type": "code",
   "execution_count": 4,
   "id": "c2bbbafe",
   "metadata": {},
   "outputs": [],
   "source": [
    "cep_codes_info['reg_susep_missing'] = cep_codes_info.reg_susep==0\n",
    "cep_codes_info['open_and_reg_susep_missing'] = (cep_codes_info.reg_susep_missing) & (cep_codes_info.is_open)\n",
    "cep_codes_info.to_file(\"cep_codes_info.json\", driver=\"GeoJSON\")\n"
   ]
  },
  {
   "cell_type": "markdown",
   "id": "7a570673",
   "metadata": {},
   "source": [
    "Some minor statistics"
   ]
  },
  {
   "cell_type": "code",
   "execution_count": 5,
   "id": "658b221a",
   "metadata": {},
   "outputs": [
    {
     "data": {
      "text/plain": [
       "False    179274\n",
       "True       2284\n",
       "Name: reg_susep_missing, dtype: int64"
      ]
     },
     "execution_count": 5,
     "metadata": {},
     "output_type": "execute_result"
    }
   ],
   "source": [
    "cep_codes_info.reg_susep_missing.value_counts()"
   ]
  },
  {
   "cell_type": "code",
   "execution_count": 6,
   "id": "51553a07",
   "metadata": {},
   "outputs": [
    {
     "data": {
      "text/plain": [
       "False    98.742\n",
       "True      1.258\n",
       "Name: reg_susep_missing, dtype: float64"
      ]
     },
     "execution_count": 6,
     "metadata": {},
     "output_type": "execute_result"
    }
   ],
   "source": [
    "cep_codes_info.reg_susep_missing.value_counts(normalize=True)*100"
   ]
  },
  {
   "cell_type": "code",
   "execution_count": 7,
   "id": "c4ff9021",
   "metadata": {},
   "outputs": [
    {
     "data": {
      "text/html": [
       "<div>\n",
       "<style scoped>\n",
       "    .dataframe tbody tr th:only-of-type {\n",
       "        vertical-align: middle;\n",
       "    }\n",
       "\n",
       "    .dataframe tbody tr th {\n",
       "        vertical-align: top;\n",
       "    }\n",
       "\n",
       "    .dataframe thead th {\n",
       "        text-align: right;\n",
       "    }\n",
       "</style>\n",
       "<table border=\"1\" class=\"dataframe\">\n",
       "  <thead>\n",
       "    <tr style=\"text-align: right;\">\n",
       "      <th></th>\n",
       "      <th></th>\n",
       "      <th>reg_susep_missing</th>\n",
       "    </tr>\n",
       "    <tr>\n",
       "      <th>is_open</th>\n",
       "      <th></th>\n",
       "      <th></th>\n",
       "    </tr>\n",
       "  </thead>\n",
       "  <tbody>\n",
       "    <tr>\n",
       "      <th rowspan=\"2\" valign=\"top\">False</th>\n",
       "      <th>False</th>\n",
       "      <td>106247</td>\n",
       "    </tr>\n",
       "    <tr>\n",
       "      <th>True</th>\n",
       "      <td>1751</td>\n",
       "    </tr>\n",
       "    <tr>\n",
       "      <th rowspan=\"2\" valign=\"top\">True</th>\n",
       "      <th>False</th>\n",
       "      <td>73027</td>\n",
       "    </tr>\n",
       "    <tr>\n",
       "      <th>True</th>\n",
       "      <td>533</td>\n",
       "    </tr>\n",
       "  </tbody>\n",
       "</table>\n",
       "</div>"
      ],
      "text/plain": [
       "               reg_susep_missing\n",
       "is_open                         \n",
       "False   False             106247\n",
       "        True                1751\n",
       "True    False              73027\n",
       "        True                 533"
      ]
     },
     "execution_count": 7,
     "metadata": {},
     "output_type": "execute_result"
    }
   ],
   "source": [
    "pd.DataFrame(cep_codes_info.groupby('is_open').reg_susep_missing.apply(lambda x: x.value_counts()))"
   ]
  },
  {
   "cell_type": "markdown",
   "id": "7bfa282d",
   "metadata": {},
   "source": [
    "### 1.3. Bodyshops data"
   ]
  },
  {
   "cell_type": "code",
   "execution_count": 8,
   "id": "50b6729f",
   "metadata": {},
   "outputs": [
    {
     "data": {
      "text/html": [
       "<div>\n",
       "<style scoped>\n",
       "    .dataframe tbody tr th:only-of-type {\n",
       "        vertical-align: middle;\n",
       "    }\n",
       "\n",
       "    .dataframe tbody tr th {\n",
       "        vertical-align: top;\n",
       "    }\n",
       "\n",
       "    .dataframe thead th {\n",
       "        text-align: right;\n",
       "    }\n",
       "</style>\n",
       "<table border=\"1\" class=\"dataframe\">\n",
       "  <thead>\n",
       "    <tr style=\"text-align: right;\">\n",
       "      <th></th>\n",
       "      <th>nome_da_oficina</th>\n",
       "      <th>full_address</th>\n",
       "      <th>cep</th>\n",
       "      <th>bodyshops_coords</th>\n",
       "    </tr>\n",
       "  </thead>\n",
       "  <tbody>\n",
       "    <tr>\n",
       "      <th>0</th>\n",
       "      <td>Scattini Funilaria</td>\n",
       "      <td>Al,. dos Nhambiquaras 1542 Moema São Paulo SP ...</td>\n",
       "      <td>04090-003</td>\n",
       "      <td>POINT (-46.66366 -23.61122)</td>\n",
       "    </tr>\n",
       "    <tr>\n",
       "      <th>1</th>\n",
       "      <td>Oficina Marques (Vila Mascote)</td>\n",
       "      <td>Av. Santa Catarina 2580 Vila Mascote São Paulo...</td>\n",
       "      <td>04378-200</td>\n",
       "      <td>POINT (-46.65548 -23.65626)</td>\n",
       "    </tr>\n",
       "    <tr>\n",
       "      <th>2</th>\n",
       "      <td>Oficina Marques (Santo Amaro)</td>\n",
       "      <td>Av. Santo Amaro 4408 Brooklin São Paulo SP 045...</td>\n",
       "      <td>04556-500</td>\n",
       "      <td>POINT (-46.68457 -23.62164)</td>\n",
       "    </tr>\n",
       "    <tr>\n",
       "      <th>3</th>\n",
       "      <td>Ponce e Filho</td>\n",
       "      <td>R. Butiá 42 Vila Reg. Feijó São Paulo SP 03346...</td>\n",
       "      <td>03346-010</td>\n",
       "      <td>POINT (-46.57038 -23.55887)</td>\n",
       "    </tr>\n",
       "    <tr>\n",
       "      <th>4</th>\n",
       "      <td>Dimas Norte</td>\n",
       "      <td>Av. Gen. Ataliba Leonel 1727 Carandiru São Pau...</td>\n",
       "      <td>02033-010</td>\n",
       "      <td>POINT (-46.61268 -23.49995)</td>\n",
       "    </tr>\n",
       "  </tbody>\n",
       "</table>\n",
       "</div>"
      ],
      "text/plain": [
       "                  nome_da_oficina  \\\n",
       "0              Scattini Funilaria   \n",
       "1  Oficina Marques (Vila Mascote)   \n",
       "2   Oficina Marques (Santo Amaro)   \n",
       "3                   Ponce e Filho   \n",
       "4                     Dimas Norte   \n",
       "\n",
       "                                        full_address        cep  \\\n",
       "0  Al,. dos Nhambiquaras 1542 Moema São Paulo SP ...  04090-003   \n",
       "1  Av. Santa Catarina 2580 Vila Mascote São Paulo...  04378-200   \n",
       "2  Av. Santo Amaro 4408 Brooklin São Paulo SP 045...  04556-500   \n",
       "3  R. Butiá 42 Vila Reg. Feijó São Paulo SP 03346...  03346-010   \n",
       "4  Av. Gen. Ataliba Leonel 1727 Carandiru São Pau...  02033-010   \n",
       "\n",
       "              bodyshops_coords  \n",
       "0  POINT (-46.66366 -23.61122)  \n",
       "1  POINT (-46.65548 -23.65626)  \n",
       "2  POINT (-46.68457 -23.62164)  \n",
       "3  POINT (-46.57038 -23.55887)  \n",
       "4  POINT (-46.61268 -23.49995)  "
      ]
     },
     "execution_count": 8,
     "metadata": {},
     "output_type": "execute_result"
    }
   ],
   "source": [
    "cur.execute(\"SELECT * FROM staging_tables.stg_accredited_bodyshops\")\n",
    "bodyshops_info = pd.DataFrame(cur.fetchall(), columns=[desc[0] for desc in cur.description])\n",
    "\n",
    "# Add coordinates\n",
    "bodyshops_info['bodyshops_coords'] = bodyshops_info.apply(lambda row: 'POINT('+str(row['longitude'])+' '+str(row['latitude'])+')', axis=1).apply(wkt.loads)\n",
    "\n",
    "# Filter columns and create geodf\n",
    "bodyshops_info = geopandas.GeoDataFrame(bodyshops_info, geometry='bodyshops_coords', crs=\"EPSG:4326\")[['nome_da_oficina', 'full_address', 'cep', 'bodyshops_coords']]\n",
    "bodyshops_info.head()\n"
   ]
  },
  {
   "cell_type": "markdown",
   "id": "fbb23da8",
   "metadata": {},
   "source": [
    "Export to geojson"
   ]
  },
  {
   "cell_type": "code",
   "execution_count": 9,
   "id": "135e045a",
   "metadata": {},
   "outputs": [],
   "source": [
    "bodyshops_info.to_file(\"bodyshops_info.json\", driver=\"GeoJSON\")"
   ]
  }
 ],
 "metadata": {
  "kernelspec": {
   "display_name": "Python 3 (ipykernel)",
   "language": "python",
   "name": "python3"
  },
  "language_info": {
   "codemirror_mode": {
    "name": "ipython",
    "version": 3
   },
   "file_extension": ".py",
   "mimetype": "text/x-python",
   "name": "python",
   "nbconvert_exporter": "python",
   "pygments_lexer": "ipython3",
   "version": "3.9.7"
  }
 },
 "nbformat": 4,
 "nbformat_minor": 5
}
