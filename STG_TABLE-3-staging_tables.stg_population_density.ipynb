{
 "cells": [
  {
   "cell_type": "code",
   "execution_count": 1,
   "id": "7989f145",
   "metadata": {},
   "outputs": [],
   "source": [
    "# Imports\n",
    "import pandas as pd\n",
    "import numpy as np\n",
    "import psycopg2, os\n",
    "from tqdm import tqdm\n"
   ]
  },
  {
   "cell_type": "markdown",
   "id": "98abe7ea",
   "metadata": {},
   "source": [
    "---\n",
    "## 1. Collecting and processing the data\n",
    "\n",
    "The data is downloaded as zip files from [Meta's data for good](https://dataforgood.facebook.com/dfg/tools/high-resolution-population-density-maps) platform. Once downloaded, the data is decompressed into the source csv files.\n",
    "\n",
    "Now we process these files to give them a common format"
   ]
  },
  {
   "cell_type": "code",
   "execution_count": 7,
   "id": "1deeb4d2",
   "metadata": {},
   "outputs": [
    {
     "data": {
      "text/html": [
       "<div>\n",
       "<style scoped>\n",
       "    .dataframe tbody tr th:only-of-type {\n",
       "        vertical-align: middle;\n",
       "    }\n",
       "\n",
       "    .dataframe tbody tr th {\n",
       "        vertical-align: top;\n",
       "    }\n",
       "\n",
       "    .dataframe thead th {\n",
       "        text-align: right;\n",
       "    }\n",
       "</style>\n",
       "<table border=\"1\" class=\"dataframe\">\n",
       "  <thead>\n",
       "    <tr style=\"text-align: right;\">\n",
       "      <th></th>\n",
       "      <th>latitude</th>\n",
       "      <th>longitude</th>\n",
       "      <th>population</th>\n",
       "      <th>date</th>\n",
       "      <th>segment</th>\n",
       "    </tr>\n",
       "  </thead>\n",
       "  <tbody>\n",
       "    <tr>\n",
       "      <th>0</th>\n",
       "      <td>-31.311806</td>\n",
       "      <td>-50.980972</td>\n",
       "      <td>0.996145</td>\n",
       "      <td>2018-10-01</td>\n",
       "      <td>population_bra_southeast</td>\n",
       "    </tr>\n",
       "    <tr>\n",
       "      <th>1</th>\n",
       "      <td>-31.278194</td>\n",
       "      <td>-50.942361</td>\n",
       "      <td>1.245182</td>\n",
       "      <td>2018-10-01</td>\n",
       "      <td>population_bra_southeast</td>\n",
       "    </tr>\n",
       "    <tr>\n",
       "      <th>2</th>\n",
       "      <td>-31.277917</td>\n",
       "      <td>-50.942361</td>\n",
       "      <td>1.245182</td>\n",
       "      <td>2018-10-01</td>\n",
       "      <td>population_bra_southeast</td>\n",
       "    </tr>\n",
       "    <tr>\n",
       "      <th>3</th>\n",
       "      <td>-31.277917</td>\n",
       "      <td>-50.942083</td>\n",
       "      <td>1.245182</td>\n",
       "      <td>2018-10-01</td>\n",
       "      <td>population_bra_southeast</td>\n",
       "    </tr>\n",
       "    <tr>\n",
       "      <th>4</th>\n",
       "      <td>-31.277917</td>\n",
       "      <td>-50.941806</td>\n",
       "      <td>1.245182</td>\n",
       "      <td>2018-10-01</td>\n",
       "      <td>population_bra_southeast</td>\n",
       "    </tr>\n",
       "  </tbody>\n",
       "</table>\n",
       "</div>"
      ],
      "text/plain": [
       "    latitude  longitude  population        date                   segment\n",
       "0 -31.311806 -50.980972    0.996145  2018-10-01  population_bra_southeast\n",
       "1 -31.278194 -50.942361    1.245182  2018-10-01  population_bra_southeast\n",
       "2 -31.277917 -50.942361    1.245182  2018-10-01  population_bra_southeast\n",
       "3 -31.277917 -50.942083    1.245182  2018-10-01  population_bra_southeast\n",
       "4 -31.277917 -50.941806    1.245182  2018-10-01  population_bra_southeast"
      ]
     },
     "execution_count": 7,
     "metadata": {},
     "output_type": "execute_result"
    }
   ],
   "source": [
    "# For each file\n",
    "i=0\n",
    "for file in tqdm(os.listdir(\"data/population_density/2021-12/\")):\n",
    "    if file!='.DS_Store':\n",
    "        \n",
    "        # Read the data and pars its params\n",
    "        data = pd.read_csv(f\"data/population_density/2021-12/{file}\")\n",
    "        date = file.split('-')[0][-4:]+'-'+file.split('-')[1]+'-'+file.split('-')[2][:2]\n",
    "        segment = file.split('-')[0][:-5]\n",
    "        \n",
    "        # Add info\n",
    "        data['date'] = date\n",
    "        data['segment'] = segment\n",
    "        \n",
    "        # To S3\n",
    "        if 'population_2020' in data.columns:\n",
    "            data = data.rename(columns={'population_2020': 'population'})\n",
    "        data[['latitude', \n",
    "              'longitude', \n",
    "              'population', \n",
    "              'date', \n",
    "              'segment']].to_csv(f'data/population_density/2021-12/file_{i}.csv', index=False)\n",
    "        i+=1\n",
    "        \n",
    "# Check some of the data created\n",
    "pd.read_csv(f\"data/population_density/2021-12/file_1.csv\", nrows=5).head()\n"
   ]
  },
  {
   "cell_type": "markdown",
   "id": "bf1c0469",
   "metadata": {},
   "source": [
    "Data is uploaded to `s3://postgres-staging-data/population_density/2021-12/`\n",
    "\n",
    "---\n",
    "## 2.  Data to postgres\n",
    "\n",
    "Establish connection"
   ]
  },
  {
   "cell_type": "code",
   "execution_count": 2,
   "id": "efe87bcf",
   "metadata": {},
   "outputs": [],
   "source": [
    "# Establish connection and create its cursor\n",
    "try: \n",
    "    conn = psycopg2.connect(f\"host={os.environ['AURORA_POSTGRES_HOST']} dbname={os.environ['AURORA_POSTGRES_DATABASE']} user={os.environ['AURORA_POSTGRES_USERNAME']} password={os.environ['AURORA_POSTGRES_PWD']}\")\n",
    "    cur = conn.cursor()\n",
    "except psycopg2.Error as e: \n",
    "    print(\"Error: Could not make connection to the Postgres database\")\n",
    "    print(e)\n",
    "    "
   ]
  },
  {
   "cell_type": "markdown",
   "id": "72b19e72",
   "metadata": {},
   "source": [
    "### 2.1. Create table and load data\n",
    "Create table to store this data"
   ]
  },
  {
   "cell_type": "code",
   "execution_count": 6,
   "id": "b598ecd9",
   "metadata": {},
   "outputs": [],
   "source": [
    "# Create the table\n",
    "cur.execute(\"CREATE TABLE IF NOT EXISTS staging_tables.stg_population_density (latitude numeric, longitude numeric, population numeric, date varchar, segment varchar)\")\n",
    "conn.commit()\n"
   ]
  },
  {
   "cell_type": "markdown",
   "id": "c34b5c33",
   "metadata": {},
   "source": [
    "Load the data from S3 to the table.\n",
    "\n",
    "**IMPORTANT NOTES**:\n",
    "- Run the statement below for each file the DBeaver editor, won't work from here\n",
    "- Make sure to refresh your credentials instead of taking them from env variables"
   ]
  },
  {
   "cell_type": "code",
   "execution_count": null,
   "id": "33dde5dd",
   "metadata": {},
   "outputs": [],
   "source": [
    "# For each file\n",
    "for i in [1]:\n",
    "    \n",
    "    # Create a custom copy statement for the file\n",
    "    statement = f\"\"\"\n",
    "        SELECT aws_s3.table_import_from_s3(\n",
    "        'staging_tables.stg_population_density',\n",
    "        'latitude,longitude,population,date, segment',\n",
    "        '(FORMAT CSV, HEADER true)',\n",
    "        aws_commons.create_s3_uri(\n",
    "            'postgres-staging-data',\n",
    "            'population_density/2021-12/file_{str(i)}.csv',\n",
    "            'us-east-1'\n",
    "            ),\n",
    "        aws_commons.create_aws_credentials(\n",
    "            '{os.environ['AWS_ACCESS_KEY_ID']}',\n",
    "            '{os.environ['AWS_SECRET_ACCESS_KEY']}'\n",
    "            'IQoJb3JpZ2luX2VjEEsaCXVzLWVhc3QtMiJHMEUCIDB17Y8kR3Y7EkuT5bBb7JcnIXCFU7Y8+LC26hhe0NmBAiEA458mjNaJ3na7iv82Ey80oaLUm3i2Rp+34FERnRE4GacqjgMIRBABGgw4MjczMDMyOTI2NTUiDGsG9GitPTbRN0kKRirrAuAkBVEWIktBDMPMJuHUAYe5PfMPKR7Pur+i1emGucKG7/5Vbs/B8p078KmEg6wPuZCe59nSzI+mlMa3JracBdnNQRIYSNjolZUE6EA533oepgJS6KZkmMaFpi3bf07eRf5yXplI+lUIVdHiR01ZbFGa5xZZ1aOHusNNih0YowIf5FkS3EkZOFT380mRoSCFGZ0fiw3TnkiRuEf7VBQ8Sy2DOAhlhsHKVnQAdiQHOH50wOn7REQoFzaT2IM/MGYQYtSHfmBs8gLygqMxboTk70B9oicnpOQD2SEZLbcDOI9yFxJ+vwUj/1zEIj8XsYS1QWrOIsn3qPzBKntD0SvFTPBAV+e2Vh3+Yu/+nQGMd2kpJsVn06PpP7ebr/xx73qZrRBIa9dEzpp2ImnJgPDHYYPXV09PHXBQBY29rJ1OeuFDDW2z5SsB3tqPvVngGRC1CoF1CXsorTHHNYth5OT5a2B5NC8VvcJlNikjEjDOsZGOBjqmAdd265VhL9qJXluR1pMY37e9YIeR+/JItGPvQ/PBG1YPtaW1A8ZaU3mfNKInNVZcukcJObCLp3JUrB3jsocZqmQ7ssLDQltno7D6Vh9u6fJcljXZgTftI65f5N5aB1PEtQk5acUnynG4ijLYm9OnVLvxbJ6gnD+I5F0mrjd0SHwoMqcsgbhnEuU/zLdj5f0AVYTQABnQHzAn/Iu42qybRKDhtM9PcqI=')\n",
    "        );\n",
    "    \"\"\"\n",
    "    "
   ]
  },
  {
   "cell_type": "markdown",
   "id": "e45482dc",
   "metadata": {},
   "source": [
    "### 2.2. Sanity checks\n",
    "\n",
    "Count all records and compare against files"
   ]
  },
  {
   "cell_type": "code",
   "execution_count": 3,
   "id": "12e8446a",
   "metadata": {},
   "outputs": [
    {
     "data": {
      "text/html": [
       "<div>\n",
       "<style scoped>\n",
       "    .dataframe tbody tr th:only-of-type {\n",
       "        vertical-align: middle;\n",
       "    }\n",
       "\n",
       "    .dataframe tbody tr th {\n",
       "        vertical-align: top;\n",
       "    }\n",
       "\n",
       "    .dataframe thead th {\n",
       "        text-align: right;\n",
       "    }\n",
       "</style>\n",
       "<table border=\"1\" class=\"dataframe\">\n",
       "  <thead>\n",
       "    <tr style=\"text-align: right;\">\n",
       "      <th></th>\n",
       "      <th>segment</th>\n",
       "      <th>count</th>\n",
       "    </tr>\n",
       "  </thead>\n",
       "  <tbody>\n",
       "    <tr>\n",
       "      <th>0</th>\n",
       "      <td>BRA_children_under_five</td>\n",
       "      <td>36318011</td>\n",
       "    </tr>\n",
       "    <tr>\n",
       "      <th>1</th>\n",
       "      <td>BRA_elderly_60_plus</td>\n",
       "      <td>36349856</td>\n",
       "    </tr>\n",
       "    <tr>\n",
       "      <th>2</th>\n",
       "      <td>BRA_men</td>\n",
       "      <td>36392936</td>\n",
       "    </tr>\n",
       "    <tr>\n",
       "      <th>3</th>\n",
       "      <td>BRA_women</td>\n",
       "      <td>36392878</td>\n",
       "    </tr>\n",
       "    <tr>\n",
       "      <th>4</th>\n",
       "      <td>BRA_women_of_reproductive_age_15_49</td>\n",
       "      <td>36392004</td>\n",
       "    </tr>\n",
       "    <tr>\n",
       "      <th>5</th>\n",
       "      <td>BRA_youth_15_24</td>\n",
       "      <td>36379803</td>\n",
       "    </tr>\n",
       "    <tr>\n",
       "      <th>6</th>\n",
       "      <td>population_bra_northeast</td>\n",
       "      <td>9239575</td>\n",
       "    </tr>\n",
       "    <tr>\n",
       "      <th>7</th>\n",
       "      <td>population_bra_northwest</td>\n",
       "      <td>2102870</td>\n",
       "    </tr>\n",
       "    <tr>\n",
       "      <th>8</th>\n",
       "      <td>population_bra_southeast</td>\n",
       "      <td>18103162</td>\n",
       "    </tr>\n",
       "    <tr>\n",
       "      <th>9</th>\n",
       "      <td>population_bra_southwest</td>\n",
       "      <td>7220739</td>\n",
       "    </tr>\n",
       "  </tbody>\n",
       "</table>\n",
       "</div>"
      ],
      "text/plain": [
       "                               segment     count\n",
       "0              BRA_children_under_five  36318011\n",
       "1                  BRA_elderly_60_plus  36349856\n",
       "2                              BRA_men  36392936\n",
       "3                            BRA_women  36392878\n",
       "4  BRA_women_of_reproductive_age_15_49  36392004\n",
       "5                      BRA_youth_15_24  36379803\n",
       "6             population_bra_northeast   9239575\n",
       "7             population_bra_northwest   2102870\n",
       "8             population_bra_southeast  18103162\n",
       "9             population_bra_southwest   7220739"
      ]
     },
     "execution_count": 3,
     "metadata": {},
     "output_type": "execute_result"
    }
   ],
   "source": [
    "cur.execute(\"SELECT segment, COUNT(*) FROM staging_tables.stg_population_density GROUP BY segment\")\n",
    "pd.DataFrame(cur.fetchall(), columns=[desc[0] for desc in cur.description])\n"
   ]
  },
  {
   "cell_type": "code",
   "execution_count": 2,
   "id": "38a56d87",
   "metadata": {},
   "outputs": [
    {
     "name": "stdout",
     "output_type": "stream",
     "text": [
      "For segment population_bra_northeast, read 9239575 records\n",
      "For segment population_bra_southeast, read 18103162 records\n",
      "For segment BRA_women, read 36392878 records\n",
      "For segment BRA_elderly_60_plus, read 36349856 records\n",
      "For segment BRA_children_under_five, read 36318011 records\n",
      "For segment BRA_youth_15_24, read 36379803 records\n",
      "For segment population_bra_northwest, read 2102870 records\n",
      "For segment BRA_women_of_reproductive_age_15_49, read 36392004 records\n",
      "For segment population_bra_southwest, read 7220739 records\n",
      "For segment BRA_men, read 36392936 records\n"
     ]
    }
   ],
   "source": [
    "for i in range(10):\n",
    "    dt = pd.read_csv(f\"data/population_density/2021-12/file_{i}.csv\")\n",
    "    print(f\"For segment {list(dt.segment.unique())[0]}, read {dt.shape[0]} records\")\n"
   ]
  }
 ],
 "metadata": {
  "kernelspec": {
   "display_name": "Python 3 (ipykernel)",
   "language": "python",
   "name": "python3"
  },
  "language_info": {
   "codemirror_mode": {
    "name": "ipython",
    "version": 3
   },
   "file_extension": ".py",
   "mimetype": "text/x-python",
   "name": "python",
   "nbconvert_exporter": "python",
   "pygments_lexer": "ipython3",
   "version": "3.9.7"
  }
 },
 "nbformat": 4,
 "nbformat_minor": 5
}
