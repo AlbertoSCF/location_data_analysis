{
 "cells": [
  {
   "cell_type": "code",
   "execution_count": 1,
   "id": "5f68c1c1",
   "metadata": {},
   "outputs": [],
   "source": [
    "# Imports\n",
    "import pandas as pd\n",
    "import numpy as np\n",
    "import psycopg2, os\n",
    "\n",
    "# Establish connection and create its cursor\n",
    "try: \n",
    "    conn = psycopg2.connect(f\"host={os.environ['AURORA_POSTGRES_HOST']} dbname={os.environ['AURORA_POSTGRES_DATABASE']} user={os.environ['AURORA_POSTGRES_USERNAME']} password={os.environ['AURORA_POSTGRES_PWD']}\")\n",
    "    cur = conn.cursor()\n",
    "except psycopg2.Error as e: \n",
    "    print(\"Error: Could not make connection to the Postgres database\")\n",
    "    print(e)\n",
    "    "
   ]
  },
  {
   "cell_type": "markdown",
   "id": "974fea20",
   "metadata": {},
   "source": [
    "---\n",
    "## 1. Restoring the entire IBGE Postgres DB\n",
    "\n",
    "Follow below process to restore the data in Postgres:</br>\n",
    "\n",
    "1. **Download dump**: Download file [here](https://geoftp.ibge.gov.br/cartas_e_mapas/bases_cartograficas_continuas/bc250/versao2019/postgis/)</br></br>\n",
    "2. **Install `postgresql`**: If you don't have it installed you can run `brew install postgresql`</br></br>\n",
    "3. **Restore the dump**_ Restore the data by running `pg_restore --host $AURORA_POSTGRES_HOST --port 5432 --username $AURORA_POSTGRES_USERNAME --dbname $AURORA_POSTGRES_DATABASE --no-owner --password --verbose \"bc250_2019-10-29.tar\"` (assuming you have the env variables configured)</br>\n",
    "\n",
    "**After this process you will have the schema `bc250_2019` created at the `justos` DB.** Let's check tables created in the schema"
   ]
  },
  {
   "cell_type": "code",
   "execution_count": 10,
   "id": "85b537e9",
   "metadata": {},
   "outputs": [
    {
     "data": {
      "text/html": [
       "<div>\n",
       "<style scoped>\n",
       "    .dataframe tbody tr th:only-of-type {\n",
       "        vertical-align: middle;\n",
       "    }\n",
       "\n",
       "    .dataframe tbody tr th {\n",
       "        vertical-align: top;\n",
       "    }\n",
       "\n",
       "    .dataframe thead th {\n",
       "        text-align: right;\n",
       "    }\n",
       "</style>\n",
       "<table border=\"1\" class=\"dataframe\">\n",
       "  <thead>\n",
       "    <tr style=\"text-align: right;\">\n",
       "      <th></th>\n",
       "      <th>table_catalog</th>\n",
       "      <th>table_schema</th>\n",
       "      <th>table_name</th>\n",
       "      <th>table_type</th>\n",
       "      <th>self_referencing_column_name</th>\n",
       "      <th>reference_generation</th>\n",
       "      <th>user_defined_type_catalog</th>\n",
       "      <th>user_defined_type_schema</th>\n",
       "      <th>user_defined_type_name</th>\n",
       "      <th>is_insertable_into</th>\n",
       "      <th>is_typed</th>\n",
       "      <th>commit_action</th>\n",
       "    </tr>\n",
       "  </thead>\n",
       "  <tbody>\n",
       "    <tr>\n",
       "      <th>0</th>\n",
       "      <td>justos</td>\n",
       "      <td>bc250_2019</td>\n",
       "      <td>aer_pista_ponto_pouso_l</td>\n",
       "      <td>BASE TABLE</td>\n",
       "      <td>None</td>\n",
       "      <td>None</td>\n",
       "      <td>None</td>\n",
       "      <td>None</td>\n",
       "      <td>None</td>\n",
       "      <td>YES</td>\n",
       "      <td>NO</td>\n",
       "      <td>None</td>\n",
       "    </tr>\n",
       "    <tr>\n",
       "      <th>1</th>\n",
       "      <td>justos</td>\n",
       "      <td>bc250_2019</td>\n",
       "      <td>aer_pista_ponto_pouso_p</td>\n",
       "      <td>BASE TABLE</td>\n",
       "      <td>None</td>\n",
       "      <td>None</td>\n",
       "      <td>None</td>\n",
       "      <td>None</td>\n",
       "      <td>None</td>\n",
       "      <td>YES</td>\n",
       "      <td>NO</td>\n",
       "      <td>None</td>\n",
       "    </tr>\n",
       "    <tr>\n",
       "      <th>2</th>\n",
       "      <td>justos</td>\n",
       "      <td>bc250_2019</td>\n",
       "      <td>cbge_cemiterio_p</td>\n",
       "      <td>BASE TABLE</td>\n",
       "      <td>None</td>\n",
       "      <td>None</td>\n",
       "      <td>None</td>\n",
       "      <td>None</td>\n",
       "      <td>None</td>\n",
       "      <td>YES</td>\n",
       "      <td>NO</td>\n",
       "      <td>None</td>\n",
       "    </tr>\n",
       "    <tr>\n",
       "      <th>3</th>\n",
       "      <td>justos</td>\n",
       "      <td>bc250_2019</td>\n",
       "      <td>dut_trecho_duto_l</td>\n",
       "      <td>BASE TABLE</td>\n",
       "      <td>None</td>\n",
       "      <td>None</td>\n",
       "      <td>None</td>\n",
       "      <td>None</td>\n",
       "      <td>None</td>\n",
       "      <td>YES</td>\n",
       "      <td>NO</td>\n",
       "      <td>None</td>\n",
       "    </tr>\n",
       "    <tr>\n",
       "      <th>4</th>\n",
       "      <td>justos</td>\n",
       "      <td>bc250_2019</td>\n",
       "      <td>eco_ext_mineral_a</td>\n",
       "      <td>BASE TABLE</td>\n",
       "      <td>None</td>\n",
       "      <td>None</td>\n",
       "      <td>None</td>\n",
       "      <td>None</td>\n",
       "      <td>None</td>\n",
       "      <td>YES</td>\n",
       "      <td>NO</td>\n",
       "      <td>None</td>\n",
       "    </tr>\n",
       "    <tr>\n",
       "      <th>...</th>\n",
       "      <td>...</td>\n",
       "      <td>...</td>\n",
       "      <td>...</td>\n",
       "      <td>...</td>\n",
       "      <td>...</td>\n",
       "      <td>...</td>\n",
       "      <td>...</td>\n",
       "      <td>...</td>\n",
       "      <td>...</td>\n",
       "      <td>...</td>\n",
       "      <td>...</td>\n",
       "      <td>...</td>\n",
       "    </tr>\n",
       "    <tr>\n",
       "      <th>67</th>\n",
       "      <td>justos</td>\n",
       "      <td>bc250_2019</td>\n",
       "      <td>tra_ponte_p</td>\n",
       "      <td>BASE TABLE</td>\n",
       "      <td>None</td>\n",
       "      <td>None</td>\n",
       "      <td>None</td>\n",
       "      <td>None</td>\n",
       "      <td>None</td>\n",
       "      <td>YES</td>\n",
       "      <td>NO</td>\n",
       "      <td>None</td>\n",
       "    </tr>\n",
       "    <tr>\n",
       "      <th>68</th>\n",
       "      <td>justos</td>\n",
       "      <td>bc250_2019</td>\n",
       "      <td>tra_travessia_l</td>\n",
       "      <td>BASE TABLE</td>\n",
       "      <td>None</td>\n",
       "      <td>None</td>\n",
       "      <td>None</td>\n",
       "      <td>None</td>\n",
       "      <td>None</td>\n",
       "      <td>YES</td>\n",
       "      <td>NO</td>\n",
       "      <td>None</td>\n",
       "    </tr>\n",
       "    <tr>\n",
       "      <th>69</th>\n",
       "      <td>justos</td>\n",
       "      <td>bc250_2019</td>\n",
       "      <td>tra_travessia_p</td>\n",
       "      <td>BASE TABLE</td>\n",
       "      <td>None</td>\n",
       "      <td>None</td>\n",
       "      <td>None</td>\n",
       "      <td>None</td>\n",
       "      <td>None</td>\n",
       "      <td>YES</td>\n",
       "      <td>NO</td>\n",
       "      <td>None</td>\n",
       "    </tr>\n",
       "    <tr>\n",
       "      <th>70</th>\n",
       "      <td>justos</td>\n",
       "      <td>bc250_2019</td>\n",
       "      <td>tra_tunel_l</td>\n",
       "      <td>BASE TABLE</td>\n",
       "      <td>None</td>\n",
       "      <td>None</td>\n",
       "      <td>None</td>\n",
       "      <td>None</td>\n",
       "      <td>None</td>\n",
       "      <td>YES</td>\n",
       "      <td>NO</td>\n",
       "      <td>None</td>\n",
       "    </tr>\n",
       "    <tr>\n",
       "      <th>71</th>\n",
       "      <td>justos</td>\n",
       "      <td>bc250_2019</td>\n",
       "      <td>tra_tunel_p</td>\n",
       "      <td>BASE TABLE</td>\n",
       "      <td>None</td>\n",
       "      <td>None</td>\n",
       "      <td>None</td>\n",
       "      <td>None</td>\n",
       "      <td>None</td>\n",
       "      <td>YES</td>\n",
       "      <td>NO</td>\n",
       "      <td>None</td>\n",
       "    </tr>\n",
       "  </tbody>\n",
       "</table>\n",
       "<p>72 rows × 12 columns</p>\n",
       "</div>"
      ],
      "text/plain": [
       "   table_catalog table_schema               table_name  table_type  \\\n",
       "0         justos   bc250_2019  aer_pista_ponto_pouso_l  BASE TABLE   \n",
       "1         justos   bc250_2019  aer_pista_ponto_pouso_p  BASE TABLE   \n",
       "2         justos   bc250_2019         cbge_cemiterio_p  BASE TABLE   \n",
       "3         justos   bc250_2019        dut_trecho_duto_l  BASE TABLE   \n",
       "4         justos   bc250_2019        eco_ext_mineral_a  BASE TABLE   \n",
       "..           ...          ...                      ...         ...   \n",
       "67        justos   bc250_2019              tra_ponte_p  BASE TABLE   \n",
       "68        justos   bc250_2019          tra_travessia_l  BASE TABLE   \n",
       "69        justos   bc250_2019          tra_travessia_p  BASE TABLE   \n",
       "70        justos   bc250_2019              tra_tunel_l  BASE TABLE   \n",
       "71        justos   bc250_2019              tra_tunel_p  BASE TABLE   \n",
       "\n",
       "   self_referencing_column_name reference_generation  \\\n",
       "0                          None                 None   \n",
       "1                          None                 None   \n",
       "2                          None                 None   \n",
       "3                          None                 None   \n",
       "4                          None                 None   \n",
       "..                          ...                  ...   \n",
       "67                         None                 None   \n",
       "68                         None                 None   \n",
       "69                         None                 None   \n",
       "70                         None                 None   \n",
       "71                         None                 None   \n",
       "\n",
       "   user_defined_type_catalog user_defined_type_schema user_defined_type_name  \\\n",
       "0                       None                     None                   None   \n",
       "1                       None                     None                   None   \n",
       "2                       None                     None                   None   \n",
       "3                       None                     None                   None   \n",
       "4                       None                     None                   None   \n",
       "..                       ...                      ...                    ...   \n",
       "67                      None                     None                   None   \n",
       "68                      None                     None                   None   \n",
       "69                      None                     None                   None   \n",
       "70                      None                     None                   None   \n",
       "71                      None                     None                   None   \n",
       "\n",
       "   is_insertable_into is_typed commit_action  \n",
       "0                 YES       NO          None  \n",
       "1                 YES       NO          None  \n",
       "2                 YES       NO          None  \n",
       "3                 YES       NO          None  \n",
       "4                 YES       NO          None  \n",
       "..                ...      ...           ...  \n",
       "67                YES       NO          None  \n",
       "68                YES       NO          None  \n",
       "69                YES       NO          None  \n",
       "70                YES       NO          None  \n",
       "71                YES       NO          None  \n",
       "\n",
       "[72 rows x 12 columns]"
      ]
     },
     "execution_count": 10,
     "metadata": {},
     "output_type": "execute_result"
    }
   ],
   "source": [
    "cur.execute(\"SELECT * FROM information_schema.tables WHERE table_schema = 'bc250_2019'\")\n",
    "pd.DataFrame(cur.fetchall(), columns=[desc[0] for desc in cur.description])\n"
   ]
  },
  {
   "cell_type": "markdown",
   "id": "07cccd0d",
   "metadata": {},
   "source": [
    "The [official documentation](https://geoftp.ibge.gov.br/cartas_e_mapas/bases_cartograficas_continuas/bc250/versao2019/informacoes_tecnicas/Documentacao_bc250_v2019.pdf) of this data dump can be used to understand the schema we have just restored.\n",
    "\n",
    "---\n",
    "\n",
    "## 2. Onboarding census tracts data\n",
    "\n",
    "Alternatively, we have found that the shapefiles with the geometry of each census track can be downloaded [here](https://www.ibge.gov.br/geociencias/organizacao-do-territorio/malhas-territoriais/26565-malhas-de-setores-censitarios-divisoes-intramunicipais.html?=&t=o-que-e).\n",
    "\n",
    "We download the following data (use the menu on the left side to access it):\n",
    "- **2010**: Only Sao Paulo, given that files are individual\n",
    "- **2017**: All Brazil\n",
    "- **2019**: All Brazil\n",
    "- **2020**: All Brazil"
   ]
  },
  {
   "cell_type": "code",
   "execution_count": 6,
   "id": "9a4a179c",
   "metadata": {},
   "outputs": [],
   "source": [
    "#!pip install pyshp\n",
    "import shapefile\n",
    "import numpy as np\n",
    "import pandas as pd\n"
   ]
  },
  {
   "cell_type": "markdown",
   "id": "980e7c24",
   "metadata": {},
   "source": [
    "### 2.1. Load the data\n",
    "\n",
    "#### CENSUS TRACKS DATA"
   ]
  },
  {
   "cell_type": "code",
   "execution_count": 3,
   "id": "a8af5096",
   "metadata": {},
   "outputs": [],
   "source": [
    "# 2010 is only Sao Paulo\n",
    "shapes_data_2010 = shapefile.Reader(\"data/sp_setores_censitarios_2010/35SEE250GC_SIR.shp\", encoding='latin-1')\n",
    "# The rest of years all come in one single file\n",
    "shapes_data_2017 = shapefile.Reader(\"data/br_setores_censitarios_2017/BR_SETORES_2017_CENSOAGRO.shp\", encoding='latin-1')\n",
    "shapes_data_2019 = shapefile.Reader(\"data/BR_Setores_2019_20200807/BR_Setores_2019.shp\")\n",
    "shapes_data_2020 = shapefile.Reader(\"data/BR_Setores_2020/BR_Setores_2020.shp\")\n"
   ]
  },
  {
   "cell_type": "markdown",
   "id": "ecae28a6",
   "metadata": {},
   "source": [
    "Extract the records associated with the shapefiles, from which we can get for example tract codes"
   ]
  },
  {
   "cell_type": "code",
   "execution_count": 4,
   "id": "e2a5fb74",
   "metadata": {},
   "outputs": [
    {
     "data": {
      "text/plain": [
       "68296"
      ]
     },
     "metadata": {},
     "output_type": "display_data"
    },
    {
     "data": {
      "text/plain": [
       "371673"
      ]
     },
     "metadata": {},
     "output_type": "display_data"
    },
    {
     "data": {
      "text/plain": [
       "444261"
      ]
     },
     "metadata": {},
     "output_type": "display_data"
    },
    {
     "data": {
      "text/plain": [
       "449880"
      ]
     },
     "metadata": {},
     "output_type": "display_data"
    }
   ],
   "source": [
    "code_tracts_2010 = [x[1] for x in shapes_data_2010.iterRecords()]\n",
    "code_tracts_2017 = [x[0] for x in shapes_data_2017.iterRecords()]\n",
    "code_tracts_2019 = [x[0] for x in shapes_data_2019.iterRecords()]\n",
    "code_tracts_2020 = [x[0] for x in shapes_data_2020.iterRecords()]\n",
    "\n",
    "display(len(code_tracts_2010))\n",
    "display(len(code_tracts_2017))\n",
    "display(len(code_tracts_2019))\n",
    "display(len(code_tracts_2020))\n"
   ]
  },
  {
   "cell_type": "markdown",
   "id": "39d3f485",
   "metadata": {},
   "source": [
    "No duplicates in any of the files"
   ]
  },
  {
   "cell_type": "code",
   "execution_count": 7,
   "id": "582d13aa",
   "metadata": {},
   "outputs": [
    {
     "data": {
      "text/plain": [
       "1"
      ]
     },
     "execution_count": 7,
     "metadata": {},
     "output_type": "execute_result"
    }
   ],
   "source": [
    "np.max([pd.Series(x).value_counts().max() for x in [code_tracts_2010,\n",
    "                                                    code_tracts_2017,\n",
    "                                                    code_tracts_2019,\n",
    "                                                    code_tracts_2020]])\n"
   ]
  },
  {
   "cell_type": "markdown",
   "id": "6168bc15",
   "metadata": {},
   "source": [
    "Let's get all unique code tracts"
   ]
  },
  {
   "cell_type": "code",
   "execution_count": 8,
   "id": "5a57c577",
   "metadata": {},
   "outputs": [
    {
     "data": {
      "text/plain": [
       "531059"
      ]
     },
     "execution_count": 8,
     "metadata": {},
     "output_type": "execute_result"
    }
   ],
   "source": [
    "all_code_tracts = set(code_tracts_2020).union(set(code_tracts_2019)).union(set(code_tracts_2017)).union(set(code_tracts_2010))\n",
    "len(all_code_tracts)\n"
   ]
  },
  {
   "cell_type": "markdown",
   "id": "e8a9b7d7",
   "metadata": {},
   "source": [
    "#### INFO FROM `susep.geo_info`\n",
    "Get the geo info"
   ]
  },
  {
   "cell_type": "code",
   "execution_count": 9,
   "id": "1bbd8422",
   "metadata": {},
   "outputs": [
    {
     "data": {
      "text/html": [
       "<div>\n",
       "<style scoped>\n",
       "    .dataframe tbody tr th:only-of-type {\n",
       "        vertical-align: middle;\n",
       "    }\n",
       "\n",
       "    .dataframe tbody tr th {\n",
       "        vertical-align: top;\n",
       "    }\n",
       "\n",
       "    .dataframe thead th {\n",
       "        text-align: right;\n",
       "    }\n",
       "</style>\n",
       "<table border=\"1\" class=\"dataframe\">\n",
       "  <thead>\n",
       "    <tr style=\"text-align: right;\">\n",
       "      <th></th>\n",
       "      <th>Id</th>\n",
       "      <th>CEP</th>\n",
       "      <th>code_tract</th>\n",
       "      <th>address_count</th>\n",
       "      <th>lat</th>\n",
       "      <th>lon</th>\n",
       "      <th>reg_susep</th>\n",
       "      <th>cep_inicial</th>\n",
       "      <th>cidade</th>\n",
       "      <th>cep_final</th>\n",
       "      <th>cod_reg</th>\n",
       "      <th>reg_decirc</th>\n",
       "      <th>cep_ini</th>\n",
       "      <th>cep_fim</th>\n",
       "    </tr>\n",
       "  </thead>\n",
       "  <tbody>\n",
       "    <tr>\n",
       "      <th>0</th>\n",
       "      <td>1</td>\n",
       "      <td>76954000</td>\n",
       "      <td>110001520000004</td>\n",
       "      <td>12060</td>\n",
       "      <td>-12.047040</td>\n",
       "      <td>-62.051736</td>\n",
       "      <td>39.0</td>\n",
       "      <td>76740</td>\n",
       "      <td>FAINA</td>\n",
       "      <td>76999</td>\n",
       "      <td>48.0</td>\n",
       "      <td>DEMAIS REGI�ES DE GOI�S</td>\n",
       "      <td>76740</td>\n",
       "      <td>76999</td>\n",
       "    </tr>\n",
       "    <tr>\n",
       "      <th>1</th>\n",
       "      <td>777</td>\n",
       "      <td>76873868</td>\n",
       "      <td>110002305000060</td>\n",
       "      <td>11</td>\n",
       "      <td>-9.900819</td>\n",
       "      <td>-63.026831</td>\n",
       "      <td>39.0</td>\n",
       "      <td>76740</td>\n",
       "      <td>FAINA</td>\n",
       "      <td>76999</td>\n",
       "      <td>48.0</td>\n",
       "      <td>DEMAIS REGI�ES DE GOI�S</td>\n",
       "      <td>76740</td>\n",
       "      <td>76999</td>\n",
       "    </tr>\n",
       "    <tr>\n",
       "      <th>2</th>\n",
       "      <td>2</td>\n",
       "      <td>76955000</td>\n",
       "      <td>110007205000011</td>\n",
       "      <td>76</td>\n",
       "      <td>-12.983041</td>\n",
       "      <td>-60.952011</td>\n",
       "      <td>39.0</td>\n",
       "      <td>76740</td>\n",
       "      <td>FAINA</td>\n",
       "      <td>76999</td>\n",
       "      <td>48.0</td>\n",
       "      <td>DEMAIS REGI�ES DE GOI�S</td>\n",
       "      <td>76740</td>\n",
       "      <td>76999</td>\n",
       "    </tr>\n",
       "    <tr>\n",
       "      <th>3</th>\n",
       "      <td>1553</td>\n",
       "      <td>76965748</td>\n",
       "      <td>110004905000051</td>\n",
       "      <td>8</td>\n",
       "      <td>-11.436342</td>\n",
       "      <td>-61.436585</td>\n",
       "      <td>39.0</td>\n",
       "      <td>76740</td>\n",
       "      <td>FAINA</td>\n",
       "      <td>76999</td>\n",
       "      <td>48.0</td>\n",
       "      <td>DEMAIS REGI�ES DE GOI�S</td>\n",
       "      <td>76740</td>\n",
       "      <td>76999</td>\n",
       "    </tr>\n",
       "    <tr>\n",
       "      <th>4</th>\n",
       "      <td>3</td>\n",
       "      <td>76594000</td>\n",
       "      <td>110001505000018</td>\n",
       "      <td>9</td>\n",
       "      <td>-11.928932</td>\n",
       "      <td>-61.990097</td>\n",
       "      <td>39.0</td>\n",
       "      <td>76590</td>\n",
       "      <td>SAO MIGUEL DO ARAGUAIA</td>\n",
       "      <td>76599</td>\n",
       "      <td>48.0</td>\n",
       "      <td>DEMAIS REGI�ES DE GOI�S</td>\n",
       "      <td>76590</td>\n",
       "      <td>76599</td>\n",
       "    </tr>\n",
       "  </tbody>\n",
       "</table>\n",
       "</div>"
      ],
      "text/plain": [
       "     Id       CEP       code_tract  address_count        lat        lon  \\\n",
       "0     1  76954000  110001520000004          12060 -12.047040 -62.051736   \n",
       "1   777  76873868  110002305000060             11  -9.900819 -63.026831   \n",
       "2     2  76955000  110007205000011             76 -12.983041 -60.952011   \n",
       "3  1553  76965748  110004905000051              8 -11.436342 -61.436585   \n",
       "4     3  76594000  110001505000018              9 -11.928932 -61.990097   \n",
       "\n",
       "   reg_susep cep_inicial                  cidade cep_final  cod_reg  \\\n",
       "0       39.0       76740                   FAINA     76999     48.0   \n",
       "1       39.0       76740                   FAINA     76999     48.0   \n",
       "2       39.0       76740                   FAINA     76999     48.0   \n",
       "3       39.0       76740                   FAINA     76999     48.0   \n",
       "4       39.0       76590  SAO MIGUEL DO ARAGUAIA     76599     48.0   \n",
       "\n",
       "                reg_decirc cep_ini cep_fim  \n",
       "0  DEMAIS REGI�ES DE GOI�S   76740   76999  \n",
       "1  DEMAIS REGI�ES DE GOI�S   76740   76999  \n",
       "2  DEMAIS REGI�ES DE GOI�S   76740   76999  \n",
       "3  DEMAIS REGI�ES DE GOI�S   76740   76999  \n",
       "4  DEMAIS REGI�ES DE GOI�S   76590   76599  "
      ]
     },
     "execution_count": 9,
     "metadata": {},
     "output_type": "execute_result"
    }
   ],
   "source": [
    "cur.execute(\"SELECT * FROM susep.geo_info\")\n",
    "geo_info = pd.DataFrame(cur.fetchall(), columns=[desc[0] for desc in cur.description])\n",
    "geo_info.head()\n"
   ]
  },
  {
   "cell_type": "markdown",
   "id": "bb00b2b4",
   "metadata": {},
   "source": [
    "`susep.geo_info` contains one row per CEP, and then there is a n-1 mapping CEP to code_tract - several CEPs for one code_tract"
   ]
  },
  {
   "cell_type": "code",
   "execution_count": 10,
   "id": "07a2a91d",
   "metadata": {},
   "outputs": [
    {
     "data": {
      "text/plain": [
       "CEP\n",
       "00000001    1\n",
       "60181560    1\n",
       "60181550    1\n",
       "60181530    1\n",
       "60181520    1\n",
       "           ..\n",
       "19046130    1\n",
       "19046140    1\n",
       "19046150    1\n",
       "19046090    1\n",
       "99999999    1\n",
       "Name: code_tract, Length: 562192, dtype: int64"
      ]
     },
     "metadata": {},
     "output_type": "display_data"
    },
    {
     "data": {
      "text/plain": [
       "code_tract\n",
       "110001505000018      1\n",
       "410690205010216      1\n",
       "410690205010215      1\n",
       "410690205010214      1\n",
       "410690205010211      1\n",
       "                  ... \n",
       "521250105000147     75\n",
       "170210905000115     86\n",
       "170210905000104     93\n",
       "320500210000003    102\n",
       "521250105000148    124\n",
       "Name: CEP, Length: 140225, dtype: int64"
      ]
     },
     "metadata": {},
     "output_type": "display_data"
    },
    {
     "name": "stdout",
     "output_type": "stream",
     "text": [
      "One row per CEP: True\n",
      "Total rows: 562192\n",
      "Total unique code_tract: 140225\n"
     ]
    }
   ],
   "source": [
    "display(geo_info.groupby('CEP').code_tract.apply(lambda x: len(x)).sort_values())\n",
    "display(geo_info.groupby('code_tract').CEP.apply(lambda x: len(x)).sort_values())\n",
    "print('One row per CEP:', geo_info.shape[0] == geo_info.CEP.nunique())\n",
    "print('Total rows:', geo_info.shape[0])\n",
    "print('Total unique code_tract:', geo_info.code_tract.nunique())\n"
   ]
  },
  {
   "cell_type": "markdown",
   "id": "edd8c294",
   "metadata": {},
   "source": [
    "On the other hand, we now care about the code_tracts in Grande Sao Paulo"
   ]
  },
  {
   "cell_type": "code",
   "execution_count": 11,
   "id": "236e3837",
   "metadata": {},
   "outputs": [
    {
     "data": {
      "text/plain": [
       "False    96285\n",
       "True     43940\n",
       "Name: in_grande_sao_paulo, dtype: int64"
      ]
     },
     "execution_count": 11,
     "metadata": {},
     "output_type": "execute_result"
    }
   ],
   "source": [
    "geo_info['in_grande_sao_paulo'] = geo_info['code_tract'].str.startswith('35')\n",
    "geo_info.drop_duplicates(subset=['code_tract'])['in_grande_sao_paulo'].value_counts()\n"
   ]
  },
  {
   "cell_type": "markdown",
   "id": "6f3e6996",
   "metadata": {},
   "source": [
    "### 2.2. Coverage analysis\n",
    "Reformat the shapefile code_tracts"
   ]
  },
  {
   "cell_type": "code",
   "execution_count": 12,
   "id": "79016bfe",
   "metadata": {},
   "outputs": [
    {
     "data": {
      "text/html": [
       "<div>\n",
       "<style scoped>\n",
       "    .dataframe tbody tr th:only-of-type {\n",
       "        vertical-align: middle;\n",
       "    }\n",
       "\n",
       "    .dataframe tbody tr th {\n",
       "        vertical-align: top;\n",
       "    }\n",
       "\n",
       "    .dataframe thead th {\n",
       "        text-align: right;\n",
       "    }\n",
       "</style>\n",
       "<table border=\"1\" class=\"dataframe\">\n",
       "  <thead>\n",
       "    <tr style=\"text-align: right;\">\n",
       "      <th></th>\n",
       "      <th>code_tract</th>\n",
       "      <th>in_shapefile</th>\n",
       "    </tr>\n",
       "  </thead>\n",
       "  <tbody>\n",
       "    <tr>\n",
       "      <th>0</th>\n",
       "      <td>510340305410222</td>\n",
       "      <td>1</td>\n",
       "    </tr>\n",
       "    <tr>\n",
       "      <th>1</th>\n",
       "      <td>351140905000016</td>\n",
       "      <td>1</td>\n",
       "    </tr>\n",
       "    <tr>\n",
       "      <th>2</th>\n",
       "      <td>330455705290159</td>\n",
       "      <td>1</td>\n",
       "    </tr>\n",
       "    <tr>\n",
       "      <th>3</th>\n",
       "      <td>150140245000240</td>\n",
       "      <td>1</td>\n",
       "    </tr>\n",
       "    <tr>\n",
       "      <th>4</th>\n",
       "      <td>355030876000477</td>\n",
       "      <td>1</td>\n",
       "    </tr>\n",
       "  </tbody>\n",
       "</table>\n",
       "</div>"
      ],
      "text/plain": [
       "        code_tract  in_shapefile\n",
       "0  510340305410222             1\n",
       "1  351140905000016             1\n",
       "2  330455705290159             1\n",
       "3  150140245000240             1\n",
       "4  355030876000477             1"
      ]
     },
     "execution_count": 12,
     "metadata": {},
     "output_type": "execute_result"
    }
   ],
   "source": [
    "code_tracts = pd.DataFrame(all_code_tracts, columns=['code_tract'])\n",
    "code_tracts['in_shapefile']=1\n",
    "code_tracts.head()"
   ]
  },
  {
   "cell_type": "markdown",
   "id": "12bb46da",
   "metadata": {},
   "source": [
    "Cross the info"
   ]
  },
  {
   "cell_type": "code",
   "execution_count": 13,
   "id": "07e3b31f",
   "metadata": {},
   "outputs": [
    {
     "data": {
      "text/html": [
       "<div>\n",
       "<style scoped>\n",
       "    .dataframe tbody tr th:only-of-type {\n",
       "        vertical-align: middle;\n",
       "    }\n",
       "\n",
       "    .dataframe tbody tr th {\n",
       "        vertical-align: top;\n",
       "    }\n",
       "\n",
       "    .dataframe thead th {\n",
       "        text-align: right;\n",
       "    }\n",
       "</style>\n",
       "<table border=\"1\" class=\"dataframe\">\n",
       "  <thead>\n",
       "    <tr style=\"text-align: right;\">\n",
       "      <th></th>\n",
       "      <th>CEP</th>\n",
       "      <th>code_tract</th>\n",
       "      <th>in_grande_sao_paulo</th>\n",
       "      <th>in_shapefile</th>\n",
       "    </tr>\n",
       "  </thead>\n",
       "  <tbody>\n",
       "    <tr>\n",
       "      <th>0</th>\n",
       "      <td>76954000</td>\n",
       "      <td>110001520000004</td>\n",
       "      <td>False</td>\n",
       "      <td>1.0</td>\n",
       "    </tr>\n",
       "    <tr>\n",
       "      <th>1</th>\n",
       "      <td>76873868</td>\n",
       "      <td>110002305000060</td>\n",
       "      <td>False</td>\n",
       "      <td>1.0</td>\n",
       "    </tr>\n",
       "    <tr>\n",
       "      <th>2</th>\n",
       "      <td>76955000</td>\n",
       "      <td>110007205000011</td>\n",
       "      <td>False</td>\n",
       "      <td>1.0</td>\n",
       "    </tr>\n",
       "    <tr>\n",
       "      <th>3</th>\n",
       "      <td>76965748</td>\n",
       "      <td>110004905000051</td>\n",
       "      <td>False</td>\n",
       "      <td>1.0</td>\n",
       "    </tr>\n",
       "    <tr>\n",
       "      <th>4</th>\n",
       "      <td>76594000</td>\n",
       "      <td>110001505000018</td>\n",
       "      <td>False</td>\n",
       "      <td>1.0</td>\n",
       "    </tr>\n",
       "  </tbody>\n",
       "</table>\n",
       "</div>"
      ],
      "text/plain": [
       "        CEP       code_tract  in_grande_sao_paulo  in_shapefile\n",
       "0  76954000  110001520000004                False           1.0\n",
       "1  76873868  110002305000060                False           1.0\n",
       "2  76955000  110007205000011                False           1.0\n",
       "3  76965748  110004905000051                False           1.0\n",
       "4  76594000  110001505000018                False           1.0"
      ]
     },
     "execution_count": 13,
     "metadata": {},
     "output_type": "execute_result"
    }
   ],
   "source": [
    "dt = geo_info[['CEP', 'code_tract', 'in_grande_sao_paulo']].merge(code_tracts, on='code_tract', how='left')\n",
    "dt.fillna(0,inplace=True)\n",
    "dt.head()\n"
   ]
  },
  {
   "cell_type": "markdown",
   "id": "a7f858eb",
   "metadata": {},
   "source": [
    "#### COVERAGE BY CEP\n",
    "\n",
    "**In Grande Sao Paulo we have the shapefile of the census tract containing some given for all CEP's**"
   ]
  },
  {
   "cell_type": "code",
   "execution_count": 14,
   "id": "cf01ccab",
   "metadata": {},
   "outputs": [
    {
     "data": {
      "text/html": [
       "<div>\n",
       "<style scoped>\n",
       "    .dataframe tbody tr th:only-of-type {\n",
       "        vertical-align: middle;\n",
       "    }\n",
       "\n",
       "    .dataframe tbody tr th {\n",
       "        vertical-align: top;\n",
       "    }\n",
       "\n",
       "    .dataframe thead th {\n",
       "        text-align: right;\n",
       "    }\n",
       "</style>\n",
       "<table border=\"1\" class=\"dataframe\">\n",
       "  <thead>\n",
       "    <tr style=\"text-align: right;\">\n",
       "      <th></th>\n",
       "      <th></th>\n",
       "      <th>CEP</th>\n",
       "    </tr>\n",
       "    <tr>\n",
       "      <th>in_grande_sao_paulo</th>\n",
       "      <th>in_shapefile</th>\n",
       "      <th></th>\n",
       "    </tr>\n",
       "  </thead>\n",
       "  <tbody>\n",
       "    <tr>\n",
       "      <th rowspan=\"2\" valign=\"top\">False</th>\n",
       "      <th>0.0</th>\n",
       "      <td>2993</td>\n",
       "    </tr>\n",
       "    <tr>\n",
       "      <th>1.0</th>\n",
       "      <td>377642</td>\n",
       "    </tr>\n",
       "    <tr>\n",
       "      <th>True</th>\n",
       "      <th>1.0</th>\n",
       "      <td>181557</td>\n",
       "    </tr>\n",
       "  </tbody>\n",
       "</table>\n",
       "</div>"
      ],
      "text/plain": [
       "                                     CEP\n",
       "in_grande_sao_paulo in_shapefile        \n",
       "False               0.0             2993\n",
       "                    1.0           377642\n",
       "True                1.0           181557"
      ]
     },
     "execution_count": 14,
     "metadata": {},
     "output_type": "execute_result"
    }
   ],
   "source": [
    "pd.DataFrame(dt.groupby(['in_grande_sao_paulo', 'in_shapefile']).CEP.apply(lambda x: len(x)))"
   ]
  },
  {
   "cell_type": "markdown",
   "id": "3f7ae761",
   "metadata": {},
   "source": [
    "#### COVERAGE BY CODE TRACT\n",
    "\n",
    "**For any of the unique code_tracts in Grande Sao Paulo in `susep.geo_info`, we have the code_tract's shapefile in 100% of the cases!** "
   ]
  },
  {
   "cell_type": "code",
   "execution_count": 15,
   "id": "eda6c51c",
   "metadata": {},
   "outputs": [
    {
     "data": {
      "text/html": [
       "<div>\n",
       "<style scoped>\n",
       "    .dataframe tbody tr th:only-of-type {\n",
       "        vertical-align: middle;\n",
       "    }\n",
       "\n",
       "    .dataframe tbody tr th {\n",
       "        vertical-align: top;\n",
       "    }\n",
       "\n",
       "    .dataframe thead th {\n",
       "        text-align: right;\n",
       "    }\n",
       "</style>\n",
       "<table border=\"1\" class=\"dataframe\">\n",
       "  <thead>\n",
       "    <tr style=\"text-align: right;\">\n",
       "      <th></th>\n",
       "      <th></th>\n",
       "      <th>CEP</th>\n",
       "    </tr>\n",
       "    <tr>\n",
       "      <th>in_grande_sao_paulo</th>\n",
       "      <th>in_shapefile</th>\n",
       "      <th></th>\n",
       "    </tr>\n",
       "  </thead>\n",
       "  <tbody>\n",
       "    <tr>\n",
       "      <th rowspan=\"2\" valign=\"top\">False</th>\n",
       "      <th>0.0</th>\n",
       "      <td>809</td>\n",
       "    </tr>\n",
       "    <tr>\n",
       "      <th>1.0</th>\n",
       "      <td>95476</td>\n",
       "    </tr>\n",
       "    <tr>\n",
       "      <th>True</th>\n",
       "      <th>1.0</th>\n",
       "      <td>43940</td>\n",
       "    </tr>\n",
       "  </tbody>\n",
       "</table>\n",
       "</div>"
      ],
      "text/plain": [
       "                                    CEP\n",
       "in_grande_sao_paulo in_shapefile       \n",
       "False               0.0             809\n",
       "                    1.0           95476\n",
       "True                1.0           43940"
      ]
     },
     "execution_count": 15,
     "metadata": {},
     "output_type": "execute_result"
    }
   ],
   "source": [
    "pd.DataFrame(dt.drop_duplicates(subset=['code_tract']).groupby(['in_grande_sao_paulo', 'in_shapefile']).CEP.apply(lambda x: len(x)))\n"
   ]
  },
  {
   "cell_type": "markdown",
   "id": "6454dcc5",
   "metadata": {},
   "source": [
    "### 2.3. "
   ]
  },
  {
   "cell_type": "code",
   "execution_count": null,
   "id": "376a7d0c",
   "metadata": {},
   "outputs": [],
   "source": []
  }
 ],
 "metadata": {
  "kernelspec": {
   "display_name": "Python 3 (ipykernel)",
   "language": "python",
   "name": "python3"
  },
  "language_info": {
   "codemirror_mode": {
    "name": "ipython",
    "version": 3
   },
   "file_extension": ".py",
   "mimetype": "text/x-python",
   "name": "python",
   "nbconvert_exporter": "python",
   "pygments_lexer": "ipython3",
   "version": "3.9.7"
  }
 },
 "nbformat": 4,
 "nbformat_minor": 5
}
