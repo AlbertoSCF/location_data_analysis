{
 "cells": [
  {
   "cell_type": "code",
   "execution_count": 1,
   "id": "e11f1e0c",
   "metadata": {},
   "outputs": [],
   "source": [
    "# Imports\n",
    "import pandas as pd\n",
    "import numpy as np\n",
    "import psycopg2, os\n",
    "from tqdm import tqdm\n",
    "import matplotlib.pyplot as plt\n",
    "\n",
    "#!pip install pyshp\n",
    "import shapefile\n",
    "\n",
    "# Establish connection and create its cursor\n",
    "try: \n",
    "    conn = psycopg2.connect(f\"host={os.environ['AURORA_POSTGRES_HOST']} dbname={os.environ['AURORA_POSTGRES_DATABASE']} user={os.environ['AURORA_POSTGRES_USERNAME']} password={os.environ['AURORA_POSTGRES_PWD']}\")\n",
    "    cur = conn.cursor()\n",
    "except psycopg2.Error as e: \n",
    "    print(\"Error: Could not make connection to the Postgres database\")\n",
    "    print(e)\n",
    "    "
   ]
  },
  {
   "cell_type": "markdown",
   "id": "826dc275",
   "metadata": {},
   "source": [
    "---\n",
    "## 1. Collect data\n",
    "\n",
    "CEPs data from correios"
   ]
  },
  {
   "cell_type": "code",
   "execution_count": 2,
   "id": "d17a80c0",
   "metadata": {},
   "outputs": [
    {
     "data": {
      "text/html": [
       "<div>\n",
       "<style scoped>\n",
       "    .dataframe tbody tr th:only-of-type {\n",
       "        vertical-align: middle;\n",
       "    }\n",
       "\n",
       "    .dataframe tbody tr th {\n",
       "        vertical-align: top;\n",
       "    }\n",
       "\n",
       "    .dataframe thead th {\n",
       "        text-align: right;\n",
       "    }\n",
       "</style>\n",
       "<table border=\"1\" class=\"dataframe\">\n",
       "  <thead>\n",
       "    <tr style=\"text-align: right;\">\n",
       "      <th></th>\n",
       "      <th>log_nu</th>\n",
       "      <th>ufe_sg</th>\n",
       "      <th>loc_nu</th>\n",
       "      <th>bai_nu_ini</th>\n",
       "      <th>bai_nu_fim</th>\n",
       "      <th>log_no</th>\n",
       "      <th>log_complemento</th>\n",
       "      <th>cep</th>\n",
       "      <th>tlo_tx</th>\n",
       "      <th>log_sta_tlo</th>\n",
       "      <th>log_no_abrev</th>\n",
       "    </tr>\n",
       "  </thead>\n",
       "  <tbody>\n",
       "    <tr>\n",
       "      <th>0</th>\n",
       "      <td>1001235</td>\n",
       "      <td>SP</td>\n",
       "      <td>8912</td>\n",
       "      <td>14716</td>\n",
       "      <td>-1</td>\n",
       "      <td>Octaviano de Arruda Campos</td>\n",
       "      <td>- de 960/961 ao fim</td>\n",
       "      <td>14810227</td>\n",
       "      <td>Avenida</td>\n",
       "      <td>S</td>\n",
       "      <td>Av Octaviano de A Campos</td>\n",
       "    </tr>\n",
       "    <tr>\n",
       "      <th>1</th>\n",
       "      <td>1001236</td>\n",
       "      <td>SP</td>\n",
       "      <td>8912</td>\n",
       "      <td>14760</td>\n",
       "      <td>-1</td>\n",
       "      <td>José Salles Gadelha</td>\n",
       "      <td>- até 108/109</td>\n",
       "      <td>14807048</td>\n",
       "      <td>Avenida</td>\n",
       "      <td>S</td>\n",
       "      <td>Av José S Gadelha</td>\n",
       "    </tr>\n",
       "    <tr>\n",
       "      <th>2</th>\n",
       "      <td>1001237</td>\n",
       "      <td>SP</td>\n",
       "      <td>8912</td>\n",
       "      <td>14668</td>\n",
       "      <td>-1</td>\n",
       "      <td>José Salles Gadelha</td>\n",
       "      <td>- de 110/111 ao fim</td>\n",
       "      <td>14807126</td>\n",
       "      <td>Avenida</td>\n",
       "      <td>S</td>\n",
       "      <td>Av José S Gadelha</td>\n",
       "    </tr>\n",
       "    <tr>\n",
       "      <th>3</th>\n",
       "      <td>1001239</td>\n",
       "      <td>SP</td>\n",
       "      <td>8912</td>\n",
       "      <td>55688</td>\n",
       "      <td>-1</td>\n",
       "      <td>Oswaldo Gonçalves de Jesus</td>\n",
       "      <td>-1</td>\n",
       "      <td>14805396</td>\n",
       "      <td>Avenida</td>\n",
       "      <td>S</td>\n",
       "      <td>Av Oswaldo G de Jesus</td>\n",
       "    </tr>\n",
       "    <tr>\n",
       "      <th>4</th>\n",
       "      <td>1001241</td>\n",
       "      <td>SP</td>\n",
       "      <td>8924</td>\n",
       "      <td>56583</td>\n",
       "      <td>-1</td>\n",
       "      <td>Pedro Eroles</td>\n",
       "      <td>- até km 34,999</td>\n",
       "      <td>07434090</td>\n",
       "      <td>Rodovia</td>\n",
       "      <td>S</td>\n",
       "      <td>Rod Pedro Eroles</td>\n",
       "    </tr>\n",
       "  </tbody>\n",
       "</table>\n",
       "</div>"
      ],
      "text/plain": [
       "    log_nu ufe_sg  loc_nu  bai_nu_ini  bai_nu_fim                      log_no  \\\n",
       "0  1001235     SP    8912       14716          -1  Octaviano de Arruda Campos   \n",
       "1  1001236     SP    8912       14760          -1         José Salles Gadelha   \n",
       "2  1001237     SP    8912       14668          -1         José Salles Gadelha   \n",
       "3  1001239     SP    8912       55688          -1  Oswaldo Gonçalves de Jesus   \n",
       "4  1001241     SP    8924       56583          -1                Pedro Eroles   \n",
       "\n",
       "       log_complemento       cep   tlo_tx log_sta_tlo  \\\n",
       "0  - de 960/961 ao fim  14810227  Avenida           S   \n",
       "1        - até 108/109  14807048  Avenida           S   \n",
       "2  - de 110/111 ao fim  14807126  Avenida           S   \n",
       "3                   -1  14805396  Avenida           S   \n",
       "4      - até km 34,999  07434090  Rodovia           S   \n",
       "\n",
       "               log_no_abrev  \n",
       "0  Av Octaviano de A Campos  \n",
       "1         Av José S Gadelha  \n",
       "2         Av José S Gadelha  \n",
       "3     Av Oswaldo G de Jesus  \n",
       "4          Rod Pedro Eroles  "
      ]
     },
     "execution_count": 2,
     "metadata": {},
     "output_type": "execute_result"
    }
   ],
   "source": [
    "cur.execute(\"SELECT * FROM edne.log_logradouro_sp\")\n",
    "data = pd.DataFrame(cur.fetchall(), columns=[desc[0] for desc in cur.description])\n",
    "data.head()\n"
   ]
  },
  {
   "cell_type": "markdown",
   "id": "a8c7057a",
   "metadata": {},
   "source": [
    "Current `susep.geo_info`"
   ]
  },
  {
   "cell_type": "code",
   "execution_count": 3,
   "id": "84750039",
   "metadata": {},
   "outputs": [
    {
     "data": {
      "text/html": [
       "<div>\n",
       "<style scoped>\n",
       "    .dataframe tbody tr th:only-of-type {\n",
       "        vertical-align: middle;\n",
       "    }\n",
       "\n",
       "    .dataframe tbody tr th {\n",
       "        vertical-align: top;\n",
       "    }\n",
       "\n",
       "    .dataframe thead th {\n",
       "        text-align: right;\n",
       "    }\n",
       "</style>\n",
       "<table border=\"1\" class=\"dataframe\">\n",
       "  <thead>\n",
       "    <tr style=\"text-align: right;\">\n",
       "      <th></th>\n",
       "      <th>Id</th>\n",
       "      <th>CEP</th>\n",
       "      <th>code_tract</th>\n",
       "      <th>address_count</th>\n",
       "      <th>lat</th>\n",
       "      <th>lon</th>\n",
       "      <th>reg_susep</th>\n",
       "      <th>cep_inicial</th>\n",
       "      <th>cidade</th>\n",
       "      <th>cep_final</th>\n",
       "      <th>cod_reg</th>\n",
       "      <th>reg_decirc</th>\n",
       "      <th>cep_ini</th>\n",
       "      <th>cep_fim</th>\n",
       "    </tr>\n",
       "  </thead>\n",
       "  <tbody>\n",
       "    <tr>\n",
       "      <th>0</th>\n",
       "      <td>1</td>\n",
       "      <td>76954000</td>\n",
       "      <td>110001520000004</td>\n",
       "      <td>12060</td>\n",
       "      <td>-12.047040</td>\n",
       "      <td>-62.051736</td>\n",
       "      <td>39.0</td>\n",
       "      <td>76740</td>\n",
       "      <td>FAINA</td>\n",
       "      <td>76999</td>\n",
       "      <td>48.0</td>\n",
       "      <td>DEMAIS REGI�ES DE GOI�S</td>\n",
       "      <td>76740</td>\n",
       "      <td>76999</td>\n",
       "    </tr>\n",
       "    <tr>\n",
       "      <th>1</th>\n",
       "      <td>777</td>\n",
       "      <td>76873868</td>\n",
       "      <td>110002305000060</td>\n",
       "      <td>11</td>\n",
       "      <td>-9.900819</td>\n",
       "      <td>-63.026831</td>\n",
       "      <td>39.0</td>\n",
       "      <td>76740</td>\n",
       "      <td>FAINA</td>\n",
       "      <td>76999</td>\n",
       "      <td>48.0</td>\n",
       "      <td>DEMAIS REGI�ES DE GOI�S</td>\n",
       "      <td>76740</td>\n",
       "      <td>76999</td>\n",
       "    </tr>\n",
       "  </tbody>\n",
       "</table>\n",
       "</div>"
      ],
      "text/plain": [
       "    Id       CEP       code_tract  address_count        lat        lon  \\\n",
       "0    1  76954000  110001520000004          12060 -12.047040 -62.051736   \n",
       "1  777  76873868  110002305000060             11  -9.900819 -63.026831   \n",
       "\n",
       "   reg_susep cep_inicial cidade cep_final  cod_reg               reg_decirc  \\\n",
       "0       39.0       76740  FAINA     76999     48.0  DEMAIS REGI�ES DE GOI�S   \n",
       "1       39.0       76740  FAINA     76999     48.0  DEMAIS REGI�ES DE GOI�S   \n",
       "\n",
       "  cep_ini cep_fim  \n",
       "0   76740   76999  \n",
       "1   76740   76999  "
      ]
     },
     "execution_count": 3,
     "metadata": {},
     "output_type": "execute_result"
    }
   ],
   "source": [
    "cur.execute(\"SELECT * FROM susep.geo_info\")\n",
    "geo_info = pd.DataFrame(cur.fetchall(), columns=[desc[0] for desc in cur.description])\n",
    "geo_info.head(2)\n"
   ]
  },
  {
   "cell_type": "markdown",
   "id": "f57d91fb",
   "metadata": {},
   "source": [
    "#### SOME FAST ANALYSIS\n",
    "\n",
    "All CEPs in Sao Paulo as per correios, and then all CEPs across Brazil in susep.geo_info"
   ]
  },
  {
   "cell_type": "code",
   "execution_count": 4,
   "id": "a3303ac7",
   "metadata": {},
   "outputs": [
    {
     "data": {
      "text/plain": [
       "306598"
      ]
     },
     "metadata": {},
     "output_type": "display_data"
    },
    {
     "data": {
      "text/plain": [
       "562192"
      ]
     },
     "metadata": {},
     "output_type": "display_data"
    }
   ],
   "source": [
    "display(len(set(data.cep)))\n",
    "display(len(set(geo_info.CEP)))\n"
   ]
  },
  {
   "cell_type": "markdown",
   "id": "f4f17758",
   "metadata": {},
   "source": [
    "If we work with the CEP codes assigned to the state of Sao Paulo as per susep.geo_info"
   ]
  },
  {
   "cell_type": "code",
   "execution_count": 5,
   "id": "67b00761",
   "metadata": {},
   "outputs": [
    {
     "data": {
      "text/plain": [
       "181557"
      ]
     },
     "execution_count": 5,
     "metadata": {},
     "output_type": "execute_result"
    }
   ],
   "source": [
    "susep_sao_paulo_ceps = set(geo_info[geo_info.code_tract.str.startswith('35')].CEP)\n",
    "len(susep_sao_paulo_ceps)"
   ]
  },
  {
   "cell_type": "markdown",
   "id": "6ca37eed",
   "metadata": {},
   "source": [
    "Let's see how the two sets relate"
   ]
  },
  {
   "cell_type": "code",
   "execution_count": 6,
   "id": "3535167d",
   "metadata": {},
   "outputs": [
    {
     "name": "stdout",
     "output_type": "stream",
     "text": [
      "CEPs assigned to Sao Paulo in susep.geo_info, but not in the correios data: 14442\n",
      "CEPs of Sao Paulo in correios data but not assigned to Sao Paulo in susep.geo_info: 139483\n"
     ]
    }
   ],
   "source": [
    "print(\"CEPs assigned to Sao Paulo in susep.geo_info, but not in the correios data:\", len(susep_sao_paulo_ceps-set(data.cep)))\n",
    "print(\"CEPs of Sao Paulo in correios data but not assigned to Sao Paulo in susep.geo_info:\", len(set(data.cep)-susep_sao_paulo_ceps))\n",
    "\n"
   ]
  },
  {
   "cell_type": "markdown",
   "id": "1cee55d4",
   "metadata": {},
   "source": [
    "We should probably do something with these 14.442 CEPs!? The examples I check seem to be in Sao Paulo so it's weird they are not in the correios data"
   ]
  },
  {
   "cell_type": "code",
   "execution_count": 7,
   "id": "e5cd8f76",
   "metadata": {},
   "outputs": [
    {
     "data": {
      "text/html": [
       "<div>\n",
       "<style scoped>\n",
       "    .dataframe tbody tr th:only-of-type {\n",
       "        vertical-align: middle;\n",
       "    }\n",
       "\n",
       "    .dataframe tbody tr th {\n",
       "        vertical-align: top;\n",
       "    }\n",
       "\n",
       "    .dataframe thead th {\n",
       "        text-align: right;\n",
       "    }\n",
       "</style>\n",
       "<table border=\"1\" class=\"dataframe\">\n",
       "  <thead>\n",
       "    <tr style=\"text-align: right;\">\n",
       "      <th></th>\n",
       "      <th>Id</th>\n",
       "      <th>CEP</th>\n",
       "      <th>code_tract</th>\n",
       "      <th>address_count</th>\n",
       "      <th>lat</th>\n",
       "      <th>lon</th>\n",
       "      <th>reg_susep</th>\n",
       "      <th>cep_inicial</th>\n",
       "      <th>cidade</th>\n",
       "      <th>cep_final</th>\n",
       "      <th>cod_reg</th>\n",
       "      <th>reg_decirc</th>\n",
       "      <th>cep_ini</th>\n",
       "      <th>cep_fim</th>\n",
       "    </tr>\n",
       "  </thead>\n",
       "  <tbody>\n",
       "    <tr>\n",
       "      <th>2747</th>\n",
       "      <td>5457</td>\n",
       "      <td>00009000</td>\n",
       "      <td>353440105000878</td>\n",
       "      <td>71</td>\n",
       "      <td>-15.562855</td>\n",
       "      <td>-56.290954</td>\n",
       "      <td>NaN</td>\n",
       "      <td>None</td>\n",
       "      <td>None</td>\n",
       "      <td>None</td>\n",
       "      <td>NaN</td>\n",
       "      <td>None</td>\n",
       "      <td>None</td>\n",
       "      <td>None</td>\n",
       "    </tr>\n",
       "    <tr>\n",
       "      <th>3013</th>\n",
       "      <td>5548</td>\n",
       "      <td>07990000</td>\n",
       "      <td>351630905000032</td>\n",
       "      <td>1441</td>\n",
       "      <td>-23.142257</td>\n",
       "      <td>-47.535682</td>\n",
       "      <td>11.0</td>\n",
       "      <td>7800</td>\n",
       "      <td>FRANCISCO MORATO</td>\n",
       "      <td>8499</td>\n",
       "      <td>14.0</td>\n",
       "      <td>METROPOLITANA DE S�O PAULO</td>\n",
       "      <td>7800</td>\n",
       "      <td>8499</td>\n",
       "    </tr>\n",
       "    <tr>\n",
       "      <th>3365</th>\n",
       "      <td>5661</td>\n",
       "      <td>06950000</td>\n",
       "      <td>352620910000012</td>\n",
       "      <td>14409</td>\n",
       "      <td>-23.923451</td>\n",
       "      <td>-47.072700</td>\n",
       "      <td>11.0</td>\n",
       "      <td>6950</td>\n",
       "      <td>JUQUITIBA</td>\n",
       "      <td>6999</td>\n",
       "      <td>14.0</td>\n",
       "      <td>METROPOLITANA DE S�O PAULO</td>\n",
       "      <td>6950</td>\n",
       "      <td>6999</td>\n",
       "    </tr>\n",
       "  </tbody>\n",
       "</table>\n",
       "</div>"
      ],
      "text/plain": [
       "        Id       CEP       code_tract  address_count        lat        lon  \\\n",
       "2747  5457  00009000  353440105000878             71 -15.562855 -56.290954   \n",
       "3013  5548  07990000  351630905000032           1441 -23.142257 -47.535682   \n",
       "3365  5661  06950000  352620910000012          14409 -23.923451 -47.072700   \n",
       "\n",
       "      reg_susep cep_inicial            cidade cep_final  cod_reg  \\\n",
       "2747        NaN        None              None      None      NaN   \n",
       "3013       11.0        7800  FRANCISCO MORATO      8499     14.0   \n",
       "3365       11.0        6950         JUQUITIBA      6999     14.0   \n",
       "\n",
       "                      reg_decirc cep_ini cep_fim  \n",
       "2747                        None    None    None  \n",
       "3013  METROPOLITANA DE S�O PAULO    7800    8499  \n",
       "3365  METROPOLITANA DE S�O PAULO    6950    6999  "
      ]
     },
     "execution_count": 7,
     "metadata": {},
     "output_type": "execute_result"
    }
   ],
   "source": [
    "geo_info[geo_info[\"CEP\"].isin(susep_sao_paulo_ceps-set(data.cep))].head(3)"
   ]
  },
  {
   "cell_type": "markdown",
   "id": "16ba9972",
   "metadata": {},
   "source": [
    "---\n",
    "\n",
    "## 2. Assign closest CEP\n",
    "\n",
    "Assign closest CEP to each missing CEP. First create an indexed 5-digit lookup table"
   ]
  },
  {
   "cell_type": "code",
   "execution_count": 8,
   "id": "1491024a",
   "metadata": {},
   "outputs": [
    {
     "data": {
      "text/html": [
       "<div>\n",
       "<style scoped>\n",
       "    .dataframe tbody tr th:only-of-type {\n",
       "        vertical-align: middle;\n",
       "    }\n",
       "\n",
       "    .dataframe tbody tr th {\n",
       "        vertical-align: top;\n",
       "    }\n",
       "\n",
       "    .dataframe thead th {\n",
       "        text-align: right;\n",
       "    }\n",
       "</style>\n",
       "<table border=\"1\" class=\"dataframe\">\n",
       "  <thead>\n",
       "    <tr style=\"text-align: right;\">\n",
       "      <th></th>\n",
       "      <th>5-digit_level</th>\n",
       "    </tr>\n",
       "    <tr>\n",
       "      <th>CEP</th>\n",
       "      <th></th>\n",
       "    </tr>\n",
       "  </thead>\n",
       "  <tbody>\n",
       "    <tr>\n",
       "      <th>1</th>\n",
       "      <td>00000</td>\n",
       "    </tr>\n",
       "    <tr>\n",
       "      <th>2</th>\n",
       "      <td>00000</td>\n",
       "    </tr>\n",
       "    <tr>\n",
       "      <th>3</th>\n",
       "      <td>00000</td>\n",
       "    </tr>\n",
       "    <tr>\n",
       "      <th>4</th>\n",
       "      <td>00000</td>\n",
       "    </tr>\n",
       "    <tr>\n",
       "      <th>5</th>\n",
       "      <td>00000</td>\n",
       "    </tr>\n",
       "    <tr>\n",
       "      <th>...</th>\n",
       "      <td>...</td>\n",
       "    </tr>\n",
       "    <tr>\n",
       "      <th>99999990</th>\n",
       "      <td>99999</td>\n",
       "    </tr>\n",
       "    <tr>\n",
       "      <th>99999991</th>\n",
       "      <td>99999</td>\n",
       "    </tr>\n",
       "    <tr>\n",
       "      <th>99999996</th>\n",
       "      <td>99999</td>\n",
       "    </tr>\n",
       "    <tr>\n",
       "      <th>99999998</th>\n",
       "      <td>99999</td>\n",
       "    </tr>\n",
       "    <tr>\n",
       "      <th>99999999</th>\n",
       "      <td>99999</td>\n",
       "    </tr>\n",
       "  </tbody>\n",
       "</table>\n",
       "<p>562192 rows × 1 columns</p>\n",
       "</div>"
      ],
      "text/plain": [
       "         5-digit_level\n",
       "CEP                   \n",
       "1                00000\n",
       "2                00000\n",
       "3                00000\n",
       "4                00000\n",
       "5                00000\n",
       "...                ...\n",
       "99999990         99999\n",
       "99999991         99999\n",
       "99999996         99999\n",
       "99999998         99999\n",
       "99999999         99999\n",
       "\n",
       "[562192 rows x 1 columns]"
      ]
     },
     "execution_count": 8,
     "metadata": {},
     "output_type": "execute_result"
    }
   ],
   "source": [
    "# Sort susep by CEP and get the sorted list of CEPs\n",
    "geo_info[\"CEP\"] = geo_info[\"CEP\"].astype(int)\n",
    "geo_info = geo_info.sort_values(\"CEP\").reset_index().drop(columns='index')\n",
    "\n",
    "# Function to get numeric cep to string\n",
    "def cep_to_str(number):\n",
    "    return (\"0\"*(8-len(str(number)))+str(number))\n",
    "geo_info['5-digit_level'] = geo_info[\"CEP\"].apply(lambda x: cep_to_str(int(x))[:5])\n",
    "\n",
    "# Create lookup table\n",
    "cep_lookup_table = geo_info[[\"CEP\", '5-digit_level']].set_index(\"CEP\").copy()\n",
    "cep_lookup_table\n"
   ]
  },
  {
   "cell_type": "markdown",
   "id": "5a39e605",
   "metadata": {},
   "source": [
    "Exclude from this lookup table all CEPs that:\n",
    "- Do not start with 0 or 1, as they theoretically do not belong to Sao Paulo, or\n",
    "- Do not appear among correios data"
   ]
  },
  {
   "cell_type": "code",
   "execution_count": 9,
   "id": "4ed3134e",
   "metadata": {},
   "outputs": [
    {
     "data": {
      "text/html": [
       "<div>\n",
       "<style scoped>\n",
       "    .dataframe tbody tr th:only-of-type {\n",
       "        vertical-align: middle;\n",
       "    }\n",
       "\n",
       "    .dataframe tbody tr th {\n",
       "        vertical-align: top;\n",
       "    }\n",
       "\n",
       "    .dataframe thead th {\n",
       "        text-align: right;\n",
       "    }\n",
       "</style>\n",
       "<table border=\"1\" class=\"dataframe\">\n",
       "  <thead>\n",
       "    <tr style=\"text-align: right;\">\n",
       "      <th></th>\n",
       "      <th>5-digit_level</th>\n",
       "    </tr>\n",
       "    <tr>\n",
       "      <th>CEP</th>\n",
       "      <th></th>\n",
       "    </tr>\n",
       "  </thead>\n",
       "  <tbody>\n",
       "    <tr>\n",
       "      <th>1001000</th>\n",
       "      <td>01001</td>\n",
       "    </tr>\n",
       "    <tr>\n",
       "      <th>1001001</th>\n",
       "      <td>01001</td>\n",
       "    </tr>\n",
       "    <tr>\n",
       "      <th>1001010</th>\n",
       "      <td>01001</td>\n",
       "    </tr>\n",
       "    <tr>\n",
       "      <th>1002000</th>\n",
       "      <td>01002</td>\n",
       "    </tr>\n",
       "    <tr>\n",
       "      <th>1002001</th>\n",
       "      <td>01002</td>\n",
       "    </tr>\n",
       "    <tr>\n",
       "      <th>...</th>\n",
       "      <td>...</td>\n",
       "    </tr>\n",
       "    <tr>\n",
       "      <th>19915734</th>\n",
       "      <td>19915</td>\n",
       "    </tr>\n",
       "    <tr>\n",
       "      <th>19915736</th>\n",
       "      <td>19915</td>\n",
       "    </tr>\n",
       "    <tr>\n",
       "      <th>19915738</th>\n",
       "      <td>19915</td>\n",
       "    </tr>\n",
       "    <tr>\n",
       "      <th>19915742</th>\n",
       "      <td>19915</td>\n",
       "    </tr>\n",
       "    <tr>\n",
       "      <th>19979000</th>\n",
       "      <td>19979</td>\n",
       "    </tr>\n",
       "  </tbody>\n",
       "</table>\n",
       "<p>167774 rows × 1 columns</p>\n",
       "</div>"
      ],
      "text/plain": [
       "         5-digit_level\n",
       "CEP                   \n",
       "1001000          01001\n",
       "1001001          01001\n",
       "1001010          01001\n",
       "1002000          01002\n",
       "1002001          01002\n",
       "...                ...\n",
       "19915734         19915\n",
       "19915736         19915\n",
       "19915738         19915\n",
       "19915742         19915\n",
       "19979000         19979\n",
       "\n",
       "[167774 rows x 1 columns]"
      ]
     },
     "execution_count": 9,
     "metadata": {},
     "output_type": "execute_result"
    }
   ],
   "source": [
    "cep_lookup_table = cep_lookup_table[(cep_lookup_table.index.isin(data.cep.astype(int))) &\n",
    "                                    ((cep_lookup_table['5-digit_level'].str.startswith('0')) \n",
    "                                     | (cep_lookup_table['5-digit_level'].str.startswith('1')))]\n",
    "cep_lookup_table\n"
   ]
  },
  {
   "cell_type": "markdown",
   "id": "a7d24784",
   "metadata": {},
   "source": [
    "Now get the closest CEP in the 5-digit level if there's any, otherwise just the closest"
   ]
  },
  {
   "cell_type": "code",
   "execution_count": 10,
   "id": "3bdf78f9",
   "metadata": {},
   "outputs": [
    {
     "name": "stderr",
     "output_type": "stream",
     "text": [
      "100%|██████████████████████████████████| 306598/306598 [06:18<00:00, 811.07it/s]\n"
     ]
    },
    {
     "data": {
      "text/html": [
       "<div>\n",
       "<style scoped>\n",
       "    .dataframe tbody tr th:only-of-type {\n",
       "        vertical-align: middle;\n",
       "    }\n",
       "\n",
       "    .dataframe tbody tr th {\n",
       "        vertical-align: top;\n",
       "    }\n",
       "\n",
       "    .dataframe thead th {\n",
       "        text-align: right;\n",
       "    }\n",
       "</style>\n",
       "<table border=\"1\" class=\"dataframe\">\n",
       "  <thead>\n",
       "    <tr style=\"text-align: right;\">\n",
       "      <th></th>\n",
       "      <th>cep</th>\n",
       "      <th>closest_in_geo_info</th>\n",
       "      <th>abs_distance</th>\n",
       "      <th>match_in_5_digit_prefix</th>\n",
       "    </tr>\n",
       "  </thead>\n",
       "  <tbody>\n",
       "    <tr>\n",
       "      <th>0</th>\n",
       "      <td>13802404</td>\n",
       "      <td>13802430</td>\n",
       "      <td>26</td>\n",
       "      <td>True</td>\n",
       "    </tr>\n",
       "    <tr>\n",
       "      <th>1</th>\n",
       "      <td>18304822</td>\n",
       "      <td>18304750</td>\n",
       "      <td>72</td>\n",
       "      <td>True</td>\n",
       "    </tr>\n",
       "    <tr>\n",
       "      <th>2</th>\n",
       "      <td>2132140</td>\n",
       "      <td>2132140</td>\n",
       "      <td>0</td>\n",
       "      <td>True</td>\n",
       "    </tr>\n",
       "    <tr>\n",
       "      <th>3</th>\n",
       "      <td>3505000</td>\n",
       "      <td>3505000</td>\n",
       "      <td>0</td>\n",
       "      <td>True</td>\n",
       "    </tr>\n",
       "    <tr>\n",
       "      <th>4</th>\n",
       "      <td>18131521</td>\n",
       "      <td>18131520</td>\n",
       "      <td>1</td>\n",
       "      <td>True</td>\n",
       "    </tr>\n",
       "  </tbody>\n",
       "</table>\n",
       "</div>"
      ],
      "text/plain": [
       "        cep  closest_in_geo_info  abs_distance  match_in_5_digit_prefix\n",
       "0  13802404             13802430            26                     True\n",
       "1  18304822             18304750            72                     True\n",
       "2   2132140              2132140             0                     True\n",
       "3   3505000              3505000             0                     True\n",
       "4  18131521             18131520             1                     True"
      ]
     },
     "execution_count": 10,
     "metadata": {},
     "output_type": "execute_result"
    }
   ],
   "source": [
    "# Define a fast search function to return closes value in list given a number\n",
    "from bisect import bisect_left\n",
    "def take_closest(myList, myNumber):\n",
    "    \"\"\"\n",
    "    Assumes myList is sorted. Returns closest value to myNumber.\n",
    "\n",
    "    If two numbers are equally close, return the smallest number.\n",
    "    \"\"\"\n",
    "    pos = bisect_left(myList, myNumber)\n",
    "    if pos == 0:\n",
    "        return myList[0]\n",
    "    if pos == len(myList):\n",
    "        return myList[-1]\n",
    "    before = myList[pos - 1]\n",
    "    after = myList[pos]\n",
    "    if after - myNumber < myNumber - before:\n",
    "        return after\n",
    "    else:\n",
    "        return before\n",
    "\n",
    "\n",
    "# For each cep\n",
    "matches = []\n",
    "for cep in tqdm(set(data.cep)):\n",
    "\n",
    "    # Compute the match\n",
    "    match = take_closest(cep_lookup_table.index, int(cep))\n",
    "    \n",
    "    # If the match is not in the same 5-digit level\n",
    "    if cep_to_str(match)[:5]!=cep_to_str(int(cep))[:5]:\n",
    "        \n",
    "        # Filter the lookup list to contain only ceps in the same 5-digit level\n",
    "        tmp_list = list(cep_lookup_table[cep_lookup_table['5-digit_level']==cep_to_str(int(cep))[:5]].index)\n",
    "        \n",
    "        # And if there's any, get the closest value within that level as match\n",
    "        if len(tmp_list)>0:\n",
    "            match = take_closest(tmp_list, int(cep))\n",
    "            \n",
    "    # Append results\n",
    "    matches.append({'cep': int(cep), \n",
    "                    'closest_in_geo_info': match})\n",
    "        \n",
    "matches = pd.DataFrame(matches)\n",
    "\n",
    "# Add an abs distance column and a column indicating whether the 5 digit match is correct\n",
    "matches['abs_distance'] = (matches.cep-matches.closest_in_geo_info).abs()\n",
    "matches['match_in_5_digit_prefix'] = matches.cep.astype(str).apply(lambda x: x[0: 5-(8-len(x))])==matches.closest_in_geo_info.astype(str).apply(lambda x: x[0: 5-(8-len(x))])\n",
    "matches.head()\n"
   ]
  },
  {
   "cell_type": "markdown",
   "id": "b030f094",
   "metadata": {},
   "source": [
    "---\n",
    "\n",
    "## 3. Filters\n",
    "\n",
    "Little breakdown of CEPs in the correios data"
   ]
  },
  {
   "cell_type": "code",
   "execution_count": 11,
   "id": "74d1e809",
   "metadata": {},
   "outputs": [
    {
     "data": {
      "text/plain": [
       "True     167774\n",
       "False    138824\n",
       "Name: abs_distance, dtype: int64"
      ]
     },
     "execution_count": 11,
     "metadata": {},
     "output_type": "execute_result"
    }
   ],
   "source": [
    "(matches['abs_distance']==0).value_counts()"
   ]
  },
  {
   "cell_type": "code",
   "execution_count": 12,
   "id": "df3001d9",
   "metadata": {},
   "outputs": [
    {
     "data": {
      "text/plain": [
       "True     96238\n",
       "False    42586\n",
       "Name: match_in_5_digit_prefix, dtype: int64"
      ]
     },
     "execution_count": 12,
     "metadata": {},
     "output_type": "execute_result"
    }
   ],
   "source": [
    "matches[(matches['abs_distance']!=0)].match_in_5_digit_prefix.value_counts()"
   ]
  },
  {
   "cell_type": "markdown",
   "id": "fbece0b8",
   "metadata": {},
   "source": [
    "Keep only the cases to imputated - inexact match but correct in the first 5 digits"
   ]
  },
  {
   "cell_type": "code",
   "execution_count": 13,
   "id": "3053eb12",
   "metadata": {},
   "outputs": [
    {
     "data": {
      "text/plain": [
       "(96238, 4)"
      ]
     },
     "execution_count": 13,
     "metadata": {},
     "output_type": "execute_result"
    }
   ],
   "source": [
    "curated_matches = matches[(matches['abs_distance']!=0) & (matches.match_in_5_digit_prefix)].copy()\n",
    "curated_matches.shape\n"
   ]
  },
  {
   "cell_type": "markdown",
   "id": "8cc5433e",
   "metadata": {},
   "source": [
    "---\n",
    "## 4. Extra data for further checks\n",
    "\n",
    "In how many cases the name of the logradouro assigned to the two CEPs is different?"
   ]
  },
  {
   "cell_type": "code",
   "execution_count": 14,
   "id": "0a3ec5a1",
   "metadata": {},
   "outputs": [
    {
     "name": "stderr",
     "output_type": "stream",
     "text": [
      "96238it [20:09, 79.58it/s]\n"
     ]
    },
    {
     "data": {
      "text/html": [
       "<div>\n",
       "<style scoped>\n",
       "    .dataframe tbody tr th:only-of-type {\n",
       "        vertical-align: middle;\n",
       "    }\n",
       "\n",
       "    .dataframe tbody tr th {\n",
       "        vertical-align: top;\n",
       "    }\n",
       "\n",
       "    .dataframe thead th {\n",
       "        text-align: right;\n",
       "    }\n",
       "</style>\n",
       "<table border=\"1\" class=\"dataframe\">\n",
       "  <thead>\n",
       "    <tr style=\"text-align: right;\">\n",
       "      <th></th>\n",
       "      <th>assigned_in_correios_data</th>\n",
       "      <th>same_loc_nu</th>\n",
       "      <th>same_bai_nu_ini</th>\n",
       "      <th>same_log_no</th>\n",
       "    </tr>\n",
       "  </thead>\n",
       "  <tbody>\n",
       "    <tr>\n",
       "      <th>0</th>\n",
       "      <td>True</td>\n",
       "      <td>True</td>\n",
       "      <td>False</td>\n",
       "      <td>False</td>\n",
       "    </tr>\n",
       "    <tr>\n",
       "      <th>1</th>\n",
       "      <td>True</td>\n",
       "      <td>True</td>\n",
       "      <td>False</td>\n",
       "      <td>False</td>\n",
       "    </tr>\n",
       "    <tr>\n",
       "      <th>2</th>\n",
       "      <td>True</td>\n",
       "      <td>True</td>\n",
       "      <td>False</td>\n",
       "      <td>False</td>\n",
       "    </tr>\n",
       "    <tr>\n",
       "      <th>3</th>\n",
       "      <td>True</td>\n",
       "      <td>True</td>\n",
       "      <td>True</td>\n",
       "      <td>False</td>\n",
       "    </tr>\n",
       "    <tr>\n",
       "      <th>4</th>\n",
       "      <td>True</td>\n",
       "      <td>True</td>\n",
       "      <td>True</td>\n",
       "      <td>False</td>\n",
       "    </tr>\n",
       "    <tr>\n",
       "      <th>...</th>\n",
       "      <td>...</td>\n",
       "      <td>...</td>\n",
       "      <td>...</td>\n",
       "      <td>...</td>\n",
       "    </tr>\n",
       "    <tr>\n",
       "      <th>96233</th>\n",
       "      <td>True</td>\n",
       "      <td>True</td>\n",
       "      <td>False</td>\n",
       "      <td>False</td>\n",
       "    </tr>\n",
       "    <tr>\n",
       "      <th>96234</th>\n",
       "      <td>True</td>\n",
       "      <td>True</td>\n",
       "      <td>False</td>\n",
       "      <td>False</td>\n",
       "    </tr>\n",
       "    <tr>\n",
       "      <th>96235</th>\n",
       "      <td>True</td>\n",
       "      <td>True</td>\n",
       "      <td>False</td>\n",
       "      <td>False</td>\n",
       "    </tr>\n",
       "    <tr>\n",
       "      <th>96236</th>\n",
       "      <td>True</td>\n",
       "      <td>True</td>\n",
       "      <td>True</td>\n",
       "      <td>False</td>\n",
       "    </tr>\n",
       "    <tr>\n",
       "      <th>96237</th>\n",
       "      <td>True</td>\n",
       "      <td>True</td>\n",
       "      <td>False</td>\n",
       "      <td>False</td>\n",
       "    </tr>\n",
       "  </tbody>\n",
       "</table>\n",
       "<p>96238 rows × 4 columns</p>\n",
       "</div>"
      ],
      "text/plain": [
       "       assigned_in_correios_data  same_loc_nu  same_bai_nu_ini  same_log_no\n",
       "0                           True         True            False        False\n",
       "1                           True         True            False        False\n",
       "2                           True         True            False        False\n",
       "3                           True         True             True        False\n",
       "4                           True         True             True        False\n",
       "...                          ...          ...              ...          ...\n",
       "96233                       True         True            False        False\n",
       "96234                       True         True            False        False\n",
       "96235                       True         True            False        False\n",
       "96236                       True         True             True        False\n",
       "96237                       True         True            False        False\n",
       "\n",
       "[96238 rows x 4 columns]"
      ]
     },
     "execution_count": 14,
     "metadata": {},
     "output_type": "execute_result"
    }
   ],
   "source": [
    "extra_data = []\n",
    "for i, row in tqdm(curated_matches.iterrows()):\n",
    "    \n",
    "    # Get the data\n",
    "    tmp = data[data['cep'].isin([str(str(row.cep) if len(str(row.cep))==8 else '0'+str(row.cep)),\n",
    "                             str(str(row.closest_in_geo_info) if len(str(row.closest_in_geo_info))==8 else '0'+str(row.closest_in_geo_info))])]\n",
    "    \n",
    "    # if the assigned CEP is also in correios data\n",
    "    if tmp.shape[0]==2:\n",
    "        assigned_in_correios_data = True\n",
    "        same_loc_nu = tmp.loc_nu.nunique()==1\n",
    "        same_bai_nu_ini = tmp.bai_nu_ini.nunique()==1\n",
    "        same_log_no = tmp.log_no.nunique()==1\n",
    "        \n",
    "    else:\n",
    "        assigned_in_correios_data = False\n",
    "        same_loc_nu = np.nan\n",
    "        same_bai_nu_ini = np.nan\n",
    "        same_log_no = np.nan\n",
    "        \n",
    "    # APpend to data\n",
    "    extra_data.append({'assigned_in_correios_data': assigned_in_correios_data, \n",
    "                       'same_loc_nu': same_loc_nu,\n",
    "                       'same_bai_nu_ini': same_bai_nu_ini,\n",
    "                       'same_log_no': same_log_no})\n",
    "    \n",
    "\n",
    "extra_data = pd.DataFrame(extra_data)\n",
    "extra_data\n"
   ]
  },
  {
   "cell_type": "markdown",
   "id": "e5c9ba19",
   "metadata": {},
   "source": [
    "Append to the matches data"
   ]
  },
  {
   "cell_type": "code",
   "execution_count": 15,
   "id": "582c564c",
   "metadata": {},
   "outputs": [
    {
     "data": {
      "text/html": [
       "<div>\n",
       "<style scoped>\n",
       "    .dataframe tbody tr th:only-of-type {\n",
       "        vertical-align: middle;\n",
       "    }\n",
       "\n",
       "    .dataframe tbody tr th {\n",
       "        vertical-align: top;\n",
       "    }\n",
       "\n",
       "    .dataframe thead th {\n",
       "        text-align: right;\n",
       "    }\n",
       "</style>\n",
       "<table border=\"1\" class=\"dataframe\">\n",
       "  <thead>\n",
       "    <tr style=\"text-align: right;\">\n",
       "      <th></th>\n",
       "      <th>cep</th>\n",
       "      <th>closest_in_geo_info</th>\n",
       "      <th>abs_distance</th>\n",
       "      <th>match_in_5_digit_prefix</th>\n",
       "      <th>assigned_in_correios_data</th>\n",
       "      <th>same_loc_nu</th>\n",
       "      <th>same_bai_nu_ini</th>\n",
       "      <th>same_log_no</th>\n",
       "    </tr>\n",
       "  </thead>\n",
       "  <tbody>\n",
       "    <tr>\n",
       "      <th>0</th>\n",
       "      <td>13802404</td>\n",
       "      <td>13802430</td>\n",
       "      <td>26</td>\n",
       "      <td>True</td>\n",
       "      <td>True</td>\n",
       "      <td>True</td>\n",
       "      <td>False</td>\n",
       "      <td>False</td>\n",
       "    </tr>\n",
       "    <tr>\n",
       "      <th>1</th>\n",
       "      <td>18304822</td>\n",
       "      <td>18304750</td>\n",
       "      <td>72</td>\n",
       "      <td>True</td>\n",
       "      <td>True</td>\n",
       "      <td>True</td>\n",
       "      <td>False</td>\n",
       "      <td>False</td>\n",
       "    </tr>\n",
       "    <tr>\n",
       "      <th>2</th>\n",
       "      <td>18131521</td>\n",
       "      <td>18131520</td>\n",
       "      <td>1</td>\n",
       "      <td>True</td>\n",
       "      <td>True</td>\n",
       "      <td>True</td>\n",
       "      <td>False</td>\n",
       "      <td>False</td>\n",
       "    </tr>\n",
       "    <tr>\n",
       "      <th>3</th>\n",
       "      <td>3912140</td>\n",
       "      <td>3912130</td>\n",
       "      <td>10</td>\n",
       "      <td>True</td>\n",
       "      <td>True</td>\n",
       "      <td>True</td>\n",
       "      <td>True</td>\n",
       "      <td>False</td>\n",
       "    </tr>\n",
       "    <tr>\n",
       "      <th>4</th>\n",
       "      <td>13337330</td>\n",
       "      <td>13337320</td>\n",
       "      <td>10</td>\n",
       "      <td>True</td>\n",
       "      <td>True</td>\n",
       "      <td>True</td>\n",
       "      <td>True</td>\n",
       "      <td>False</td>\n",
       "    </tr>\n",
       "  </tbody>\n",
       "</table>\n",
       "</div>"
      ],
      "text/plain": [
       "        cep  closest_in_geo_info  abs_distance  match_in_5_digit_prefix  \\\n",
       "0  13802404             13802430            26                     True   \n",
       "1  18304822             18304750            72                     True   \n",
       "2  18131521             18131520             1                     True   \n",
       "3   3912140              3912130            10                     True   \n",
       "4  13337330             13337320            10                     True   \n",
       "\n",
       "   assigned_in_correios_data  same_loc_nu  same_bai_nu_ini  same_log_no  \n",
       "0                       True         True            False        False  \n",
       "1                       True         True            False        False  \n",
       "2                       True         True            False        False  \n",
       "3                       True         True             True        False  \n",
       "4                       True         True             True        False  "
      ]
     },
     "execution_count": 15,
     "metadata": {},
     "output_type": "execute_result"
    }
   ],
   "source": [
    "curated_matches = pd.concat([curated_matches.reset_index().drop(columns='index'), extra_data], axis=1)\n",
    "curated_matches.head()\n"
   ]
  },
  {
   "cell_type": "markdown",
   "id": "2390cc2c",
   "metadata": {},
   "source": [
    "---\n",
    "\n",
    "## 5. Match quality analysis\n",
    "\n",
    "By contstruction we ensure that every match is among correios data"
   ]
  },
  {
   "cell_type": "code",
   "execution_count": 16,
   "id": "a0fe8458",
   "metadata": {},
   "outputs": [
    {
     "data": {
      "text/plain": [
       "True    96238\n",
       "Name: assigned_in_correios_data, dtype: int64"
      ]
     },
     "metadata": {},
     "output_type": "display_data"
    },
    {
     "data": {
      "text/html": [
       "<div>\n",
       "<style scoped>\n",
       "    .dataframe tbody tr th:only-of-type {\n",
       "        vertical-align: middle;\n",
       "    }\n",
       "\n",
       "    .dataframe tbody tr th {\n",
       "        vertical-align: top;\n",
       "    }\n",
       "\n",
       "    .dataframe thead th {\n",
       "        text-align: right;\n",
       "    }\n",
       "</style>\n",
       "<table border=\"1\" class=\"dataframe\">\n",
       "  <thead>\n",
       "    <tr style=\"text-align: right;\">\n",
       "      <th></th>\n",
       "      <th>cep</th>\n",
       "      <th>closest_in_geo_info</th>\n",
       "      <th>abs_distance</th>\n",
       "      <th>match_in_5_digit_prefix</th>\n",
       "      <th>assigned_in_correios_data</th>\n",
       "      <th>same_loc_nu</th>\n",
       "      <th>same_bai_nu_ini</th>\n",
       "      <th>same_log_no</th>\n",
       "    </tr>\n",
       "  </thead>\n",
       "  <tbody>\n",
       "  </tbody>\n",
       "</table>\n",
       "</div>"
      ],
      "text/plain": [
       "Empty DataFrame\n",
       "Columns: [cep, closest_in_geo_info, abs_distance, match_in_5_digit_prefix, assigned_in_correios_data, same_loc_nu, same_bai_nu_ini, same_log_no]\n",
       "Index: []"
      ]
     },
     "execution_count": 16,
     "metadata": {},
     "output_type": "execute_result"
    }
   ],
   "source": [
    "display(curated_matches.assigned_in_correios_data.value_counts())\n",
    "curated_matches[~curated_matches['assigned_in_correios_data']].head(2)\n"
   ]
  },
  {
   "cell_type": "markdown",
   "id": "205b6ca8",
   "metadata": {},
   "source": [
    "Is `abs_distance` (diff between CEPs as integers) indicative of geographical distance?\n"
   ]
  },
  {
   "cell_type": "code",
   "execution_count": 17,
   "id": "15c1c3ce",
   "metadata": {},
   "outputs": [
    {
     "data": {
      "text/plain": [
       "False    95120\n",
       "True      1118\n",
       "Name: same_log_no, dtype: int64"
      ]
     },
     "metadata": {},
     "output_type": "display_data"
    },
    {
     "data": {
      "text/plain": [
       "None"
      ]
     },
     "metadata": {},
     "output_type": "display_data"
    },
    {
     "data": {
      "text/plain": [
       "(0.0, 200.0)"
      ]
     },
     "execution_count": 17,
     "metadata": {},
     "output_type": "execute_result"
    },
    {
     "data": {
      "image/png": "[encoded data removed]",
      "text/plain": [
       "<Figure size 1440x360 with 2 Axes>"
      ]
     },
     "metadata": {
      "needs_background": "light"
     },
     "output_type": "display_data"
    }
   ],
   "source": [
    "display(display(curated_matches.same_log_no.value_counts()))\n",
    "\n",
    "fig, axes = plt.subplots(1,2, figsize=(20,5))\n",
    "curated_matches[curated_matches['same_log_no']==True].abs_distance.hist(bins=50, ax=axes[0])\n",
    "axes[0].set_xlim((0,200))\n",
    "curated_matches[curated_matches['same_log_no']==False].abs_distance.hist(bins=50, ax=axes[1])\n",
    "axes[1].set_xlim((0,200))\n"
   ]
  },
  {
   "cell_type": "code",
   "execution_count": 18,
   "id": "2dd76dc5",
   "metadata": {},
   "outputs": [
    {
     "data": {
      "text/plain": [
       "True     56151\n",
       "False    40087\n",
       "Name: same_bai_nu_ini, dtype: int64"
      ]
     },
     "metadata": {},
     "output_type": "display_data"
    },
    {
     "data": {
      "text/plain": [
       "None"
      ]
     },
     "metadata": {},
     "output_type": "display_data"
    },
    {
     "data": {
      "text/plain": [
       "(0.0, 200.0)"
      ]
     },
     "execution_count": 18,
     "metadata": {},
     "output_type": "execute_result"
    },
    {
     "data": {
      "image/png": "[encoded data removed]",
      "text/plain": [
       "<Figure size 1440x360 with 2 Axes>"
      ]
     },
     "metadata": {
      "needs_background": "light"
     },
     "output_type": "display_data"
    }
   ],
   "source": [
    "display(display(curated_matches.same_bai_nu_ini.value_counts()))\n",
    "\n",
    "fig, axes = plt.subplots(1,2, figsize=(20,5))\n",
    "curated_matches[curated_matches['same_bai_nu_ini']==True].abs_distance.hist(bins=50, ax=axes[0])\n",
    "axes[0].set_xlim((0,200))\n",
    "curated_matches[curated_matches['same_bai_nu_ini']==False].abs_distance.hist(bins=50, ax=axes[1])\n",
    "axes[1].set_xlim((0,200))\n"
   ]
  },
  {
   "cell_type": "markdown",
   "id": "55a34627",
   "metadata": {},
   "source": [
    "It seems reasonable to **limit the matches to those pairs that have the same `bai_nu_ini`, bairro inicial del logradouro**."
   ]
  },
  {
   "cell_type": "code",
   "execution_count": 19,
   "id": "79668e8d",
   "metadata": {},
   "outputs": [
    {
     "data": {
      "text/plain": [
       "(56151, 8)"
      ]
     },
     "execution_count": 19,
     "metadata": {},
     "output_type": "execute_result"
    }
   ],
   "source": [
    "final_curated_matches = curated_matches[(curated_matches['same_bai_nu_ini']==True)].copy()\n",
    "final_curated_matches.shape\n"
   ]
  },
  {
   "cell_type": "markdown",
   "id": "85757982",
   "metadata": {},
   "source": [
    "---\n",
    "\n",
    "## 6. Check some specific cases\n",
    "\n",
    "Some relevant cases:\n",
    "\n",
    "- **Bruno's neighbors**:"
   ]
  },
  {
   "cell_type": "code",
   "execution_count": 20,
   "id": "1f4bf13d",
   "metadata": {},
   "outputs": [
    {
     "data": {
      "text/html": [
       "<div>\n",
       "<style scoped>\n",
       "    .dataframe tbody tr th:only-of-type {\n",
       "        vertical-align: middle;\n",
       "    }\n",
       "\n",
       "    .dataframe tbody tr th {\n",
       "        vertical-align: top;\n",
       "    }\n",
       "\n",
       "    .dataframe thead th {\n",
       "        text-align: right;\n",
       "    }\n",
       "</style>\n",
       "<table border=\"1\" class=\"dataframe\">\n",
       "  <thead>\n",
       "    <tr style=\"text-align: right;\">\n",
       "      <th></th>\n",
       "      <th>cep</th>\n",
       "      <th>closest_in_geo_info</th>\n",
       "      <th>abs_distance</th>\n",
       "      <th>match_in_5_digit_prefix</th>\n",
       "      <th>assigned_in_correios_data</th>\n",
       "      <th>same_loc_nu</th>\n",
       "      <th>same_bai_nu_ini</th>\n",
       "      <th>same_log_no</th>\n",
       "    </tr>\n",
       "  </thead>\n",
       "  <tbody>\n",
       "    <tr>\n",
       "      <th>51155</th>\n",
       "      <td>1405100</td>\n",
       "      <td>1405003</td>\n",
       "      <td>97</td>\n",
       "      <td>True</td>\n",
       "      <td>True</td>\n",
       "      <td>True</td>\n",
       "      <td>True</td>\n",
       "      <td>True</td>\n",
       "    </tr>\n",
       "  </tbody>\n",
       "</table>\n",
       "</div>"
      ],
      "text/plain": [
       "           cep  closest_in_geo_info  abs_distance  match_in_5_digit_prefix  \\\n",
       "51155  1405100              1405003            97                     True   \n",
       "\n",
       "       assigned_in_correios_data  same_loc_nu  same_bai_nu_ini  same_log_no  \n",
       "51155                       True         True             True         True  "
      ]
     },
     "metadata": {},
     "output_type": "display_data"
    },
    {
     "data": {
      "text/html": [
       "<div>\n",
       "<style scoped>\n",
       "    .dataframe tbody tr th:only-of-type {\n",
       "        vertical-align: middle;\n",
       "    }\n",
       "\n",
       "    .dataframe tbody tr th {\n",
       "        vertical-align: top;\n",
       "    }\n",
       "\n",
       "    .dataframe thead th {\n",
       "        text-align: right;\n",
       "    }\n",
       "</style>\n",
       "<table border=\"1\" class=\"dataframe\">\n",
       "  <thead>\n",
       "    <tr style=\"text-align: right;\">\n",
       "      <th></th>\n",
       "      <th>log_nu</th>\n",
       "      <th>ufe_sg</th>\n",
       "      <th>loc_nu</th>\n",
       "      <th>bai_nu_ini</th>\n",
       "      <th>bai_nu_fim</th>\n",
       "      <th>log_no</th>\n",
       "      <th>log_complemento</th>\n",
       "      <th>cep</th>\n",
       "      <th>tlo_tx</th>\n",
       "      <th>log_sta_tlo</th>\n",
       "      <th>log_no_abrev</th>\n",
       "    </tr>\n",
       "  </thead>\n",
       "  <tbody>\n",
       "    <tr>\n",
       "      <th>245061</th>\n",
       "      <td>620471</td>\n",
       "      <td>SP</td>\n",
       "      <td>9668</td>\n",
       "      <td>26005</td>\n",
       "      <td>-1</td>\n",
       "      <td>Pamplona</td>\n",
       "      <td>- até 599 - lado ímpar</td>\n",
       "      <td>01405100</td>\n",
       "      <td>Rua</td>\n",
       "      <td>S</td>\n",
       "      <td>R Pamplona</td>\n",
       "    </tr>\n",
       "    <tr>\n",
       "      <th>290220</th>\n",
       "      <td>859442</td>\n",
       "      <td>SP</td>\n",
       "      <td>9668</td>\n",
       "      <td>26005</td>\n",
       "      <td>-1</td>\n",
       "      <td>Pamplona</td>\n",
       "      <td>- de 1261 ao fim - lado ímpar</td>\n",
       "      <td>01405003</td>\n",
       "      <td>Rua</td>\n",
       "      <td>S</td>\n",
       "      <td>R Pamplona</td>\n",
       "    </tr>\n",
       "  </tbody>\n",
       "</table>\n",
       "</div>"
      ],
      "text/plain": [
       "        log_nu ufe_sg  loc_nu  bai_nu_ini  bai_nu_fim    log_no  \\\n",
       "245061  620471     SP    9668       26005          -1  Pamplona   \n",
       "290220  859442     SP    9668       26005          -1  Pamplona   \n",
       "\n",
       "                      log_complemento       cep tlo_tx log_sta_tlo  \\\n",
       "245061         - até 599 - lado ímpar  01405100    Rua           S   \n",
       "290220  - de 1261 ao fim - lado ímpar  01405003    Rua           S   \n",
       "\n",
       "       log_no_abrev  \n",
       "245061   R Pamplona  \n",
       "290220   R Pamplona  "
      ]
     },
     "metadata": {},
     "output_type": "display_data"
    }
   ],
   "source": [
    "display(final_curated_matches[final_curated_matches['cep']==1405100])\n",
    "display(data[data['cep'].isin(['01405100', '01405003'])])"
   ]
  },
  {
   "cell_type": "markdown",
   "id": "01c985a5",
   "metadata": {},
   "source": [
    "---\n",
    "\n",
    "## 7. Create data for `susep.geo_info_enhanced`\n",
    "\n",
    "Create a second table `susep.geo_info_enhanced` where we introduce the mapped rows. First, clean the mapped table"
   ]
  },
  {
   "cell_type": "code",
   "execution_count": 21,
   "id": "45749961",
   "metadata": {},
   "outputs": [
    {
     "data": {
      "text/html": [
       "<div>\n",
       "<style scoped>\n",
       "    .dataframe tbody tr th:only-of-type {\n",
       "        vertical-align: middle;\n",
       "    }\n",
       "\n",
       "    .dataframe tbody tr th {\n",
       "        vertical-align: top;\n",
       "    }\n",
       "\n",
       "    .dataframe thead th {\n",
       "        text-align: right;\n",
       "    }\n",
       "</style>\n",
       "<table border=\"1\" class=\"dataframe\">\n",
       "  <thead>\n",
       "    <tr style=\"text-align: right;\">\n",
       "      <th></th>\n",
       "      <th>cep</th>\n",
       "      <th>mapped_from</th>\n",
       "      <th>mapped_abs_distance</th>\n",
       "      <th>mapped_match_in_5_digit_prefix</th>\n",
       "      <th>assigned_in_correios_data</th>\n",
       "      <th>mapped_same_loc_nu</th>\n",
       "      <th>mapped_same_bai_nu_ini</th>\n",
       "      <th>mapped_same_log_no</th>\n",
       "    </tr>\n",
       "  </thead>\n",
       "  <tbody>\n",
       "    <tr>\n",
       "      <th>3</th>\n",
       "      <td>3912140</td>\n",
       "      <td>3912130</td>\n",
       "      <td>10</td>\n",
       "      <td>True</td>\n",
       "      <td>True</td>\n",
       "      <td>True</td>\n",
       "      <td>True</td>\n",
       "      <td>False</td>\n",
       "    </tr>\n",
       "    <tr>\n",
       "      <th>4</th>\n",
       "      <td>13337330</td>\n",
       "      <td>13337320</td>\n",
       "      <td>10</td>\n",
       "      <td>True</td>\n",
       "      <td>True</td>\n",
       "      <td>True</td>\n",
       "      <td>True</td>\n",
       "      <td>False</td>\n",
       "    </tr>\n",
       "    <tr>\n",
       "      <th>5</th>\n",
       "      <td>13733125</td>\n",
       "      <td>13733120</td>\n",
       "      <td>5</td>\n",
       "      <td>True</td>\n",
       "      <td>True</td>\n",
       "      <td>True</td>\n",
       "      <td>True</td>\n",
       "      <td>False</td>\n",
       "    </tr>\n",
       "    <tr>\n",
       "      <th>7</th>\n",
       "      <td>2464010</td>\n",
       "      <td>2464005</td>\n",
       "      <td>5</td>\n",
       "      <td>True</td>\n",
       "      <td>True</td>\n",
       "      <td>True</td>\n",
       "      <td>True</td>\n",
       "      <td>False</td>\n",
       "    </tr>\n",
       "    <tr>\n",
       "      <th>8</th>\n",
       "      <td>13450384</td>\n",
       "      <td>13450383</td>\n",
       "      <td>1</td>\n",
       "      <td>True</td>\n",
       "      <td>True</td>\n",
       "      <td>True</td>\n",
       "      <td>True</td>\n",
       "      <td>False</td>\n",
       "    </tr>\n",
       "  </tbody>\n",
       "</table>\n",
       "</div>"
      ],
      "text/plain": [
       "        cep  mapped_from  mapped_abs_distance  mapped_match_in_5_digit_prefix  \\\n",
       "3   3912140      3912130                   10                            True   \n",
       "4  13337330     13337320                   10                            True   \n",
       "5  13733125     13733120                    5                            True   \n",
       "7   2464010      2464005                    5                            True   \n",
       "8  13450384     13450383                    1                            True   \n",
       "\n",
       "   assigned_in_correios_data  mapped_same_loc_nu  mapped_same_bai_nu_ini  \\\n",
       "3                       True                True                    True   \n",
       "4                       True                True                    True   \n",
       "5                       True                True                    True   \n",
       "7                       True                True                    True   \n",
       "8                       True                True                    True   \n",
       "\n",
       "   mapped_same_log_no  \n",
       "3               False  \n",
       "4               False  \n",
       "5               False  \n",
       "7               False  \n",
       "8               False  "
      ]
     },
     "metadata": {},
     "output_type": "display_data"
    },
    {
     "data": {
      "text/plain": [
       "(56151, 8)"
      ]
     },
     "execution_count": 21,
     "metadata": {},
     "output_type": "execute_result"
    }
   ],
   "source": [
    "final_curated_matches = final_curated_matches.rename(columns={'closest_in_geo_info': 'mapped_from',\n",
    "                                                              'abs_distance': 'mapped_abs_distance',\n",
    "                                                              'match_in_5_digit_prefix': 'mapped_match_in_5_digit_prefix',\n",
    "                                                              'same_loc_nu': 'mapped_same_loc_nu',\n",
    "                                                              'same_bai_nu_ini': 'mapped_same_bai_nu_ini',\n",
    "                                                              'same_log_no': 'mapped_same_log_no'})\n",
    "\n",
    "display(final_curated_matches.head())\n",
    "final_curated_matches.shape\n",
    "\n"
   ]
  },
  {
   "cell_type": "markdown",
   "id": "ce416bd1",
   "metadata": {},
   "source": [
    "Zero padding to 8 digits and str"
   ]
  },
  {
   "cell_type": "code",
   "execution_count": 22,
   "id": "7bda1378",
   "metadata": {},
   "outputs": [
    {
     "data": {
      "text/plain": [
       "8    32044\n",
       "7    24107\n",
       "Name: cep, dtype: int64"
      ]
     },
     "metadata": {},
     "output_type": "display_data"
    },
    {
     "data": {
      "text/plain": [
       "8    56151\n",
       "Name: cep, dtype: int64"
      ]
     },
     "metadata": {},
     "output_type": "display_data"
    },
    {
     "data": {
      "text/plain": [
       "8    32044\n",
       "7    24107\n",
       "Name: mapped_from, dtype: int64"
      ]
     },
     "metadata": {},
     "output_type": "display_data"
    },
    {
     "data": {
      "text/plain": [
       "8    56151\n",
       "Name: mapped_from, dtype: int64"
      ]
     },
     "metadata": {},
     "output_type": "display_data"
    }
   ],
   "source": [
    "display(final_curated_matches.cep.astype(str).apply(lambda x: len(x)).value_counts())\n",
    "final_curated_matches[\"cep\"] = final_curated_matches[\"cep\"].apply(lambda x: str(x) if len(str(x))==8 else \"0\"+str(x))\n",
    "display(final_curated_matches.cep.astype(str).apply(lambda x: len(x)).value_counts())\n",
    "\n",
    "display(final_curated_matches.mapped_from.astype(str).apply(lambda x: len(x)).value_counts())\n",
    "final_curated_matches[\"mapped_from\"] = final_curated_matches[\"mapped_from\"].apply(lambda x: str(x) if len(str(x))==8 else \"0\"+str(x))\n",
    "display(final_curated_matches.mapped_from.astype(str).apply(lambda x: len(x)).value_counts())\n"
   ]
  },
  {
   "cell_type": "markdown",
   "id": "e81a1a55",
   "metadata": {},
   "source": [
    "Export and upload to `s3://postgres-staging-data/edne/cep_code_imputations.csv`"
   ]
  },
  {
   "cell_type": "code",
   "execution_count": 23,
   "id": "b4d5abdd",
   "metadata": {},
   "outputs": [],
   "source": [
    "final_curated_matches.to_csv('cep_code_imputations.csv', index=False)"
   ]
  },
  {
   "cell_type": "markdown",
   "id": "4c0604f7",
   "metadata": {},
   "source": [
    "Reload geo_info"
   ]
  },
  {
   "cell_type": "code",
   "execution_count": 24,
   "id": "b2642ed5",
   "metadata": {},
   "outputs": [
    {
     "data": {
      "text/html": [
       "<div>\n",
       "<style scoped>\n",
       "    .dataframe tbody tr th:only-of-type {\n",
       "        vertical-align: middle;\n",
       "    }\n",
       "\n",
       "    .dataframe tbody tr th {\n",
       "        vertical-align: top;\n",
       "    }\n",
       "\n",
       "    .dataframe thead th {\n",
       "        text-align: right;\n",
       "    }\n",
       "</style>\n",
       "<table border=\"1\" class=\"dataframe\">\n",
       "  <thead>\n",
       "    <tr style=\"text-align: right;\">\n",
       "      <th></th>\n",
       "      <th>Id</th>\n",
       "      <th>CEP</th>\n",
       "      <th>code_tract</th>\n",
       "      <th>address_count</th>\n",
       "      <th>lat</th>\n",
       "      <th>lon</th>\n",
       "      <th>reg_susep</th>\n",
       "      <th>cep_inicial</th>\n",
       "      <th>cidade</th>\n",
       "      <th>cep_final</th>\n",
       "      <th>cod_reg</th>\n",
       "      <th>reg_decirc</th>\n",
       "      <th>cep_ini</th>\n",
       "      <th>cep_fim</th>\n",
       "    </tr>\n",
       "  </thead>\n",
       "  <tbody>\n",
       "    <tr>\n",
       "      <th>0</th>\n",
       "      <td>1</td>\n",
       "      <td>76954000</td>\n",
       "      <td>110001520000004</td>\n",
       "      <td>12060</td>\n",
       "      <td>-12.047040</td>\n",
       "      <td>-62.051736</td>\n",
       "      <td>39.0</td>\n",
       "      <td>76740</td>\n",
       "      <td>FAINA</td>\n",
       "      <td>76999</td>\n",
       "      <td>48.0</td>\n",
       "      <td>DEMAIS REGI�ES DE GOI�S</td>\n",
       "      <td>76740</td>\n",
       "      <td>76999</td>\n",
       "    </tr>\n",
       "    <tr>\n",
       "      <th>1</th>\n",
       "      <td>777</td>\n",
       "      <td>76873868</td>\n",
       "      <td>110002305000060</td>\n",
       "      <td>11</td>\n",
       "      <td>-9.900819</td>\n",
       "      <td>-63.026831</td>\n",
       "      <td>39.0</td>\n",
       "      <td>76740</td>\n",
       "      <td>FAINA</td>\n",
       "      <td>76999</td>\n",
       "      <td>48.0</td>\n",
       "      <td>DEMAIS REGI�ES DE GOI�S</td>\n",
       "      <td>76740</td>\n",
       "      <td>76999</td>\n",
       "    </tr>\n",
       "  </tbody>\n",
       "</table>\n",
       "</div>"
      ],
      "text/plain": [
       "    Id       CEP       code_tract  address_count        lat        lon  \\\n",
       "0    1  76954000  110001520000004          12060 -12.047040 -62.051736   \n",
       "1  777  76873868  110002305000060             11  -9.900819 -63.026831   \n",
       "\n",
       "   reg_susep cep_inicial cidade cep_final  cod_reg               reg_decirc  \\\n",
       "0       39.0       76740  FAINA     76999     48.0  DEMAIS REGI�ES DE GOI�S   \n",
       "1       39.0       76740  FAINA     76999     48.0  DEMAIS REGI�ES DE GOI�S   \n",
       "\n",
       "  cep_ini cep_fim  \n",
       "0   76740   76999  \n",
       "1   76740   76999  "
      ]
     },
     "execution_count": 24,
     "metadata": {},
     "output_type": "execute_result"
    }
   ],
   "source": [
    "cur.execute(\"SELECT * FROM susep.geo_info\")\n",
    "geo_info = pd.DataFrame(cur.fetchall(), columns=[desc[0] for desc in cur.description])\n",
    "geo_info.head(2)\n"
   ]
  },
  {
   "cell_type": "markdown",
   "id": "e93903e5",
   "metadata": {},
   "source": [
    "Rebuild `susep.geo_info` by appending the new data"
   ]
  },
  {
   "cell_type": "code",
   "execution_count": 25,
   "id": "8bbb0c5b",
   "metadata": {},
   "outputs": [
    {
     "name": "stderr",
     "output_type": "stream",
     "text": [
      "56151it [39:56, 23.43it/s]\n"
     ]
    },
    {
     "data": {
      "text/html": [
       "<div>\n",
       "<style scoped>\n",
       "    .dataframe tbody tr th:only-of-type {\n",
       "        vertical-align: middle;\n",
       "    }\n",
       "\n",
       "    .dataframe tbody tr th {\n",
       "        vertical-align: top;\n",
       "    }\n",
       "\n",
       "    .dataframe thead th {\n",
       "        text-align: right;\n",
       "    }\n",
       "</style>\n",
       "<table border=\"1\" class=\"dataframe\">\n",
       "  <thead>\n",
       "    <tr style=\"text-align: right;\">\n",
       "      <th></th>\n",
       "      <th>Id</th>\n",
       "      <th>CEP</th>\n",
       "      <th>code_tract</th>\n",
       "      <th>address_count</th>\n",
       "      <th>lat</th>\n",
       "      <th>lon</th>\n",
       "      <th>reg_susep</th>\n",
       "      <th>cep_inicial</th>\n",
       "      <th>cidade</th>\n",
       "      <th>cep_final</th>\n",
       "      <th>...</th>\n",
       "      <th>reg_decirc</th>\n",
       "      <th>cep_ini</th>\n",
       "      <th>cep_fim</th>\n",
       "      <th>mapped_from</th>\n",
       "      <th>mapped_abs_distance</th>\n",
       "      <th>mapped_match_in_5_digit_prefix</th>\n",
       "      <th>assigned_in_correios_data</th>\n",
       "      <th>mapped_same_loc_nu</th>\n",
       "      <th>mapped_same_bai_nu_ini</th>\n",
       "      <th>mapped_same_log_no</th>\n",
       "    </tr>\n",
       "  </thead>\n",
       "  <tbody>\n",
       "    <tr>\n",
       "      <th>334800</th>\n",
       "      <td>354569</td>\n",
       "      <td>03912140</td>\n",
       "      <td>355030804000101</td>\n",
       "      <td>25</td>\n",
       "      <td>-23.582878</td>\n",
       "      <td>-46.521239</td>\n",
       "      <td>11.0</td>\n",
       "      <td>1000</td>\n",
       "      <td>S�O PAULO</td>\n",
       "      <td>5999</td>\n",
       "      <td>...</td>\n",
       "      <td>METROPOLITANA DE S�O PAULO</td>\n",
       "      <td>1000</td>\n",
       "      <td>5999</td>\n",
       "      <td>03912130</td>\n",
       "      <td>10</td>\n",
       "      <td>True</td>\n",
       "      <td>True</td>\n",
       "      <td>True</td>\n",
       "      <td>True</td>\n",
       "      <td>False</td>\n",
       "    </tr>\n",
       "    <tr>\n",
       "      <th>268007</th>\n",
       "      <td>284722</td>\n",
       "      <td>13337330</td>\n",
       "      <td>352050905000218</td>\n",
       "      <td>13</td>\n",
       "      <td>-23.061700</td>\n",
       "      <td>-47.139589</td>\n",
       "      <td>12.0</td>\n",
       "      <td>13330</td>\n",
       "      <td>INDAIATUBA</td>\n",
       "      <td>13349</td>\n",
       "      <td>...</td>\n",
       "      <td>DEMAIS CAMPINAS 2</td>\n",
       "      <td>13330</td>\n",
       "      <td>13349</td>\n",
       "      <td>13337320</td>\n",
       "      <td>10</td>\n",
       "      <td>True</td>\n",
       "      <td>True</td>\n",
       "      <td>True</td>\n",
       "      <td>True</td>\n",
       "      <td>False</td>\n",
       "    </tr>\n",
       "    <tr>\n",
       "      <th>302515</th>\n",
       "      <td>310667</td>\n",
       "      <td>13733125</td>\n",
       "      <td>353050805000067</td>\n",
       "      <td>28</td>\n",
       "      <td>-21.457893</td>\n",
       "      <td>-47.005856</td>\n",
       "      <td>13.0</td>\n",
       "      <td>13730</td>\n",
       "      <td>MOCOCA</td>\n",
       "      <td>13759</td>\n",
       "      <td>...</td>\n",
       "      <td>SOROCABA - CIDADE E REGI�O</td>\n",
       "      <td>13730</td>\n",
       "      <td>13759</td>\n",
       "      <td>13733120</td>\n",
       "      <td>5</td>\n",
       "      <td>True</td>\n",
       "      <td>True</td>\n",
       "      <td>True</td>\n",
       "      <td>True</td>\n",
       "      <td>False</td>\n",
       "    </tr>\n",
       "    <tr>\n",
       "      <th>369419</th>\n",
       "      <td>384106</td>\n",
       "      <td>02464010</td>\n",
       "      <td>355030870000130</td>\n",
       "      <td>12</td>\n",
       "      <td>-23.495535</td>\n",
       "      <td>-46.641290</td>\n",
       "      <td>11.0</td>\n",
       "      <td>1000</td>\n",
       "      <td>S�O PAULO</td>\n",
       "      <td>5999</td>\n",
       "      <td>...</td>\n",
       "      <td>METROPOLITANA DE S�O PAULO</td>\n",
       "      <td>1000</td>\n",
       "      <td>5999</td>\n",
       "      <td>02464005</td>\n",
       "      <td>5</td>\n",
       "      <td>True</td>\n",
       "      <td>True</td>\n",
       "      <td>True</td>\n",
       "      <td>True</td>\n",
       "      <td>False</td>\n",
       "    </tr>\n",
       "    <tr>\n",
       "      <th>339205</th>\n",
       "      <td>333960</td>\n",
       "      <td>13450384</td>\n",
       "      <td>354580305000016</td>\n",
       "      <td>17</td>\n",
       "      <td>-22.764350</td>\n",
       "      <td>-47.415721</td>\n",
       "      <td>13.0</td>\n",
       "      <td>13450</td>\n",
       "      <td>SANTA BARBARA D�OESTE</td>\n",
       "      <td>13459</td>\n",
       "      <td>...</td>\n",
       "      <td>SOROCABA - CIDADE E REGI�O</td>\n",
       "      <td>13450</td>\n",
       "      <td>13459</td>\n",
       "      <td>13450383</td>\n",
       "      <td>1</td>\n",
       "      <td>True</td>\n",
       "      <td>True</td>\n",
       "      <td>True</td>\n",
       "      <td>True</td>\n",
       "      <td>False</td>\n",
       "    </tr>\n",
       "  </tbody>\n",
       "</table>\n",
       "<p>5 rows × 21 columns</p>\n",
       "</div>"
      ],
      "text/plain": [
       "            Id       CEP       code_tract  address_count        lat  \\\n",
       "334800  354569  03912140  355030804000101             25 -23.582878   \n",
       "268007  284722  13337330  352050905000218             13 -23.061700   \n",
       "302515  310667  13733125  353050805000067             28 -21.457893   \n",
       "369419  384106  02464010  355030870000130             12 -23.495535   \n",
       "339205  333960  13450384  354580305000016             17 -22.764350   \n",
       "\n",
       "              lon  reg_susep cep_inicial                 cidade cep_final  \\\n",
       "334800 -46.521239       11.0        1000              S�O PAULO      5999   \n",
       "268007 -47.139589       12.0       13330             INDAIATUBA     13349   \n",
       "302515 -47.005856       13.0       13730                 MOCOCA     13759   \n",
       "369419 -46.641290       11.0        1000              S�O PAULO      5999   \n",
       "339205 -47.415721       13.0       13450  SANTA BARBARA D�OESTE     13459   \n",
       "\n",
       "        ...                  reg_decirc cep_ini cep_fim mapped_from  \\\n",
       "334800  ...  METROPOLITANA DE S�O PAULO    1000    5999    03912130   \n",
       "268007  ...           DEMAIS CAMPINAS 2   13330   13349    13337320   \n",
       "302515  ...  SOROCABA - CIDADE E REGI�O   13730   13759    13733120   \n",
       "369419  ...  METROPOLITANA DE S�O PAULO    1000    5999    02464005   \n",
       "339205  ...  SOROCABA - CIDADE E REGI�O   13450   13459    13450383   \n",
       "\n",
       "       mapped_abs_distance  mapped_match_in_5_digit_prefix  \\\n",
       "334800                  10                            True   \n",
       "268007                  10                            True   \n",
       "302515                   5                            True   \n",
       "369419                   5                            True   \n",
       "339205                   1                            True   \n",
       "\n",
       "        assigned_in_correios_data  mapped_same_loc_nu  mapped_same_bai_nu_ini  \\\n",
       "334800                       True                True                    True   \n",
       "268007                       True                True                    True   \n",
       "302515                       True                True                    True   \n",
       "369419                       True                True                    True   \n",
       "339205                       True                True                    True   \n",
       "\n",
       "        mapped_same_log_no  \n",
       "334800               False  \n",
       "268007               False  \n",
       "302515               False  \n",
       "369419               False  \n",
       "339205               False  \n",
       "\n",
       "[5 rows x 21 columns]"
      ]
     },
     "execution_count": 25,
     "metadata": {},
     "output_type": "execute_result"
    }
   ],
   "source": [
    "# Insert columns with missing data for existing records\n",
    "for column in ['mapped_from',\n",
    "               'mapped_abs_distance',\n",
    "               'mapped_match_in_5_digit_prefix',\n",
    "               'assigned_in_correios_data',\n",
    "               'mapped_same_loc_nu',\n",
    "               'mapped_same_bai_nu_ini',\n",
    "               'mapped_same_log_no']:\n",
    "    geo_info[column]=np.nan\n",
    "\n",
    "\n",
    "# Create new df\n",
    "new_data = []\n",
    "for i,row in tqdm(final_curated_matches.iterrows()):\n",
    "    \n",
    "    # Collect a copy of the mapped row\n",
    "    mapped_row = geo_info[geo_info['CEP']==row['mapped_from']].copy().iloc[0]\n",
    "    \n",
    "    # Override its info\n",
    "    mapped_row['CEP'] = row['cep']\n",
    "    for field in row.index[1:]:\n",
    "        mapped_row[field]=row[field]\n",
    "\n",
    "    # Add to new data\n",
    "    new_data.append(mapped_row)\n",
    "    \n",
    "new_data = pd.DataFrame(new_data)\n",
    "new_data.head()\n"
   ]
  },
  {
   "cell_type": "markdown",
   "id": "9c14d900",
   "metadata": {},
   "source": [
    "Append the new rows to the dataset"
   ]
  },
  {
   "cell_type": "code",
   "execution_count": 26,
   "id": "480d47c5",
   "metadata": {},
   "outputs": [
    {
     "data": {
      "text/html": [
       "<div>\n",
       "<style scoped>\n",
       "    .dataframe tbody tr th:only-of-type {\n",
       "        vertical-align: middle;\n",
       "    }\n",
       "\n",
       "    .dataframe tbody tr th {\n",
       "        vertical-align: top;\n",
       "    }\n",
       "\n",
       "    .dataframe thead th {\n",
       "        text-align: right;\n",
       "    }\n",
       "</style>\n",
       "<table border=\"1\" class=\"dataframe\">\n",
       "  <thead>\n",
       "    <tr style=\"text-align: right;\">\n",
       "      <th></th>\n",
       "      <th>Id</th>\n",
       "      <th>CEP</th>\n",
       "      <th>code_tract</th>\n",
       "      <th>address_count</th>\n",
       "      <th>lat</th>\n",
       "      <th>lon</th>\n",
       "      <th>reg_susep</th>\n",
       "      <th>cep_inicial</th>\n",
       "      <th>cidade</th>\n",
       "      <th>cep_final</th>\n",
       "      <th>...</th>\n",
       "      <th>reg_decirc</th>\n",
       "      <th>cep_ini</th>\n",
       "      <th>cep_fim</th>\n",
       "      <th>mapped_from</th>\n",
       "      <th>mapped_abs_distance</th>\n",
       "      <th>mapped_match_in_5_digit_prefix</th>\n",
       "      <th>assigned_in_correios_data</th>\n",
       "      <th>mapped_same_loc_nu</th>\n",
       "      <th>mapped_same_bai_nu_ini</th>\n",
       "      <th>mapped_same_log_no</th>\n",
       "    </tr>\n",
       "  </thead>\n",
       "  <tbody>\n",
       "    <tr>\n",
       "      <th>0</th>\n",
       "      <td>1</td>\n",
       "      <td>76954000</td>\n",
       "      <td>110001520000004</td>\n",
       "      <td>12060</td>\n",
       "      <td>-12.047040</td>\n",
       "      <td>-62.051736</td>\n",
       "      <td>39.0</td>\n",
       "      <td>76740</td>\n",
       "      <td>FAINA</td>\n",
       "      <td>76999</td>\n",
       "      <td>...</td>\n",
       "      <td>DEMAIS REGI�ES DE GOI�S</td>\n",
       "      <td>76740</td>\n",
       "      <td>76999</td>\n",
       "      <td>NaN</td>\n",
       "      <td>NaN</td>\n",
       "      <td>NaN</td>\n",
       "      <td>NaN</td>\n",
       "      <td>NaN</td>\n",
       "      <td>NaN</td>\n",
       "      <td>NaN</td>\n",
       "    </tr>\n",
       "    <tr>\n",
       "      <th>1</th>\n",
       "      <td>777</td>\n",
       "      <td>76873868</td>\n",
       "      <td>110002305000060</td>\n",
       "      <td>11</td>\n",
       "      <td>-9.900819</td>\n",
       "      <td>-63.026831</td>\n",
       "      <td>39.0</td>\n",
       "      <td>76740</td>\n",
       "      <td>FAINA</td>\n",
       "      <td>76999</td>\n",
       "      <td>...</td>\n",
       "      <td>DEMAIS REGI�ES DE GOI�S</td>\n",
       "      <td>76740</td>\n",
       "      <td>76999</td>\n",
       "      <td>NaN</td>\n",
       "      <td>NaN</td>\n",
       "      <td>NaN</td>\n",
       "      <td>NaN</td>\n",
       "      <td>NaN</td>\n",
       "      <td>NaN</td>\n",
       "      <td>NaN</td>\n",
       "    </tr>\n",
       "    <tr>\n",
       "      <th>2</th>\n",
       "      <td>2</td>\n",
       "      <td>76955000</td>\n",
       "      <td>110007205000011</td>\n",
       "      <td>76</td>\n",
       "      <td>-12.983041</td>\n",
       "      <td>-60.952011</td>\n",
       "      <td>39.0</td>\n",
       "      <td>76740</td>\n",
       "      <td>FAINA</td>\n",
       "      <td>76999</td>\n",
       "      <td>...</td>\n",
       "      <td>DEMAIS REGI�ES DE GOI�S</td>\n",
       "      <td>76740</td>\n",
       "      <td>76999</td>\n",
       "      <td>NaN</td>\n",
       "      <td>NaN</td>\n",
       "      <td>NaN</td>\n",
       "      <td>NaN</td>\n",
       "      <td>NaN</td>\n",
       "      <td>NaN</td>\n",
       "      <td>NaN</td>\n",
       "    </tr>\n",
       "    <tr>\n",
       "      <th>3</th>\n",
       "      <td>1553</td>\n",
       "      <td>76965748</td>\n",
       "      <td>110004905000051</td>\n",
       "      <td>8</td>\n",
       "      <td>-11.436342</td>\n",
       "      <td>-61.436585</td>\n",
       "      <td>39.0</td>\n",
       "      <td>76740</td>\n",
       "      <td>FAINA</td>\n",
       "      <td>76999</td>\n",
       "      <td>...</td>\n",
       "      <td>DEMAIS REGI�ES DE GOI�S</td>\n",
       "      <td>76740</td>\n",
       "      <td>76999</td>\n",
       "      <td>NaN</td>\n",
       "      <td>NaN</td>\n",
       "      <td>NaN</td>\n",
       "      <td>NaN</td>\n",
       "      <td>NaN</td>\n",
       "      <td>NaN</td>\n",
       "      <td>NaN</td>\n",
       "    </tr>\n",
       "    <tr>\n",
       "      <th>4</th>\n",
       "      <td>3</td>\n",
       "      <td>76594000</td>\n",
       "      <td>110001505000018</td>\n",
       "      <td>9</td>\n",
       "      <td>-11.928932</td>\n",
       "      <td>-61.990097</td>\n",
       "      <td>39.0</td>\n",
       "      <td>76590</td>\n",
       "      <td>SAO MIGUEL DO ARAGUAIA</td>\n",
       "      <td>76599</td>\n",
       "      <td>...</td>\n",
       "      <td>DEMAIS REGI�ES DE GOI�S</td>\n",
       "      <td>76590</td>\n",
       "      <td>76599</td>\n",
       "      <td>NaN</td>\n",
       "      <td>NaN</td>\n",
       "      <td>NaN</td>\n",
       "      <td>NaN</td>\n",
       "      <td>NaN</td>\n",
       "      <td>NaN</td>\n",
       "      <td>NaN</td>\n",
       "    </tr>\n",
       "  </tbody>\n",
       "</table>\n",
       "<p>5 rows × 21 columns</p>\n",
       "</div>"
      ],
      "text/plain": [
       "     Id       CEP       code_tract  address_count        lat        lon  \\\n",
       "0     1  76954000  110001520000004          12060 -12.047040 -62.051736   \n",
       "1   777  76873868  110002305000060             11  -9.900819 -63.026831   \n",
       "2     2  76955000  110007205000011             76 -12.983041 -60.952011   \n",
       "3  1553  76965748  110004905000051              8 -11.436342 -61.436585   \n",
       "4     3  76594000  110001505000018              9 -11.928932 -61.990097   \n",
       "\n",
       "   reg_susep cep_inicial                  cidade cep_final  ...  \\\n",
       "0       39.0       76740                   FAINA     76999  ...   \n",
       "1       39.0       76740                   FAINA     76999  ...   \n",
       "2       39.0       76740                   FAINA     76999  ...   \n",
       "3       39.0       76740                   FAINA     76999  ...   \n",
       "4       39.0       76590  SAO MIGUEL DO ARAGUAIA     76599  ...   \n",
       "\n",
       "                reg_decirc cep_ini cep_fim mapped_from mapped_abs_distance  \\\n",
       "0  DEMAIS REGI�ES DE GOI�S   76740   76999         NaN                 NaN   \n",
       "1  DEMAIS REGI�ES DE GOI�S   76740   76999         NaN                 NaN   \n",
       "2  DEMAIS REGI�ES DE GOI�S   76740   76999         NaN                 NaN   \n",
       "3  DEMAIS REGI�ES DE GOI�S   76740   76999         NaN                 NaN   \n",
       "4  DEMAIS REGI�ES DE GOI�S   76590   76599         NaN                 NaN   \n",
       "\n",
       "   mapped_match_in_5_digit_prefix assigned_in_correios_data  \\\n",
       "0                             NaN                       NaN   \n",
       "1                             NaN                       NaN   \n",
       "2                             NaN                       NaN   \n",
       "3                             NaN                       NaN   \n",
       "4                             NaN                       NaN   \n",
       "\n",
       "  mapped_same_loc_nu mapped_same_bai_nu_ini mapped_same_log_no  \n",
       "0                NaN                    NaN                NaN  \n",
       "1                NaN                    NaN                NaN  \n",
       "2                NaN                    NaN                NaN  \n",
       "3                NaN                    NaN                NaN  \n",
       "4                NaN                    NaN                NaN  \n",
       "\n",
       "[5 rows x 21 columns]"
      ]
     },
     "execution_count": 26,
     "metadata": {},
     "output_type": "execute_result"
    }
   ],
   "source": [
    "final_data = pd.concat([geo_info, new_data], axis=0).reset_index().drop(columns='index')\n",
    "final_data.head()"
   ]
  },
  {
   "cell_type": "code",
   "execution_count": 27,
   "id": "8e64c84d",
   "metadata": {},
   "outputs": [
    {
     "data": {
      "text/plain": [
       "56151"
      ]
     },
     "execution_count": 27,
     "metadata": {},
     "output_type": "execute_result"
    }
   ],
   "source": [
    "final_data.mapped_same_log_no.notna().sum()"
   ]
  },
  {
   "cell_type": "markdown",
   "id": "b4558c05",
   "metadata": {},
   "source": [
    "Export to csv, upload to `s3://postgres-staging-data/edne/geo_info_enhanced.csv`"
   ]
  },
  {
   "cell_type": "code",
   "execution_count": 28,
   "id": "988208ec",
   "metadata": {},
   "outputs": [],
   "source": [
    "final_data.to_csv('geo_info_enhanced.csv', index=False)"
   ]
  },
  {
   "cell_type": "markdown",
   "id": "8050eb42",
   "metadata": {},
   "source": [
    "---\n",
    "\n",
    "## 8. Create table and insert data to `susep.geo_info_enhanced`\n",
    "\n",
    "Create a second table `susep.geo_info_enhanced` where we introduce the mapped rows. First, copy the table"
   ]
  },
  {
   "cell_type": "code",
   "execution_count": 30,
   "id": "bf13c5ce",
   "metadata": {},
   "outputs": [],
   "source": [
    "cur.execute(\"CREATE TABLE susep.geo_info_enhanced AS SELECT * FROM susep.geo_info\")\n",
    "conn.commit()\n"
   ]
  },
  {
   "cell_type": "markdown",
   "id": "6c30d217",
   "metadata": {},
   "source": [
    "Then insert new, empty columns as appearing in the enriched data"
   ]
  },
  {
   "cell_type": "code",
   "execution_count": 31,
   "id": "9916efd2",
   "metadata": {},
   "outputs": [],
   "source": [
    "cur.execute(\"\"\"\n",
    "    ALTER TABLE susep.geo_info_enhanced\n",
    "        ADD column mapped_from VARCHAR(8),\n",
    "        ADD column mapped_abs_distance INTEGER,\n",
    "        ADD column mapped_match_in_5_digit_prefix BOOL,\n",
    "        ADD column assigned_in_correios_data BOOL,\n",
    "        ADD column mapped_same_loc_nu BOOL,\n",
    "        ADD column mapped_same_bai_nu_ini BOOL,\n",
    "        ADD column mapped_same_log_no BOOL;\n",
    "    \"\"\")\n",
    "conn.commit()\n"
   ]
  },
  {
   "cell_type": "markdown",
   "id": "1a0b6c2d",
   "metadata": {},
   "source": [
    "Finally insert the records that were not already there"
   ]
  },
  {
   "cell_type": "code",
   "execution_count": 32,
   "id": "f777014e",
   "metadata": {},
   "outputs": [
    {
     "name": "stderr",
     "output_type": "stream",
     "text": [
      "56151it [2:00:47,  7.75it/s]\n"
     ]
    }
   ],
   "source": [
    "# Select record subset and replace np.nan\n",
    "data_to_insert = final_data[final_data.mapped_same_log_no.notna()].copy()\n",
    "data_to_insert = data_to_insert.replace([np.nan], [None])\n",
    "\n",
    "# Insert the records\n",
    "for i, record in tqdm(data_to_insert.iterrows()):\n",
    "    insert_statement = f\"\"\"INSERT INTO susep.geo_info_enhanced (\"Id\", \"CEP\", {', '.join(record.index[2:])}) VALUES ({', '.join(['%s']*len(record))})\"\"\"\n",
    "    cur.execute(insert_statement,\n",
    "                tuple([v for k,v in record.items()])\n",
    "               )\n",
    "    \n",
    "conn.commit()\n"
   ]
  }
 ],
 "metadata": {
  "kernelspec": {
   "display_name": "Python 3 (ipykernel)",
   "language": "python",
   "name": "python3"
  },
  "language_info": {
   "codemirror_mode": {
    "name": "ipython",
    "version": 3
   },
   "file_extension": ".py",
   "mimetype": "text/x-python",
   "name": "python",
   "nbconvert_exporter": "python",
   "pygments_lexer": "ipython3",
   "version": "3.9.7"
  }
 },
 "nbformat": 4,
 "nbformat_minor": 5
}
