{
 "cells": [
  {
   "cell_type": "code",
   "execution_count": 1,
   "id": "c9cef523",
   "metadata": {},
   "outputs": [],
   "source": [
    "import pandas as pd\n",
    "import psycopg2, os\n",
    "import matplotlib.pyplot as plt\n",
    "\n",
    "# Establish connection and create its cursor\n",
    "try: \n",
    "    conn = psycopg2.connect(f\"host={os.environ['AURORA_POSTGRES_HOST']} dbname={os.environ['AURORA_POSTGRES_DATABASE']} user={os.environ['AURORA_POSTGRES_USERNAME']} password={os.environ['AURORA_POSTGRES_PWD']}\")\n",
    "    cur = conn.cursor()\n",
    "except psycopg2.Error as e: \n",
    "    print(\"Error: Could not make connection to the Postgres database\")\n",
    "    print(e)\n",
    "    "
   ]
  },
  {
   "cell_type": "markdown",
   "id": "6138278e",
   "metadata": {},
   "source": [
    "Load tables"
   ]
  },
  {
   "cell_type": "code",
   "execution_count": null,
   "id": "5212a1d7",
   "metadata": {},
   "outputs": [],
   "source": [
    "# Collect trips and events tables\n",
    "cur.execute(\"SELECT * FROM zendrive.trip\")\n",
    "trips = pd.DataFrame(cur.fetchall(), columns=[desc[0] for desc in cur.description])\n",
    "cur.execute(\"SELECT * FROM zendrive.event\")\n",
    "events = pd.DataFrame(cur.fetchall(), columns=[desc[0] for desc in cur.description])\n",
    "\n",
    "# Pick one example trip to look up\n",
    "example_trip = trips[(trips['score'].between(10, 40)) & (trips['distance'].between(5, 10))].iloc[0]\n",
    "display(example_trip)\n",
    "\n",
    "# Collect its path\n",
    "cur.execute(f\"SELECT * FROM zendrive.path_point WHERE trip_id={example_trip.trip_id}\")\n",
    "trip_paths = pd.DataFrame(cur.fetchall(), columns=[desc[0] for desc in cur.description])\n",
    "print('Total of available trip points:', trip_paths.shape[0])\n",
    "trip_paths.head()\n",
    "\n"
   ]
  },
  {
   "cell_type": "code",
   "execution_count": null,
   "id": "3084a4ad",
   "metadata": {},
   "outputs": [],
   "source": []
  }
 ],
 "metadata": {
  "kernelspec": {
   "display_name": "Python 3 (ipykernel)",
   "language": "python",
   "name": "python3"
  },
  "language_info": {
   "codemirror_mode": {
    "name": "ipython",
    "version": 3
   },
   "file_extension": ".py",
   "mimetype": "text/x-python",
   "name": "python",
   "nbconvert_exporter": "python",
   "pygments_lexer": "ipython3",
   "version": "3.9.7"
  }
 },
 "nbformat": 4,
 "nbformat_minor": 5
}
