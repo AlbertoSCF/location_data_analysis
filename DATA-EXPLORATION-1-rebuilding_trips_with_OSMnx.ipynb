{
 "cells": [
  {
   "cell_type": "markdown",
   "id": "fc480906",
   "metadata": {},
   "source": [
    "# SNAP TO MAP\n",
    "\n",
    "In this notebook we explore how we can do *map matching* - or how to go from a set of coordinate locations to a map - using OSMnx.\n",
    "\n",
    "---\n",
    "## 1. Load some data to work with\n",
    "\n",
    "We work with data from the Zendrive schema, featuring actual user trips"
   ]
  },
  {
   "cell_type": "code",
   "execution_count": 1,
   "id": "06c8e935",
   "metadata": {},
   "outputs": [],
   "source": [
    "import pandas as pd\n",
    "import psycopg2, os\n",
    "import matplotlib.pyplot as plt\n",
    "\n",
    "# Establish connection and create its cursor\n",
    "try: \n",
    "    conn = psycopg2.connect(f\"host={os.environ['AURORA_POSTGRES_HOST']} dbname={os.environ['AURORA_POSTGRES_DATABASE']} user={os.environ['AURORA_POSTGRES_USERNAME']} password={os.environ['AURORA_POSTGRES_PWD']}\")\n",
    "    cur = conn.cursor()\n",
    "except psycopg2.Error as e: \n",
    "    print(\"Error: Could not make connection to the Postgres database\")\n",
    "    print(e)\n",
    "    "
   ]
  },
  {
   "cell_type": "markdown",
   "id": "f6b282a7",
   "metadata": {},
   "source": [
    "Load tables"
   ]
  },
  {
   "cell_type": "code",
   "execution_count": 2,
   "id": "d8c6cc46",
   "metadata": {},
   "outputs": [
    {
     "data": {
      "text/plain": [
       "id                                                       14052\n",
       "trip_id                                          1625850683232\n",
       "driver                                                    1041\n",
       "created_at                          2021-07-09 17:26:23.454922\n",
       "updated_at                          2021-07-09 18:26:40.306363\n",
       "started_at                                 2021-07-09 17:11:23\n",
       "ended_at                                   2021-07-09 17:24:18\n",
       "distance                                                 6.768\n",
       "score                                                     38.0\n",
       "user_feedback                                             None\n",
       "duration_seconds                                       775.178\n",
       "trip_max_speed_kmph                                   85.69604\n",
       "latitude_start                                      -23.066954\n",
       "longitude_start                                     -47.190296\n",
       "latitude_end                                        -23.096682\n",
       "longitude_end                                       -47.201288\n",
       "hard_turn_rating                                             1\n",
       "phone_use_rating                                             5\n",
       "hard_brake_rating                                            1\n",
       "overspeeding_rating                                          1\n",
       "rapid_acceleration_rating                                    2\n",
       "drive_type                                              driver\n",
       "vehicle_type                                               car\n",
       "trip_composed_id             14052--2021-07-09 18:26:40.306363\n",
       "internal_timestamp                  2021-10-04 15:53:48.478772\n",
       "Name: 5798, dtype: object"
      ]
     },
     "metadata": {},
     "output_type": "display_data"
    },
    {
     "name": "stdout",
     "output_type": "stream",
     "text": [
      "Total of available trip points: 102\n"
     ]
    },
    {
     "data": {
      "text/html": [
       "<div>\n",
       "<style scoped>\n",
       "    .dataframe tbody tr th:only-of-type {\n",
       "        vertical-align: middle;\n",
       "    }\n",
       "\n",
       "    .dataframe tbody tr th {\n",
       "        vertical-align: top;\n",
       "    }\n",
       "\n",
       "    .dataframe thead th {\n",
       "        text-align: right;\n",
       "    }\n",
       "</style>\n",
       "<table border=\"1\" class=\"dataframe\">\n",
       "  <thead>\n",
       "    <tr style=\"text-align: right;\">\n",
       "      <th></th>\n",
       "      <th>trip_internal_id</th>\n",
       "      <th>trip_id</th>\n",
       "      <th>point_order_id</th>\n",
       "      <th>latitude</th>\n",
       "      <th>longitude</th>\n",
       "      <th>point_timestamp</th>\n",
       "      <th>time_millis</th>\n",
       "      <th>trip_created_at</th>\n",
       "      <th>trip_updated_at</th>\n",
       "      <th>point_composed_id</th>\n",
       "      <th>internal_timestamp</th>\n",
       "    </tr>\n",
       "  </thead>\n",
       "  <tbody>\n",
       "    <tr>\n",
       "      <th>0</th>\n",
       "      <td>14052</td>\n",
       "      <td>1625850683232</td>\n",
       "      <td>1</td>\n",
       "      <td>-23.066954</td>\n",
       "      <td>-47.190296</td>\n",
       "      <td>2021-07-09 14:11:23.421</td>\n",
       "      <td>1625850683421</td>\n",
       "      <td>2021-07-09 17:26:23.454922</td>\n",
       "      <td>2021-07-09 18:26:40.306363</td>\n",
       "      <td>14052--1--2021-07-09 18:26:40.306363</td>\n",
       "      <td>2021-10-04 15:54:12.020790</td>\n",
       "    </tr>\n",
       "    <tr>\n",
       "      <th>1</th>\n",
       "      <td>14052</td>\n",
       "      <td>1625850683232</td>\n",
       "      <td>2</td>\n",
       "      <td>-23.066984</td>\n",
       "      <td>-47.190228</td>\n",
       "      <td>2021-07-09 14:11:24.000</td>\n",
       "      <td>1625850684425</td>\n",
       "      <td>2021-07-09 17:26:23.454922</td>\n",
       "      <td>2021-07-09 18:26:40.306363</td>\n",
       "      <td>14052--2--2021-07-09 18:26:40.306363</td>\n",
       "      <td>2021-10-04 15:54:12.020790</td>\n",
       "    </tr>\n",
       "    <tr>\n",
       "      <th>2</th>\n",
       "      <td>14052</td>\n",
       "      <td>1625850683232</td>\n",
       "      <td>3</td>\n",
       "      <td>-23.066947</td>\n",
       "      <td>-47.190061</td>\n",
       "      <td>2021-07-09 14:11:27.000</td>\n",
       "      <td>1625850687431</td>\n",
       "      <td>2021-07-09 17:26:23.454922</td>\n",
       "      <td>2021-07-09 18:26:40.306363</td>\n",
       "      <td>14052--3--2021-07-09 18:26:40.306363</td>\n",
       "      <td>2021-10-04 15:54:12.020790</td>\n",
       "    </tr>\n",
       "    <tr>\n",
       "      <th>3</th>\n",
       "      <td>14052</td>\n",
       "      <td>1625850683232</td>\n",
       "      <td>4</td>\n",
       "      <td>-23.066893</td>\n",
       "      <td>-47.189981</td>\n",
       "      <td>2021-07-09 14:11:27.000</td>\n",
       "      <td>1625850687431</td>\n",
       "      <td>2021-07-09 17:26:23.454922</td>\n",
       "      <td>2021-07-09 18:26:40.306363</td>\n",
       "      <td>14052--4--2021-07-09 18:26:40.306363</td>\n",
       "      <td>2021-10-04 15:54:12.020790</td>\n",
       "    </tr>\n",
       "    <tr>\n",
       "      <th>4</th>\n",
       "      <td>14052</td>\n",
       "      <td>1625850683232</td>\n",
       "      <td>5</td>\n",
       "      <td>-23.066893</td>\n",
       "      <td>-47.189981</td>\n",
       "      <td>2021-07-09 14:11:27.000</td>\n",
       "      <td>1625850687431</td>\n",
       "      <td>2021-07-09 17:26:23.454922</td>\n",
       "      <td>2021-07-09 18:26:40.306363</td>\n",
       "      <td>14052--5--2021-07-09 18:26:40.306363</td>\n",
       "      <td>2021-10-04 15:54:12.020790</td>\n",
       "    </tr>\n",
       "  </tbody>\n",
       "</table>\n",
       "</div>"
      ],
      "text/plain": [
       "   trip_internal_id        trip_id  point_order_id   latitude  longitude  \\\n",
       "0             14052  1625850683232               1 -23.066954 -47.190296   \n",
       "1             14052  1625850683232               2 -23.066984 -47.190228   \n",
       "2             14052  1625850683232               3 -23.066947 -47.190061   \n",
       "3             14052  1625850683232               4 -23.066893 -47.189981   \n",
       "4             14052  1625850683232               5 -23.066893 -47.189981   \n",
       "\n",
       "          point_timestamp    time_millis            trip_created_at  \\\n",
       "0 2021-07-09 14:11:23.421  1625850683421 2021-07-09 17:26:23.454922   \n",
       "1 2021-07-09 14:11:24.000  1625850684425 2021-07-09 17:26:23.454922   \n",
       "2 2021-07-09 14:11:27.000  1625850687431 2021-07-09 17:26:23.454922   \n",
       "3 2021-07-09 14:11:27.000  1625850687431 2021-07-09 17:26:23.454922   \n",
       "4 2021-07-09 14:11:27.000  1625850687431 2021-07-09 17:26:23.454922   \n",
       "\n",
       "             trip_updated_at                     point_composed_id  \\\n",
       "0 2021-07-09 18:26:40.306363  14052--1--2021-07-09 18:26:40.306363   \n",
       "1 2021-07-09 18:26:40.306363  14052--2--2021-07-09 18:26:40.306363   \n",
       "2 2021-07-09 18:26:40.306363  14052--3--2021-07-09 18:26:40.306363   \n",
       "3 2021-07-09 18:26:40.306363  14052--4--2021-07-09 18:26:40.306363   \n",
       "4 2021-07-09 18:26:40.306363  14052--5--2021-07-09 18:26:40.306363   \n",
       "\n",
       "          internal_timestamp  \n",
       "0 2021-10-04 15:54:12.020790  \n",
       "1 2021-10-04 15:54:12.020790  \n",
       "2 2021-10-04 15:54:12.020790  \n",
       "3 2021-10-04 15:54:12.020790  \n",
       "4 2021-10-04 15:54:12.020790  "
      ]
     },
     "execution_count": 2,
     "metadata": {},
     "output_type": "execute_result"
    }
   ],
   "source": [
    "# Collect trips table\n",
    "cur.execute(\"SELECT * FROM zendrive.trip\")\n",
    "trips = pd.DataFrame(cur.fetchall(), columns=[desc[0] for desc in cur.description])\n",
    "\n",
    "# Collect events table\n",
    "cur.execute(\"SELECT * FROM zendrive.event\")\n",
    "events = pd.DataFrame(cur.fetchall(), columns=[desc[0] for desc in cur.description])\n",
    "\n",
    "# Pick one example trip to look up\n",
    "example_trip = trips[trips['trip_id']==1625850683232].iloc[0]\n",
    "#example_trip = trips[(trips['score'].between(10, 40)) & \n",
    "#                     (trips['distance'].between(5, 10)) & \n",
    "#                     (trips['drive_type']=='driver')].iloc[0]\n",
    "display(example_trip)\n",
    "\n",
    "# Collect its path\n",
    "cur.execute(f\"SELECT * FROM zendrive.path_point WHERE trip_id={example_trip.trip_id}\")\n",
    "trip_paths = pd.DataFrame(cur.fetchall(), columns=[desc[0] for desc in cur.description])\n",
    "print('Total of available trip points:', trip_paths.shape[0])\n",
    "trip_paths.head()\n"
   ]
  },
  {
   "cell_type": "markdown",
   "id": "e5f1fdac",
   "metadata": {},
   "source": [
    "---\n",
    "## 2. City networks\n",
    "\n",
    "### 2.1. Collecting a ceity network graph\n",
    "\n",
    "OSMnx allows receiving a network of a city by:\n",
    "- Geocoding the query for the selected city to retrieve the place boundaries from the Nominatim API\n",
    "- Retrieving the drivable street network data within those boundaries from the Overpass API\n",
    "- Constructing a graph model (NetworkX MultiDiGraph object)"
   ]
  },
  {
   "cell_type": "code",
   "execution_count": 8,
   "id": "af66eed4",
   "metadata": {},
   "outputs": [
    {
     "data": {
      "image/png": "[encoded data removed]",
      "text/plain": [
       "<Figure size 576x576 with 1 Axes>"
      ]
     },
     "metadata": {},
     "output_type": "display_data"
    }
   ],
   "source": [
    "import networkx as nx\n",
    "import osmnx as ox\n",
    "\n",
    "# Chose a place to download the network for\n",
    "place = \"Sao Paulo, Brazil\"\n",
    "# place = {\"city\": \"San Francisco\", \"state\": \"California\", \"country\": \"USA\"} --> Use this for less ambiguous queries\n",
    "\n",
    "# Available network types\n",
    "network_types = ['drive', # get drivable public streets (but not service roads)\n",
    "                 'drive_service', # get drivable streets, including service roads\n",
    "                 'walk', # get all streets and paths that pedestrians can use (this network type ignores one-way directionality)\n",
    "                 'bike', # get all streets and paths that cyclists can use\n",
    "                 'all', # download all non-private OSM streets and paths (this is the default network type unless you specify a different one)\n",
    "                 'all_private', # download all OSM streets and paths, including private-access ones\n",
    "                ]\n",
    "\n",
    "# Get the network for our place and our network type\n",
    "G = ox.graph_from_place(place, network_type=network_types[0])\n",
    "fig, ax = ox.plot_graph(G)\n"
   ]
  },
  {
   "cell_type": "markdown",
   "id": "b75033f6",
   "metadata": {},
   "source": [
    "A few notes:\n",
    "\n",
    "- **Topological simplification**: By default OSMnx simplifies graphs removing some weirdness in what is received from OpenStreetMap... in case you needed to debug a location graph check section 3 of https://github.com/gboeing/osmnx-examples/blob/main/notebooks/01-overview-osmnx.ipynb\n",
    "\n",
    "- **Network querying**: This is the easiest way to collect a network but there's many more - using (lon, lat) plus distance, using a bounding box... Check all modes here https://github.com/gboeing/osmnx-examples/blob/main/notebooks/01-overview-osmnx.ipynb\n",
    "\n",
    "We can save the network model easily"
   ]
  },
  {
   "cell_type": "code",
   "execution_count": 12,
   "id": "262968b1",
   "metadata": {},
   "outputs": [],
   "source": [
    "filepath = \"data/sao_paulo_network.graphml\"\n",
    "\n",
    "# Save street network as GraphML file to work with later in OSMnx or networkx or gephi\n",
    "#ox.save_graphml(G, filepath=filepath)\n",
    "\n",
    "# Load street network back\n",
    "#G = ox.io.load_graphml(filepath)\n"
   ]
  },
  {
   "cell_type": "markdown",
   "id": "a695fce4",
   "metadata": {},
   "source": [
    "The graph model can be converted easily to:\n",
    "- **Undirected MultiGraph**: `ox.utils_graph.get_undirected(G)`\n",
    "- **DiGraph**: `ox.utils_graph.get_digraph(G)`\n",
    "- **GeoPandas node/edge GeoDataFrame**: `gdf_nodes, gdf_edges = ox.graph_to_gdfs(G)`\n",
    "\n",
    "### 2.2. Network stats\n",
    "\n",
    "Basic network stats including area, edge densities:\n",
    "- Documentation: https://osmnx.readthedocs.io/en/stable/osmnx.html#module-osmnx.stats\n",
    "- Example at https://github.com/gboeing/osmnx-examples/blob/main/notebooks/00-osmnx-features-demo.ipynb\n",
    "\n",
    "---\n",
    "\n",
    "## 3. Network structure\n",
    "\n",
    "Our network is organized in edges and nodes."
   ]
  },
  {
   "cell_type": "code",
   "execution_count": 31,
   "id": "fbbc12b5",
   "metadata": {},
   "outputs": [
    {
     "name": "stdout",
     "output_type": "stream",
     "text": [
      "Example node\n"
     ]
    },
    {
     "data": {
      "text/plain": [
       "(582139, {'y': -23.5346165, 'x': -46.7481485, 'street_count': 3})"
      ]
     },
     "metadata": {},
     "output_type": "display_data"
    },
    {
     "name": "stdout",
     "output_type": "stream",
     "text": [
      "Example edge\n"
     ]
    },
    {
     "data": {
      "text/plain": [
       "(577239,\n",
       " 6549930664,\n",
       " {'osmid': [768965403, 710311587, 768965404],\n",
       "  'oneway': True,\n",
       "  'lanes': '5',\n",
       "  'ref': 'SP-015',\n",
       "  'name': 'Marginal Pinheiros, Pista Local',\n",
       "  'highway': 'motorway',\n",
       "  'maxspeed': '90',\n",
       "  'length': 178.30599999999998,\n",
       "  'geometry': <shapely.geometry.linestring.LineString at 0x7fc0ff202820>})"
      ]
     },
     "metadata": {},
     "output_type": "display_data"
    }
   ],
   "source": [
    "# Nodes have a point geometry, with (lon, lat) coordinates and a count of edges connected to them\n",
    "print(\"Example node\")\n",
    "display(list(G.nodes.data())[4])\n",
    "\n",
    "# Edge data is more interesting, featuring all node connections and all relevant road info\n",
    "print(\"Example edge\")\n",
    "display(list(G.edges.data())[4])\n"
   ]
  },
  {
   "cell_type": "code",
   "execution_count": null,
   "id": "acdeb14f",
   "metadata": {},
   "outputs": [],
   "source": []
  },
  {
   "cell_type": "markdown",
   "id": "db9a2239",
   "metadata": {},
   "source": [
    "## 4. Nearest node/edge search\n",
    "\n",
    "We can easily collect our nearest node or nearest edge with "
   ]
  },
  {
   "cell_type": "code",
   "execution_count": null,
   "id": "afc8d60b",
   "metadata": {},
   "outputs": [],
   "source": []
  },
  {
   "cell_type": "code",
   "execution_count": null,
   "id": "730dd40e",
   "metadata": {},
   "outputs": [],
   "source": []
  },
  {
   "cell_type": "code",
   "execution_count": null,
   "id": "27a22f38",
   "metadata": {},
   "outputs": [],
   "source": []
  },
  {
   "cell_type": "code",
   "execution_count": null,
   "id": "77e0f730",
   "metadata": {},
   "outputs": [],
   "source": []
  },
  {
   "cell_type": "code",
   "execution_count": null,
   "id": "91cb9147",
   "metadata": {},
   "outputs": [],
   "source": []
  },
  {
   "cell_type": "code",
   "execution_count": null,
   "id": "06c42951",
   "metadata": {},
   "outputs": [],
   "source": []
  },
  {
   "cell_type": "code",
   "execution_count": null,
   "id": "7ea28d99",
   "metadata": {},
   "outputs": [],
   "source": []
  },
  {
   "cell_type": "code",
   "execution_count": null,
   "id": "a156dc88",
   "metadata": {},
   "outputs": [],
   "source": []
  },
  {
   "cell_type": "code",
   "execution_count": null,
   "id": "e1f95a5c",
   "metadata": {},
   "outputs": [],
   "source": []
  },
  {
   "cell_type": "code",
   "execution_count": null,
   "id": "d71fc66f",
   "metadata": {},
   "outputs": [],
   "source": []
  },
  {
   "cell_type": "code",
   "execution_count": null,
   "id": "e6d70632",
   "metadata": {},
   "outputs": [],
   "source": []
  },
  {
   "cell_type": "code",
   "execution_count": null,
   "id": "30a43ce1",
   "metadata": {},
   "outputs": [],
   "source": []
  }
 ],
 "metadata": {
  "kernelspec": {
   "display_name": "Python 3 (ipykernel)",
   "language": "python",
   "name": "python3"
  },
  "language_info": {
   "codemirror_mode": {
    "name": "ipython",
    "version": 3
   },
   "file_extension": ".py",
   "mimetype": "text/x-python",
   "name": "python",
   "nbconvert_exporter": "python",
   "pygments_lexer": "ipython3",
   "version": "3.9.7"
  }
 },
 "nbformat": 4,
 "nbformat_minor": 5
}
